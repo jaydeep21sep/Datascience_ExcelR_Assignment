{
 "cells": [
  {
   "cell_type": "code",
   "execution_count": 1,
   "id": "4f548814-95b1-4e69-84cf-c43a9cc7cd09",
   "metadata": {},
   "outputs": [],
   "source": [
    "a = [1,2]\n",
    "b = [3,4]"
   ]
  },
  {
   "cell_type": "code",
   "execution_count": 2,
   "id": "002080e2-a979-4791-9308-9ef3e48a1e9d",
   "metadata": {},
   "outputs": [],
   "source": [
    "# a*b it gives me error == can't multiply sequence by non-int of type 'list'"
   ]
  },
  {
   "cell_type": "code",
   "execution_count": 3,
   "id": "ec1deb50-a7d9-407a-90f7-5dccda6120fd",
   "metadata": {},
   "outputs": [],
   "source": [
    "# a/b #it gives me error == unsupported operand type(s) for /: 'list' and 'list'"
   ]
  },
  {
   "cell_type": "code",
   "execution_count": 4,
   "id": "d3196a5f-db36-48de-b242-dbbb46781d8f",
   "metadata": {},
   "outputs": [],
   "source": [
    " import numpy as np   # np is alice used for numpy"
   ]
  },
  {
   "cell_type": "markdown",
   "id": "a0030578-5be0-4ab8-8c3d-97df2cf7f12f",
   "metadata": {},
   "source": [
    "## 1D Array"
   ]
  },
  {
   "cell_type": "code",
   "execution_count": 5,
   "id": "a962be9b-674a-487a-b620-2c4813e7788c",
   "metadata": {},
   "outputs": [
    {
     "data": {
      "text/plain": [
       "array([1, 2, 3, 4, 5, 6, 7, 8])"
      ]
     },
     "execution_count": 5,
     "metadata": {},
     "output_type": "execute_result"
    }
   ],
   "source": [
    "one_D = np.array([1,2,3,4,5,6,7,8])\n",
    "one_D"
   ]
  },
  {
   "cell_type": "code",
   "execution_count": 6,
   "id": "b3d1d040-cd40-43d7-9cec-0094036248e7",
   "metadata": {},
   "outputs": [
    {
     "data": {
      "text/plain": [
       "1"
      ]
     },
     "execution_count": 6,
     "metadata": {},
     "output_type": "execute_result"
    }
   ],
   "source": [
    "one_D.ndim"
   ]
  },
  {
   "cell_type": "code",
   "execution_count": 7,
   "id": "5920f591-3333-4044-b6bf-c1f840130f04",
   "metadata": {},
   "outputs": [
    {
     "data": {
      "text/plain": [
       "8"
      ]
     },
     "execution_count": 7,
     "metadata": {},
     "output_type": "execute_result"
    }
   ],
   "source": [
    "one_D.size  # no of element present in array"
   ]
  },
  {
   "cell_type": "code",
   "execution_count": 8,
   "id": "683028f3-d3b6-4df2-86ea-8cdd758f529f",
   "metadata": {},
   "outputs": [
    {
     "data": {
      "text/plain": [
       "8"
      ]
     },
     "execution_count": 8,
     "metadata": {},
     "output_type": "execute_result"
    }
   ],
   "source": [
    "one_D.max()"
   ]
  },
  {
   "cell_type": "code",
   "execution_count": 9,
   "id": "3bcf5538-8bd4-40ee-8b65-8bd6136ee529",
   "metadata": {},
   "outputs": [
    {
     "data": {
      "text/plain": [
       "1"
      ]
     },
     "execution_count": 9,
     "metadata": {},
     "output_type": "execute_result"
    }
   ],
   "source": [
    "one_D.min()"
   ]
  },
  {
   "cell_type": "code",
   "execution_count": 10,
   "id": "5da874f3-d9fd-44ae-817f-85e4b2dea767",
   "metadata": {},
   "outputs": [
    {
     "data": {
      "text/plain": [
       "36"
      ]
     },
     "execution_count": 10,
     "metadata": {},
     "output_type": "execute_result"
    }
   ],
   "source": [
    "one_D.sum()"
   ]
  },
  {
   "cell_type": "code",
   "execution_count": 11,
   "id": "6c8425c1-b938-47a6-98f5-ed172bbe2e23",
   "metadata": {},
   "outputs": [
    {
     "data": {
      "text/plain": [
       "3"
      ]
     },
     "execution_count": 11,
     "metadata": {},
     "output_type": "execute_result"
    }
   ],
   "source": [
    "one_D[2]"
   ]
  },
  {
   "cell_type": "code",
   "execution_count": 12,
   "id": "ecffefd3-0bd8-4356-8dd1-693447adf74b",
   "metadata": {},
   "outputs": [
    {
     "data": {
      "text/plain": [
       "dtype('int32')"
      ]
     },
     "execution_count": 12,
     "metadata": {},
     "output_type": "execute_result"
    }
   ],
   "source": [
    "one_D.dtype"
   ]
  },
  {
   "cell_type": "code",
   "execution_count": 13,
   "id": "eabc07eb-142e-4025-9570-72d65d818a43",
   "metadata": {},
   "outputs": [],
   "source": [
    "one_D = np.array([1,2,3,4,5,6,7,9.5])"
   ]
  },
  {
   "cell_type": "code",
   "execution_count": 14,
   "id": "6dda5287-d655-497d-a502-6154712b8eb9",
   "metadata": {},
   "outputs": [
    {
     "data": {
      "text/plain": [
       "dtype('float64')"
      ]
     },
     "execution_count": 14,
     "metadata": {},
     "output_type": "execute_result"
    }
   ],
   "source": [
    "one_D.dtype"
   ]
  },
  {
   "cell_type": "code",
   "execution_count": 15,
   "id": "133092f3-648c-49fc-a17c-42ef99cbda21",
   "metadata": {},
   "outputs": [
    {
     "data": {
      "text/plain": [
       "array([1. , 2. , 3. , 4. , 5. , 6. , 7. , 9.5])"
      ]
     },
     "execution_count": 15,
     "metadata": {},
     "output_type": "execute_result"
    }
   ],
   "source": [
    "one_D"
   ]
  },
  {
   "cell_type": "code",
   "execution_count": 16,
   "id": "ed6ba7f0-7ea7-4bb1-9901-ed93aa73f871",
   "metadata": {},
   "outputs": [],
   "source": [
    "one_D[7] = 8"
   ]
  },
  {
   "cell_type": "code",
   "execution_count": 17,
   "id": "d0de25a8-503a-4125-bd2b-438cddb6d6b6",
   "metadata": {},
   "outputs": [
    {
     "data": {
      "text/plain": [
       "array([1., 2., 3., 4., 5., 6., 7., 8.])"
      ]
     },
     "execution_count": 17,
     "metadata": {},
     "output_type": "execute_result"
    }
   ],
   "source": [
    "one_D"
   ]
  },
  {
   "cell_type": "code",
   "execution_count": 18,
   "id": "44014b25-3204-421c-8eee-ba3bd15bff62",
   "metadata": {},
   "outputs": [
    {
     "data": {
      "text/plain": [
       "array([5., 6., 7.])"
      ]
     },
     "execution_count": 18,
     "metadata": {},
     "output_type": "execute_result"
    }
   ],
   "source": [
    "one_D[4:7]"
   ]
  },
  {
   "cell_type": "code",
   "execution_count": 19,
   "id": "c655cb67-7133-495e-8751-a9302e2f7fc0",
   "metadata": {},
   "outputs": [],
   "source": [
    "one_D[4:7] = [55,66,77]"
   ]
  },
  {
   "cell_type": "code",
   "execution_count": 20,
   "id": "50b4010d-c905-4a44-bf2c-66226b9aee14",
   "metadata": {},
   "outputs": [
    {
     "data": {
      "text/plain": [
       "array([ 1.,  2.,  3.,  4., 55., 66., 77.,  8.])"
      ]
     },
     "execution_count": 20,
     "metadata": {},
     "output_type": "execute_result"
    }
   ],
   "source": [
    "one_D"
   ]
  },
  {
   "cell_type": "code",
   "execution_count": 21,
   "id": "87f01dd9-958a-4310-bd97-2ae2ba869306",
   "metadata": {},
   "outputs": [],
   "source": [
    "c = np.delete(one_D,[5,6,7])  # Temperary delet the data\n",
    "                   # Delet with only index number"
   ]
  },
  {
   "cell_type": "code",
   "execution_count": 22,
   "id": "dcf08f88-35f1-419f-9ce3-40df599cd591",
   "metadata": {},
   "outputs": [
    {
     "data": {
      "text/plain": [
       "array([ 1.,  2.,  3.,  4., 55., 66., 77.,  8.])"
      ]
     },
     "execution_count": 22,
     "metadata": {},
     "output_type": "execute_result"
    }
   ],
   "source": [
    "one_D"
   ]
  },
  {
   "cell_type": "code",
   "execution_count": 23,
   "id": "7a9d2445-6d21-40fa-9f76-75c5bfb86f8d",
   "metadata": {},
   "outputs": [
    {
     "data": {
      "text/plain": [
       "array([  1.,   2.,   3.,   4.,  55.,  66.,  77.,   8., 100., 200.])"
      ]
     },
     "execution_count": 23,
     "metadata": {},
     "output_type": "execute_result"
    }
   ],
   "source": [
    "a = np.append(one_D,[100,200])  # Temporary add the data at the last of array\n",
    "a                              # add with only index number"
   ]
  },
  {
   "cell_type": "code",
   "execution_count": 24,
   "id": "d329c9cc-1a72-4f51-8efa-8b664975fc8c",
   "metadata": {},
   "outputs": [
    {
     "data": {
      "text/plain": [
       "array([ 1.,  2.,  3.,  4., 55., 66., 77.,  8.])"
      ]
     },
     "execution_count": 24,
     "metadata": {},
     "output_type": "execute_result"
    }
   ],
   "source": [
    "one_D"
   ]
  },
  {
   "cell_type": "code",
   "execution_count": 25,
   "id": "441fce4a-8fa4-487e-a5f8-6b0d49ccc2fa",
   "metadata": {},
   "outputs": [
    {
     "data": {
      "text/plain": [
       "array([ 1.,  2.,  3.,  4., 44., 55., 66., 77.,  8.])"
      ]
     },
     "execution_count": 25,
     "metadata": {},
     "output_type": "execute_result"
    }
   ],
   "source": [
    "s = np.insert(one_D,4,44)\n",
    "s"
   ]
  },
  {
   "cell_type": "code",
   "execution_count": 26,
   "id": "2e22202f-15a5-486c-9bae-4f9e0c1ae68b",
   "metadata": {},
   "outputs": [
    {
     "data": {
      "text/plain": [
       "array([ 1.,  2.,  3.,  4., 55., 66., 77.,  8.])"
      ]
     },
     "execution_count": 26,
     "metadata": {},
     "output_type": "execute_result"
    }
   ],
   "source": [
    "one_D"
   ]
  },
  {
   "cell_type": "code",
   "execution_count": 27,
   "id": "118068cc-bf9e-409a-bd77-c6dcee818529",
   "metadata": {},
   "outputs": [
    {
     "data": {
      "text/plain": [
       "27.0"
      ]
     },
     "execution_count": 27,
     "metadata": {},
     "output_type": "execute_result"
    }
   ],
   "source": [
    "one_D.mean()"
   ]
  },
  {
   "cell_type": "code",
   "execution_count": 28,
   "id": "aa177265-b886-42f0-9a48-3fd8b89c14ec",
   "metadata": {},
   "outputs": [
    {
     "data": {
      "text/plain": [
       "64"
      ]
     },
     "execution_count": 28,
     "metadata": {},
     "output_type": "execute_result"
    }
   ],
   "source": [
    "one_D.nbytes"
   ]
  },
  {
   "cell_type": "code",
   "execution_count": 29,
   "id": "65808f09-f781-4fc2-ad5c-e90f0f2d3ac9",
   "metadata": {},
   "outputs": [],
   "source": [
    "a = np.array([6,8,10])\n",
    "b = np.array([2,4,6])\n"
   ]
  },
  {
   "cell_type": "code",
   "execution_count": 30,
   "id": "97e2d181-ad43-48cb-9d49-7bc0c06ff820",
   "metadata": {},
   "outputs": [
    {
     "data": {
      "text/plain": [
       "array([12, 32, 60])"
      ]
     },
     "execution_count": 30,
     "metadata": {},
     "output_type": "execute_result"
    }
   ],
   "source": [
    "a*b"
   ]
  },
  {
   "cell_type": "code",
   "execution_count": 31,
   "id": "4fea8e92-1b58-4b47-8a8b-0f0de8a0a57a",
   "metadata": {},
   "outputs": [
    {
     "data": {
      "text/plain": [
       "array([3.        , 2.        , 1.66666667])"
      ]
     },
     "execution_count": 31,
     "metadata": {},
     "output_type": "execute_result"
    }
   ],
   "source": [
    "a/b"
   ]
  },
  {
   "cell_type": "markdown",
   "id": "a7d3234a-5904-4572-97b2-79fee9fcf7f6",
   "metadata": {},
   "source": [
    "## Two Dimensional Array"
   ]
  },
  {
   "cell_type": "code",
   "execution_count": 32,
   "id": "10445800-88df-4e13-8ecd-a21d2df43b71",
   "metadata": {},
   "outputs": [],
   "source": [
    "two_dim = np.array([[1,2,3],[4,5,6,],[7,8,9]]) "
   ]
  },
  {
   "cell_type": "code",
   "execution_count": 33,
   "id": "c94623f5-8515-4430-af8d-4cc86e1819f2",
   "metadata": {},
   "outputs": [
    {
     "data": {
      "text/plain": [
       "array([[1, 2, 3],\n",
       "       [4, 5, 6],\n",
       "       [7, 8, 9]])"
      ]
     },
     "execution_count": 33,
     "metadata": {},
     "output_type": "execute_result"
    }
   ],
   "source": [
    "two_dim"
   ]
  },
  {
   "cell_type": "code",
   "execution_count": 34,
   "id": "9e7809c0-393c-47a0-8edd-d01169f893f4",
   "metadata": {},
   "outputs": [
    {
     "data": {
      "text/plain": [
       "2"
      ]
     },
     "execution_count": 34,
     "metadata": {},
     "output_type": "execute_result"
    }
   ],
   "source": [
    "two_dim[0][1]"
   ]
  },
  {
   "cell_type": "code",
   "execution_count": 35,
   "id": "13b7b6ec-5d66-4c5f-9f00-2d4987400949",
   "metadata": {},
   "outputs": [
    {
     "data": {
      "text/plain": [
       "9"
      ]
     },
     "execution_count": 35,
     "metadata": {},
     "output_type": "execute_result"
    }
   ],
   "source": [
    "two_dim[2,2]"
   ]
  },
  {
   "cell_type": "code",
   "execution_count": 36,
   "id": "eb713fa7-154f-4527-8330-cb2db4b0f6ee",
   "metadata": {},
   "outputs": [
    {
     "data": {
      "text/plain": [
       "array([4, 5, 6])"
      ]
     },
     "execution_count": 36,
     "metadata": {},
     "output_type": "execute_result"
    }
   ],
   "source": [
    "two_dim[1]  # Access 1st Row"
   ]
  },
  {
   "cell_type": "code",
   "execution_count": 37,
   "id": "4b7b5614-adc2-4238-af85-70e46a56ed93",
   "metadata": {},
   "outputs": [
    {
     "data": {
      "text/plain": [
       "array([[1, 2, 3],\n",
       "       [4, 5, 6]])"
      ]
     },
     "execution_count": 37,
     "metadata": {},
     "output_type": "execute_result"
    }
   ],
   "source": [
    "two_dim[0:2]"
   ]
  },
  {
   "cell_type": "code",
   "execution_count": 38,
   "id": "a2267de0-07f9-47e0-bd55-519f71f344e0",
   "metadata": {},
   "outputs": [
    {
     "data": {
      "text/plain": [
       "array([[2],\n",
       "       [5],\n",
       "       [8]])"
      ]
     },
     "execution_count": 38,
     "metadata": {},
     "output_type": "execute_result"
    }
   ],
   "source": [
    "two_dim[:,1:2]  # Only column access"
   ]
  },
  {
   "cell_type": "code",
   "execution_count": 39,
   "id": "0171ad49-8da6-42d3-ad61-41697f5f405c",
   "metadata": {},
   "outputs": [
    {
     "data": {
      "text/plain": [
       "array([[1, 3],\n",
       "       [4, 6],\n",
       "       [7, 9]])"
      ]
     },
     "execution_count": 39,
     "metadata": {},
     "output_type": "execute_result"
    }
   ],
   "source": [
    "two_dim[:,0::2]"
   ]
  },
  {
   "cell_type": "code",
   "execution_count": 40,
   "id": "28ea31e3-82c4-4f8b-82f5-0e5cf88e920d",
   "metadata": {},
   "outputs": [
    {
     "data": {
      "text/plain": [
       "array([4, 6])"
      ]
     },
     "execution_count": 40,
     "metadata": {},
     "output_type": "execute_result"
    }
   ],
   "source": [
    "two_dim[1,[0,2]]"
   ]
  },
  {
   "cell_type": "code",
   "execution_count": 41,
   "id": "f475030d-6e0c-4214-8190-e1ab4e1ae211",
   "metadata": {},
   "outputs": [
    {
     "data": {
      "text/plain": [
       "array([[5],\n",
       "       [8]])"
      ]
     },
     "execution_count": 41,
     "metadata": {},
     "output_type": "execute_result"
    }
   ],
   "source": [
    "two_dim[1:,1:2]"
   ]
  },
  {
   "cell_type": "code",
   "execution_count": 42,
   "id": "a5c66d2b-22ab-443f-a088-54c93e558827",
   "metadata": {},
   "outputs": [
    {
     "data": {
      "text/plain": [
       "numpy.ndarray"
      ]
     },
     "execution_count": 42,
     "metadata": {},
     "output_type": "execute_result"
    }
   ],
   "source": [
    "type(two_dim)"
   ]
  },
  {
   "cell_type": "code",
   "execution_count": 43,
   "id": "f1811598-dcc1-4663-b431-deb10f1021fc",
   "metadata": {},
   "outputs": [
    {
     "data": {
      "text/plain": [
       "2"
      ]
     },
     "execution_count": 43,
     "metadata": {},
     "output_type": "execute_result"
    }
   ],
   "source": [
    "two_dim.ndim"
   ]
  },
  {
   "cell_type": "code",
   "execution_count": 44,
   "id": "e2894bc0-de04-4856-8793-36606a38c8da",
   "metadata": {},
   "outputs": [
    {
     "data": {
      "text/plain": [
       "36"
      ]
     },
     "execution_count": 44,
     "metadata": {},
     "output_type": "execute_result"
    }
   ],
   "source": [
    "two_dim.nbytes"
   ]
  },
  {
   "cell_type": "code",
   "execution_count": 45,
   "id": "613f4a20-bc62-4f27-9547-16a0c95c9bca",
   "metadata": {},
   "outputs": [
    {
     "data": {
      "text/plain": [
       "9"
      ]
     },
     "execution_count": 45,
     "metadata": {},
     "output_type": "execute_result"
    }
   ],
   "source": [
    "two_dim.size"
   ]
  },
  {
   "cell_type": "code",
   "execution_count": 46,
   "id": "da7eb3e2-ae9f-4f3d-9cd7-c82abe649ae8",
   "metadata": {},
   "outputs": [
    {
     "data": {
      "text/plain": [
       "(3, 3)"
      ]
     },
     "execution_count": 46,
     "metadata": {},
     "output_type": "execute_result"
    }
   ],
   "source": [
    "two_dim.shape"
   ]
  },
  {
   "cell_type": "code",
   "execution_count": 47,
   "id": "3d43d7ec-74f2-411c-aa94-9a6cee3d53be",
   "metadata": {},
   "outputs": [
    {
     "data": {
      "text/plain": [
       "array([[1, 4, 7],\n",
       "       [2, 5, 8],\n",
       "       [3, 6, 9]])"
      ]
     },
     "execution_count": 47,
     "metadata": {},
     "output_type": "execute_result"
    }
   ],
   "source": [
    "two_dim.transpose()"
   ]
  },
  {
   "cell_type": "code",
   "execution_count": 48,
   "id": "f952360c-2251-404f-b2cc-08762bb317f5",
   "metadata": {},
   "outputs": [
    {
     "data": {
      "text/plain": [
       "array([1, 2, 3, 4, 5, 6, 7, 8, 9])"
      ]
     },
     "execution_count": 48,
     "metadata": {},
     "output_type": "execute_result"
    }
   ],
   "source": [
    "np.unique(two_dim)"
   ]
  },
  {
   "cell_type": "code",
   "execution_count": 49,
   "id": "452bbe8b-934d-4aa2-8d71-3687979cefcf",
   "metadata": {},
   "outputs": [
    {
     "data": {
      "text/plain": [
       "array([[1, 2, 3],\n",
       "       [4, 5, 6],\n",
       "       [7, 8, 9]])"
      ]
     },
     "execution_count": 49,
     "metadata": {},
     "output_type": "execute_result"
    }
   ],
   "source": [
    "two_dim"
   ]
  },
  {
   "cell_type": "code",
   "execution_count": 50,
   "id": "f9814244-c640-416f-a086-741db9253536",
   "metadata": {},
   "outputs": [],
   "source": [
    "two_dim[2,1] =70"
   ]
  },
  {
   "cell_type": "code",
   "execution_count": 51,
   "id": "c9531136-953f-408d-ad67-e28cbaf09cfe",
   "metadata": {},
   "outputs": [
    {
     "data": {
      "text/plain": [
       "array([[ 1,  2,  3],\n",
       "       [ 4,  5,  6],\n",
       "       [ 7, 70,  9]])"
      ]
     },
     "execution_count": 51,
     "metadata": {},
     "output_type": "execute_result"
    }
   ],
   "source": [
    "two_dim"
   ]
  },
  {
   "cell_type": "code",
   "execution_count": 52,
   "id": "ced77483-a528-40c8-b038-08ef25845f22",
   "metadata": {},
   "outputs": [
    {
     "data": {
      "text/plain": [
       "array([ 1,  2, 70, 80, 90,  3,  4,  5,  6,  7, 70,  9])"
      ]
     },
     "execution_count": 52,
     "metadata": {},
     "output_type": "execute_result"
    }
   ],
   "source": [
    "np.insert(two_dim,2,[70,80,90])"
   ]
  },
  {
   "cell_type": "code",
   "execution_count": 53,
   "id": "fe23abc5-280a-4018-a4d5-1c0dec6b2a1f",
   "metadata": {},
   "outputs": [
    {
     "data": {
      "text/plain": [
       "array([[ 1,  2,  3],\n",
       "       [ 4,  5,  6],\n",
       "       [ 7, 70,  9],\n",
       "       [70, 80, 90]])"
      ]
     },
     "execution_count": 53,
     "metadata": {},
     "output_type": "execute_result"
    }
   ],
   "source": [
    "np.insert(two_dim,3,[70,80,90],axis=0)  # Rowwise performance = 0"
   ]
  },
  {
   "cell_type": "code",
   "execution_count": 54,
   "id": "17d047ae-c95f-4bfb-80cf-98c0401aae41",
   "metadata": {},
   "outputs": [
    {
     "data": {
      "text/plain": [
       "array([[ 1,  2,  3, 70],\n",
       "       [ 4,  5,  6, 80],\n",
       "       [ 7, 70,  9, 90]])"
      ]
     },
     "execution_count": 54,
     "metadata": {},
     "output_type": "execute_result"
    }
   ],
   "source": [
    "np.insert(two_dim,3,[70,80,90],axis=1) # Columnwise performance = 1"
   ]
  },
  {
   "cell_type": "code",
   "execution_count": 55,
   "id": "ac0a0b10-021a-40b3-96da-8095279c3b51",
   "metadata": {},
   "outputs": [
    {
     "data": {
      "text/plain": [
       "array([[ 1,  2,  3],\n",
       "       [ 4,  5,  6],\n",
       "       [ 7, 70,  9]])"
      ]
     },
     "execution_count": 55,
     "metadata": {},
     "output_type": "execute_result"
    }
   ],
   "source": [
    "two_dim"
   ]
  },
  {
   "cell_type": "code",
   "execution_count": 56,
   "id": "ec122090-9984-4fd4-8cab-16bf90613528",
   "metadata": {},
   "outputs": [
    {
     "data": {
      "text/plain": [
       "array([[  1,   2,   3],\n",
       "       [  4,   5,   6],\n",
       "       [  7,  70,   9],\n",
       "       [100, 200, 300]])"
      ]
     },
     "execution_count": 56,
     "metadata": {},
     "output_type": "execute_result"
    }
   ],
   "source": [
    "np.append(two_dim,np.array([[100,200,300]]),axis = 0)"
   ]
  },
  {
   "cell_type": "code",
   "execution_count": 57,
   "id": "66f5edaa-631d-4af3-a86d-f1c9875fdf55",
   "metadata": {},
   "outputs": [
    {
     "data": {
      "text/plain": [
       "array([[ 1,  2,  3],\n",
       "       [ 4,  5,  6],\n",
       "       [ 7, 70,  9]])"
      ]
     },
     "execution_count": 57,
     "metadata": {},
     "output_type": "execute_result"
    }
   ],
   "source": [
    "two_dim"
   ]
  },
  {
   "cell_type": "code",
   "execution_count": 58,
   "id": "e13bfe17-43fa-4233-9a0b-bbd7eafe2890",
   "metadata": {},
   "outputs": [
    {
     "data": {
      "text/plain": [
       "array([[  1,   2,   3, 100],\n",
       "       [  4,   5,   6, 200],\n",
       "       [  7,  70,   9, 300]])"
      ]
     },
     "execution_count": 58,
     "metadata": {},
     "output_type": "execute_result"
    }
   ],
   "source": [
    "np.append(two_dim,np.array([[100],[200],[300]]),axis = 1)  # for column use individual square"
   ]
  },
  {
   "cell_type": "code",
   "execution_count": 59,
   "id": "6b5e971d-5656-4457-b1d9-c8ba9c08c0ca",
   "metadata": {},
   "outputs": [
    {
     "data": {
      "text/plain": [
       "array([[ 1,  2,  3],\n",
       "       [ 4,  5,  6],\n",
       "       [ 7, 70,  9]])"
      ]
     },
     "execution_count": 59,
     "metadata": {},
     "output_type": "execute_result"
    }
   ],
   "source": [
    "two_dim"
   ]
  },
  {
   "cell_type": "markdown",
   "id": "9d452655-8edb-47ee-802d-518beb2f1a1a",
   "metadata": {},
   "source": [
    "### 2D to 1D-> C= Rowwise operatopn, F = Columnwise operation"
   ]
  },
  {
   "cell_type": "markdown",
   "id": "f5d59aad-e261-43ca-b04c-8af8772d18fe",
   "metadata": {},
   "source": [
    "# by ravel function"
   ]
  },
  {
   "cell_type": "code",
   "execution_count": 60,
   "id": "3dd37252-d295-4134-bb5d-e5ba875c5bff",
   "metadata": {},
   "outputs": [
    {
     "data": {
      "text/plain": [
       "array([ 1,  4,  7,  2,  5, 70,  3,  6,  9])"
      ]
     },
     "execution_count": 60,
     "metadata": {},
     "output_type": "execute_result"
    }
   ],
   "source": [
    "np.ravel(two_dim,order='F')"
   ]
  },
  {
   "cell_type": "code",
   "execution_count": 61,
   "id": "2257aa54-cbfd-47bb-8211-0f8bb833855d",
   "metadata": {},
   "outputs": [
    {
     "data": {
      "text/plain": [
       "array([ 1,  2,  3,  4,  5,  6,  7, 70,  9])"
      ]
     },
     "execution_count": 61,
     "metadata": {},
     "output_type": "execute_result"
    }
   ],
   "source": [
    "np.ravel(two_dim,order='C')"
   ]
  },
  {
   "cell_type": "markdown",
   "id": "e3cff814-1bab-42bf-b359-9d4c7001470f",
   "metadata": {},
   "source": [
    "# by reshape method"
   ]
  },
  {
   "cell_type": "code",
   "execution_count": 62,
   "id": "0a1a705c-4188-4116-8ce9-4d4e1030e5c5",
   "metadata": {},
   "outputs": [
    {
     "data": {
      "text/plain": [
       "array([ 1,  4,  7,  2,  5, 70,  3,  6,  9])"
      ]
     },
     "execution_count": 62,
     "metadata": {},
     "output_type": "execute_result"
    }
   ],
   "source": [
    "two_dim.reshape(-1,order='F')          ## 2d = -1 for 1d "
   ]
  },
  {
   "cell_type": "code",
   "execution_count": 63,
   "id": "f896aaf0-710e-47bb-a2ea-3c11d8f559b8",
   "metadata": {},
   "outputs": [
    {
     "data": {
      "text/plain": [
       "array([ 1,  2,  3,  4,  5,  6,  7, 70,  9])"
      ]
     },
     "execution_count": 63,
     "metadata": {},
     "output_type": "execute_result"
    }
   ],
   "source": [
    "two_dim.reshape(-1,order='C')"
   ]
  },
  {
   "cell_type": "markdown",
   "id": "6f7db9af-3fce-4ec9-80fa-0139a42926e3",
   "metadata": {},
   "source": [
    "# arrange"
   ]
  },
  {
   "cell_type": "markdown",
   "id": "c5a468c9-07af-4f64-908d-0ddf9be8ff49",
   "metadata": {},
   "source": [
    "### Generate 1D"
   ]
  },
  {
   "cell_type": "code",
   "execution_count": 64,
   "id": "5ba2efb9-603b-4efd-8ded-9c3439cb099a",
   "metadata": {},
   "outputs": [],
   "source": [
    "one_D = np.arange(1,10)"
   ]
  },
  {
   "cell_type": "code",
   "execution_count": 65,
   "id": "fb71abbb-6beb-4a8a-ac67-5c9e2fb44a93",
   "metadata": {},
   "outputs": [
    {
     "data": {
      "text/plain": [
       "array([1, 2, 3, 4, 5, 6, 7, 8, 9])"
      ]
     },
     "execution_count": 65,
     "metadata": {},
     "output_type": "execute_result"
    }
   ],
   "source": [
    "one_D"
   ]
  },
  {
   "cell_type": "code",
   "execution_count": 66,
   "id": "0849be7c-5169-4005-8136-74b792c90655",
   "metadata": {},
   "outputs": [
    {
     "data": {
      "text/plain": [
       "1"
      ]
     },
     "execution_count": 66,
     "metadata": {},
     "output_type": "execute_result"
    }
   ],
   "source": [
    "one_D.ndim"
   ]
  },
  {
   "cell_type": "markdown",
   "id": "1ce36af7-984d-4a63-b9e8-79af1d2f39ce",
   "metadata": {},
   "source": [
    "### Generate 2d"
   ]
  },
  {
   "cell_type": "code",
   "execution_count": 67,
   "id": "a2080342-bc7b-448a-b46a-8f59f5352ace",
   "metadata": {},
   "outputs": [
    {
     "data": {
      "text/plain": [
       "array([[1, 2, 3],\n",
       "       [4, 5, 6],\n",
       "       [7, 8, 9]])"
      ]
     },
     "execution_count": 67,
     "metadata": {},
     "output_type": "execute_result"
    }
   ],
   "source": [
    "two_D = np.arange(1,10).reshape(3,3)\n",
    "two_D"
   ]
  },
  {
   "cell_type": "markdown",
   "id": "45365f71-a9f9-40f1-8b35-f5762ae36a4e",
   "metadata": {},
   "source": [
    "## Random Array 1D"
   ]
  },
  {
   "cell_type": "code",
   "execution_count": 68,
   "id": "78da8fc8-48b5-4482-8f5b-9a64bb55f0c9",
   "metadata": {},
   "outputs": [
    {
     "data": {
      "text/plain": [
       "array([0.62556897, 0.98583818, 0.08732776, 0.18521791, 0.18186427,\n",
       "       0.31813848, 0.06166992, 0.10826319, 0.69668795, 0.34778944])"
      ]
     },
     "execution_count": 68,
     "metadata": {},
     "output_type": "execute_result"
    }
   ],
   "source": [
    "np.random.rand(10)   # it gives 10 nos of random number, values between 0 to 1 "
   ]
  },
  {
   "cell_type": "code",
   "execution_count": 69,
   "id": "b63ee3a0-8438-4c79-a489-c0237814788a",
   "metadata": {},
   "outputs": [
    {
     "data": {
      "text/plain": [
       "1"
      ]
     },
     "execution_count": 69,
     "metadata": {},
     "output_type": "execute_result"
    }
   ],
   "source": [
    "np.random.rand(10).ndim"
   ]
  },
  {
   "cell_type": "markdown",
   "id": "71a15a03-8b2e-47ab-9134-664f761433cc",
   "metadata": {},
   "source": [
    "# Random Array 2D\n"
   ]
  },
  {
   "cell_type": "code",
   "execution_count": 70,
   "id": "60b0caa0-3918-4c25-b730-cfcb5f080dc0",
   "metadata": {},
   "outputs": [
    {
     "data": {
      "text/plain": [
       "array([[0.99620892, 0.64504657, 0.05729573, 0.16961699],\n",
       "       [0.84216704, 0.83131674, 0.80434212, 0.50266046],\n",
       "       [0.34556623, 0.27000503, 0.39306685, 0.79185062],\n",
       "       [0.20745591, 0.05850269, 0.52891747, 0.13144981]])"
      ]
     },
     "execution_count": 70,
     "metadata": {},
     "output_type": "execute_result"
    }
   ],
   "source": [
    "np.random.rand(4,4)  # it give 4*4 Matrix"
   ]
  },
  {
   "cell_type": "markdown",
   "id": "8936fcb9-b907-4190-ac64-e65eae01f512",
   "metadata": {},
   "source": [
    "# generate int number"
   ]
  },
  {
   "cell_type": "markdown",
   "id": "09816706-132c-4d00-9148-16d863b92d27",
   "metadata": {},
   "source": [
    "### 1D"
   ]
  },
  {
   "cell_type": "code",
   "execution_count": 71,
   "id": "bf4af5a8-32a0-45a1-b9b4-ae9710686197",
   "metadata": {},
   "outputs": [
    {
     "data": {
      "text/plain": [
       "99"
      ]
     },
     "execution_count": 71,
     "metadata": {},
     "output_type": "execute_result"
    }
   ],
   "source": [
    "np.random.randint(1,100)"
   ]
  },
  {
   "cell_type": "code",
   "execution_count": 72,
   "id": "ca86cc38-0717-46a6-816b-c687964b2c8b",
   "metadata": {},
   "outputs": [
    {
     "data": {
      "text/plain": [
       "array([49, 54, 64, 68, 10, 26, 59, 63, 54, 17,  4, 34])"
      ]
     },
     "execution_count": 72,
     "metadata": {},
     "output_type": "execute_result"
    }
   ],
   "source": [
    "np.random.randint(1,100,12)  # I want 12 number , values between 1 to 100"
   ]
  },
  {
   "cell_type": "markdown",
   "id": "cc3f0785-4031-4310-904f-ab5142524a3e",
   "metadata": {},
   "source": [
    "#### 2D"
   ]
  },
  {
   "cell_type": "code",
   "execution_count": 73,
   "id": "9746c7fa-fe00-417c-88b9-45debdabf2ae",
   "metadata": {},
   "outputs": [
    {
     "data": {
      "text/plain": [
       "array([[84, 72, -5],\n",
       "       [48, 79, 55],\n",
       "       [26, 16, 98],\n",
       "       [24, 16, 30]])"
      ]
     },
     "execution_count": 73,
     "metadata": {},
     "output_type": "execute_result"
    }
   ],
   "source": [
    "np.random.randint(-9,100,12).reshape(4,3)"
   ]
  },
  {
   "cell_type": "markdown",
   "id": "8015e62f-7152-47f0-a733-e4c567e6ed64",
   "metadata": {},
   "source": [
    "# Linspace"
   ]
  },
  {
   "cell_type": "code",
   "execution_count": 74,
   "id": "e11f25c6-715e-4f5e-a553-5a18b71e1ed2",
   "metadata": {},
   "outputs": [],
   "source": [
    "# Generate float 1D"
   ]
  },
  {
   "cell_type": "code",
   "execution_count": 75,
   "id": "535bab67-6a57-4fb4-b6f3-dd8e4c704884",
   "metadata": {},
   "outputs": [
    {
     "data": {
      "text/plain": [
       "array([-3.        , -1.55555556, -0.11111111,  1.33333333,  2.77777778,\n",
       "        4.22222222,  5.66666667,  7.11111111,  8.55555556, 10.        ])"
      ]
     },
     "execution_count": 75,
     "metadata": {},
     "output_type": "execute_result"
    }
   ],
   "source": [
    "np.linspace(-3,10,10)"
   ]
  },
  {
   "cell_type": "code",
   "execution_count": 76,
   "id": "8cdc61a7-1a72-4188-8ddf-3233b4eadf70",
   "metadata": {},
   "outputs": [
    {
     "data": {
      "text/plain": [
       "array([[ 0.   ,  0.345,  0.69 ],\n",
       "       [ 1.034,  1.379,  1.724],\n",
       "       [ 2.069,  2.414,  2.759],\n",
       "       [ 3.103,  3.448,  3.793],\n",
       "       [ 4.138,  4.483,  4.828],\n",
       "       [ 5.172,  5.517,  5.862],\n",
       "       [ 6.207,  6.552,  6.897],\n",
       "       [ 7.241,  7.586,  7.931],\n",
       "       [ 8.276,  8.621,  8.966],\n",
       "       [ 9.31 ,  9.655, 10.   ]])"
      ]
     },
     "execution_count": 76,
     "metadata": {},
     "output_type": "execute_result"
    }
   ],
   "source": [
    "z = np.linspace(0,10,30).reshape(10,3).round(3)\n",
    "z"
   ]
  },
  {
   "cell_type": "code",
   "execution_count": 77,
   "id": "cff9f6eb-8714-47b3-9e05-ae96d0e4dcb1",
   "metadata": {},
   "outputs": [],
   "source": [
    "# Delet specific row"
   ]
  },
  {
   "cell_type": "code",
   "execution_count": 78,
   "id": "06242bfa-cdbb-4e01-92cf-ee685c5ce832",
   "metadata": {},
   "outputs": [
    {
     "data": {
      "text/plain": [
       "array([[ 0.   ,  0.69 ],\n",
       "       [ 1.034,  1.724],\n",
       "       [ 2.069,  2.759],\n",
       "       [ 3.103,  3.793],\n",
       "       [ 4.138,  4.828],\n",
       "       [ 5.172,  5.862],\n",
       "       [ 6.207,  6.897],\n",
       "       [ 7.241,  7.931],\n",
       "       [ 8.276,  8.966],\n",
       "       [ 9.31 , 10.   ]])"
      ]
     },
     "execution_count": 78,
     "metadata": {},
     "output_type": "execute_result"
    }
   ],
   "source": [
    "np.delete(z,1,axis = 1)"
   ]
  },
  {
   "cell_type": "code",
   "execution_count": 79,
   "id": "371dcbc1-0f7b-40a3-8f39-1bb6c740a12b",
   "metadata": {},
   "outputs": [
    {
     "data": {
      "text/plain": [
       "array([[ 0.   ,  0.345,  0.69 ],\n",
       "       [ 1.034,  1.379,  1.724],\n",
       "       [ 2.069,  2.414,  2.759],\n",
       "       [ 3.103,  3.448,  3.793],\n",
       "       [ 4.138,  4.483,  4.828],\n",
       "       [ 5.172,  5.517,  5.862],\n",
       "       [ 6.207,  6.552,  6.897],\n",
       "       [ 7.241,  7.586,  7.931],\n",
       "       [ 8.276,  8.621,  8.966],\n",
       "       [ 9.31 ,  9.655, 10.   ]])"
      ]
     },
     "execution_count": 79,
     "metadata": {},
     "output_type": "execute_result"
    }
   ],
   "source": [
    "z"
   ]
  },
  {
   "cell_type": "code",
   "execution_count": 80,
   "id": "2e051c92-907f-4c19-9aee-3a917c57bc32",
   "metadata": {},
   "outputs": [
    {
     "data": {
      "text/plain": [
       "array([[0.   ],\n",
       "       [1.034],\n",
       "       [2.069],\n",
       "       [3.103],\n",
       "       [4.138],\n",
       "       [5.172],\n",
       "       [6.207],\n",
       "       [7.241],\n",
       "       [8.276],\n",
       "       [9.31 ]])"
      ]
     },
     "execution_count": 80,
     "metadata": {},
     "output_type": "execute_result"
    }
   ],
   "source": [
    "np.delete(z,[1,2],axis = 1)"
   ]
  },
  {
   "cell_type": "code",
   "execution_count": 81,
   "id": "c9adaf23-2be0-4b10-a005-7e1f7c7b1025",
   "metadata": {},
   "outputs": [
    {
     "data": {
      "text/plain": [
       "array([[ 0.   ,  0.345,  0.69 ],\n",
       "       [ 1.034,  1.379,  1.724],\n",
       "       [ 2.069,  2.414,  2.759],\n",
       "       [ 3.103,  3.448,  3.793],\n",
       "       [ 4.138,  4.483,  4.828],\n",
       "       [ 5.172,  5.517,  5.862],\n",
       "       [ 6.207,  6.552,  6.897],\n",
       "       [ 7.241,  7.586,  7.931],\n",
       "       [ 8.276,  8.621,  8.966],\n",
       "       [ 9.31 ,  9.655, 10.   ]])"
      ]
     },
     "execution_count": 81,
     "metadata": {},
     "output_type": "execute_result"
    }
   ],
   "source": [
    "z"
   ]
  },
  {
   "cell_type": "code",
   "execution_count": 82,
   "id": "5d23151f-1758-48c8-ac26-f8f998c5e748",
   "metadata": {},
   "outputs": [
    {
     "data": {
      "text/plain": [
       "4.999999999999999"
      ]
     },
     "execution_count": 82,
     "metadata": {},
     "output_type": "execute_result"
    }
   ],
   "source": [
    "z.mean()"
   ]
  },
  {
   "cell_type": "code",
   "execution_count": 83,
   "id": "2e50d66c-2694-4dc2-812b-9f6f26413a8e",
   "metadata": {},
   "outputs": [
    {
     "data": {
      "text/plain": [
       "array([4.655, 5.   , 5.345])"
      ]
     },
     "execution_count": 83,
     "metadata": {},
     "output_type": "execute_result"
    }
   ],
   "source": [
    "z.mean(axis = 0) "
   ]
  },
  {
   "cell_type": "code",
   "execution_count": 84,
   "id": "bb052fa5-c7a4-467f-be3a-3e525c50df25",
   "metadata": {},
   "outputs": [
    {
     "data": {
      "text/plain": [
       "array([0.345, 1.379, 2.414, 3.448, 4.483, 5.517, 6.552, 7.586, 8.621,\n",
       "       9.655])"
      ]
     },
     "execution_count": 84,
     "metadata": {},
     "output_type": "execute_result"
    }
   ],
   "source": [
    "z.mean(axis = 1)"
   ]
  },
  {
   "cell_type": "markdown",
   "id": "f56d366d-67f5-4fc3-bf9a-52b292c075ed",
   "metadata": {},
   "source": [
    "# argmax"
   ]
  },
  {
   "cell_type": "code",
   "execution_count": 85,
   "id": "0c487f2d-359f-4e9e-bb50-ad53bffbf924",
   "metadata": {},
   "outputs": [
    {
     "data": {
      "text/plain": [
       "array([9, 9, 9], dtype=int64)"
      ]
     },
     "execution_count": 85,
     "metadata": {},
     "output_type": "execute_result"
    }
   ],
   "source": [
    "z.argmax(axis= 0)  # Highest value of row in index format"
   ]
  },
  {
   "cell_type": "code",
   "execution_count": 86,
   "id": "6258d7ac-e275-4de0-ba06-65f1fef8ac3e",
   "metadata": {},
   "outputs": [
    {
     "data": {
      "text/plain": [
       "array([2, 2, 2, 2, 2, 2, 2, 2, 2, 2], dtype=int64)"
      ]
     },
     "execution_count": 86,
     "metadata": {},
     "output_type": "execute_result"
    }
   ],
   "source": [
    "z.argmax(axis= 1)"
   ]
  },
  {
   "cell_type": "code",
   "execution_count": null,
   "id": "ff9d24bf-f183-4b63-a016-e652bd2714d0",
   "metadata": {},
   "outputs": [],
   "source": []
  },
  {
   "cell_type": "code",
   "execution_count": 87,
   "id": "90bc926c-a143-4c51-aee7-d05fb65d90d8",
   "metadata": {},
   "outputs": [
    {
     "data": {
      "text/plain": [
       "array([[35, 16],\n",
       "       [25, 23]])"
      ]
     },
     "execution_count": 87,
     "metadata": {},
     "output_type": "execute_result"
    }
   ],
   "source": [
    "b = np.random.randint(10,40,4).reshape(2,2)\n",
    "b"
   ]
  },
  {
   "cell_type": "code",
   "execution_count": 88,
   "id": "b8a55dd8-bf1f-4cf7-b7e9-9c2ff6fdf05e",
   "metadata": {},
   "outputs": [
    {
     "data": {
      "text/plain": [
       "array([[62, 69],\n",
       "       [41, 56]])"
      ]
     },
     "execution_count": 88,
     "metadata": {},
     "output_type": "execute_result"
    }
   ],
   "source": [
    "c = np.random.randint(20,90,4).reshape(2,2)\n",
    "c"
   ]
  },
  {
   "cell_type": "code",
   "execution_count": 89,
   "id": "1da68780-137a-4598-884c-46707c5e5966",
   "metadata": {},
   "outputs": [
    {
     "data": {
      "text/plain": [
       "array([[97, 85],\n",
       "       [66, 79]])"
      ]
     },
     "execution_count": 89,
     "metadata": {},
     "output_type": "execute_result"
    }
   ],
   "source": [
    "b+c"
   ]
  },
  {
   "cell_type": "code",
   "execution_count": 90,
   "id": "ca1faa3c-22ef-457d-88d0-58aaf46896d1",
   "metadata": {},
   "outputs": [
    {
     "data": {
      "text/plain": [
       "array([[27, 53],\n",
       "       [16, 33]])"
      ]
     },
     "execution_count": 90,
     "metadata": {},
     "output_type": "execute_result"
    }
   ],
   "source": [
    "c-b"
   ]
  },
  {
   "cell_type": "code",
   "execution_count": 91,
   "id": "0cc1ede3-3fb8-4c56-92bb-c96baaa45748",
   "metadata": {},
   "outputs": [
    {
     "data": {
      "text/plain": [
       "array([[2170, 1104],\n",
       "       [1025, 1288]])"
      ]
     },
     "execution_count": 91,
     "metadata": {},
     "output_type": "execute_result"
    }
   ],
   "source": [
    "c*b"
   ]
  },
  {
   "cell_type": "markdown",
   "id": "1a047df8-ecb1-4ded-a222-381d1b956d2a",
   "metadata": {},
   "source": [
    "# Matrix Operation"
   ]
  },
  {
   "cell_type": "code",
   "execution_count": 92,
   "id": "71fb73dc-9b3e-4e95-8aa3-728c498160eb",
   "metadata": {},
   "outputs": [
    {
     "data": {
      "text/plain": [
       "array([[2826, 3311],\n",
       "       [2493, 3013]])"
      ]
     },
     "execution_count": 92,
     "metadata": {},
     "output_type": "execute_result"
    }
   ],
   "source": [
    "b@c"
   ]
  },
  {
   "cell_type": "code",
   "execution_count": 93,
   "id": "a6706f98-8ce7-47d7-8b8a-2c1ba763ec50",
   "metadata": {},
   "outputs": [
    {
     "data": {
      "text/plain": [
       "array([[1625,  928],\n",
       "       [1450,  929]])"
      ]
     },
     "execution_count": 93,
     "metadata": {},
     "output_type": "execute_result"
    }
   ],
   "source": [
    "b@b"
   ]
  },
  {
   "cell_type": "code",
   "execution_count": 94,
   "id": "6165c1e7-a9d9-41e8-8492-648ab36593ec",
   "metadata": {},
   "outputs": [
    {
     "data": {
      "text/plain": [
       "array([[3844, 4761],\n",
       "       [1681, 3136]])"
      ]
     },
     "execution_count": 94,
     "metadata": {},
     "output_type": "execute_result"
    }
   ],
   "source": [
    "c*c"
   ]
  },
  {
   "cell_type": "markdown",
   "id": "58c6c173-5926-466f-b6f8-380ae592936c",
   "metadata": {},
   "source": [
    "# Inverse of Matrix"
   ]
  },
  {
   "cell_type": "code",
   "execution_count": 95,
   "id": "82907087-780d-46c7-8598-f4340c061b53",
   "metadata": {},
   "outputs": [
    {
     "data": {
      "text/plain": [
       "array([[ 0.05679012, -0.03950617],\n",
       "       [-0.0617284 ,  0.08641975]])"
      ]
     },
     "execution_count": 95,
     "metadata": {},
     "output_type": "execute_result"
    }
   ],
   "source": [
    "np.linalg.inv(b)"
   ]
  },
  {
   "cell_type": "markdown",
   "id": "642f7abc-011b-4d22-a6d3-12a520e606a5",
   "metadata": {},
   "source": [
    "# Eigen Value and Eigen vectors"
   ]
  },
  {
   "cell_type": "code",
   "execution_count": 96,
   "id": "8e1dd203-c089-4691-af42-4554c90947de",
   "metadata": {},
   "outputs": [
    {
     "data": {
      "text/plain": [
       "EigResult(eigenvalues=array([49.88061302,  8.11938698]), eigenvectors=array([[ 0.73225767, -0.51147525],\n",
       "       [ 0.68102769,  0.85929801]]))"
      ]
     },
     "execution_count": 96,
     "metadata": {},
     "output_type": "execute_result"
    }
   ],
   "source": [
    "np.linalg.eig(b)"
   ]
  },
  {
   "cell_type": "code",
   "execution_count": 97,
   "id": "9b316909-67f5-4f79-9bc6-660936092dfa",
   "metadata": {},
   "outputs": [
    {
     "data": {
      "text/plain": [
       "EigResult(eigenvalues=array([112.27288241,   5.72711759]), eigenvectors=array([[ 0.80822839, -0.77495628],\n",
       "       [ 0.58886914,  0.63201484]]))"
      ]
     },
     "execution_count": 97,
     "metadata": {},
     "output_type": "execute_result"
    }
   ],
   "source": [
    "np.linalg.eig(c)"
   ]
  },
  {
   "cell_type": "markdown",
   "id": "18fa9a8d-8a35-4762-ab68-d6a9fc171817",
   "metadata": {},
   "source": [
    "# Identity Metrics"
   ]
  },
  {
   "cell_type": "code",
   "execution_count": 98,
   "id": "4d0e92c6-ee53-4dc6-a48b-b65e232457ac",
   "metadata": {},
   "outputs": [
    {
     "data": {
      "text/plain": [
       "array([[1., 0., 0.],\n",
       "       [0., 1., 0.],\n",
       "       [0., 0., 1.]])"
      ]
     },
     "execution_count": 98,
     "metadata": {},
     "output_type": "execute_result"
    }
   ],
   "source": [
    "np.identity(3)"
   ]
  },
  {
   "cell_type": "code",
   "execution_count": 99,
   "id": "afe997c1-6caf-4b23-9532-4e87c0ab3729",
   "metadata": {},
   "outputs": [
    {
     "data": {
      "text/plain": [
       "array([[1., 0., 0., 0.],\n",
       "       [0., 1., 0., 0.],\n",
       "       [0., 0., 1., 0.],\n",
       "       [0., 0., 0., 1.]])"
      ]
     },
     "execution_count": 99,
     "metadata": {},
     "output_type": "execute_result"
    }
   ],
   "source": [
    "np.identity(4)"
   ]
  },
  {
   "cell_type": "code",
   "execution_count": 100,
   "id": "7f61e368-96dd-4b5e-ab9b-474fe1213357",
   "metadata": {},
   "outputs": [
    {
     "data": {
      "text/plain": [
       "array([[1., 1., 1.],\n",
       "       [1., 1., 1.],\n",
       "       [1., 1., 1.],\n",
       "       [1., 1., 1.]])"
      ]
     },
     "execution_count": 100,
     "metadata": {},
     "output_type": "execute_result"
    }
   ],
   "source": [
    "np.ones(shape = (4,3))"
   ]
  },
  {
   "cell_type": "code",
   "execution_count": 101,
   "id": "2d3735cb-49ef-43b3-8d40-1a813d9bc9e2",
   "metadata": {},
   "outputs": [
    {
     "data": {
      "text/plain": [
       "array([[0., 0., 0.],\n",
       "       [0., 0., 0.],\n",
       "       [0., 0., 0.]])"
      ]
     },
     "execution_count": 101,
     "metadata": {},
     "output_type": "execute_result"
    }
   ],
   "source": [
    "np.zeros(shape= (3,3))"
   ]
  },
  {
   "cell_type": "code",
   "execution_count": 102,
   "id": "7a7355ff-fec6-440f-835a-2d512b913ef4",
   "metadata": {},
   "outputs": [
    {
     "data": {
      "text/plain": [
       "array([[1, 2, 3],\n",
       "       [4, 5, 6],\n",
       "       [7, 8, 9]])"
      ]
     },
     "execution_count": 102,
     "metadata": {},
     "output_type": "execute_result"
    }
   ],
   "source": [
    "two_D"
   ]
  },
  {
   "cell_type": "markdown",
   "id": "56c7b5aa-9a77-4556-b78c-9d146694f8b3",
   "metadata": {},
   "source": [
    "# Stacking of arrays  / combining of array /Mergig"
   ]
  },
  {
   "cell_type": "code",
   "execution_count": 103,
   "id": "36585b38-7bbb-4fd2-900e-01955ccc5648",
   "metadata": {},
   "outputs": [
    {
     "data": {
      "text/plain": [
       "array([[35, 16],\n",
       "       [25, 23]])"
      ]
     },
     "execution_count": 103,
     "metadata": {},
     "output_type": "execute_result"
    }
   ],
   "source": [
    "b"
   ]
  },
  {
   "cell_type": "code",
   "execution_count": 104,
   "id": "154fbab8-eaa8-4ffa-a39d-8b974c27186e",
   "metadata": {},
   "outputs": [
    {
     "data": {
      "text/plain": [
       "array([[62, 69],\n",
       "       [41, 56]])"
      ]
     },
     "execution_count": 104,
     "metadata": {},
     "output_type": "execute_result"
    }
   ],
   "source": [
    "c"
   ]
  },
  {
   "cell_type": "code",
   "execution_count": 105,
   "id": "880ba392-c71b-45ce-b555-7016b6b86856",
   "metadata": {},
   "outputs": [
    {
     "data": {
      "text/plain": [
       "array([[35, 16, 62, 69],\n",
       "       [25, 23, 41, 56]])"
      ]
     },
     "execution_count": 105,
     "metadata": {},
     "output_type": "execute_result"
    }
   ],
   "source": [
    "np.hstack([b,c])   # Horizontal stacking"
   ]
  },
  {
   "cell_type": "code",
   "execution_count": 106,
   "id": "04bf1d0c-cf8d-4d04-acfb-8ab270206741",
   "metadata": {},
   "outputs": [
    {
     "data": {
      "text/plain": [
       "array([[35, 16],\n",
       "       [25, 23],\n",
       "       [35, 16],\n",
       "       [25, 23]])"
      ]
     },
     "execution_count": 106,
     "metadata": {},
     "output_type": "execute_result"
    }
   ],
   "source": [
    "np.vstack([b,b])   # Vertical stacking"
   ]
  },
  {
   "cell_type": "markdown",
   "id": "f56d4a28-e6ea-4f88-9680-56662c699d9f",
   "metadata": {},
   "source": [
    "# Splitting  Based on Index"
   ]
  },
  {
   "cell_type": "code",
   "execution_count": 107,
   "id": "32b5a7df-9ac9-45f4-9211-5e4a56a15f00",
   "metadata": {},
   "outputs": [
    {
     "data": {
      "text/plain": [
       "array([[35, 16],\n",
       "       [25, 23]])"
      ]
     },
     "execution_count": 107,
     "metadata": {},
     "output_type": "execute_result"
    }
   ],
   "source": [
    "b"
   ]
  },
  {
   "cell_type": "code",
   "execution_count": 108,
   "id": "e164e095-d16a-4735-9329-3c3ee6171a34",
   "metadata": {},
   "outputs": [
    {
     "data": {
      "text/plain": [
       "array([[62, 69],\n",
       "       [41, 56]])"
      ]
     },
     "execution_count": 108,
     "metadata": {},
     "output_type": "execute_result"
    }
   ],
   "source": [
    "c"
   ]
  },
  {
   "cell_type": "markdown",
   "id": "79a37cdd-7b30-4ed0-b72e-5f01e0d7d723",
   "metadata": {},
   "source": [
    "#### h split use to split column based on the index"
   ]
  },
  {
   "cell_type": "code",
   "execution_count": 109,
   "id": "e910b648-4370-46de-8504-8f68ea93463a",
   "metadata": {},
   "outputs": [
    {
     "data": {
      "text/plain": [
       "array([[ 0.   ,  0.345,  0.69 ],\n",
       "       [ 1.034,  1.379,  1.724],\n",
       "       [ 2.069,  2.414,  2.759],\n",
       "       [ 3.103,  3.448,  3.793],\n",
       "       [ 4.138,  4.483,  4.828],\n",
       "       [ 5.172,  5.517,  5.862],\n",
       "       [ 6.207,  6.552,  6.897],\n",
       "       [ 7.241,  7.586,  7.931],\n",
       "       [ 8.276,  8.621,  8.966],\n",
       "       [ 9.31 ,  9.655, 10.   ]])"
      ]
     },
     "execution_count": 109,
     "metadata": {},
     "output_type": "execute_result"
    }
   ],
   "source": [
    "z"
   ]
  },
  {
   "cell_type": "code",
   "execution_count": 110,
   "id": "671723d5-8417-4a99-9559-6fdc1c6edac4",
   "metadata": {},
   "outputs": [
    {
     "data": {
      "text/plain": [
       "[array([[0.   ],\n",
       "        [1.034],\n",
       "        [2.069],\n",
       "        [3.103],\n",
       "        [4.138],\n",
       "        [5.172],\n",
       "        [6.207],\n",
       "        [7.241],\n",
       "        [8.276],\n",
       "        [9.31 ]]),\n",
       " array([[0.345],\n",
       "        [1.379],\n",
       "        [2.414],\n",
       "        [3.448],\n",
       "        [4.483],\n",
       "        [5.517],\n",
       "        [6.552],\n",
       "        [7.586],\n",
       "        [8.621],\n",
       "        [9.655]]),\n",
       " array([[ 0.69 ],\n",
       "        [ 1.724],\n",
       "        [ 2.759],\n",
       "        [ 3.793],\n",
       "        [ 4.828],\n",
       "        [ 5.862],\n",
       "        [ 6.897],\n",
       "        [ 7.931],\n",
       "        [ 8.966],\n",
       "        [10.   ]])]"
      ]
     },
     "execution_count": 110,
     "metadata": {},
     "output_type": "execute_result"
    }
   ],
   "source": [
    "np.hsplit(z,3)"
   ]
  },
  {
   "cell_type": "code",
   "execution_count": 111,
   "id": "840e805f-e17b-4c87-8de7-4ad1737eb854",
   "metadata": {},
   "outputs": [
    {
     "data": {
      "text/plain": [
       "[array([], shape=(10, 0), dtype=float64),\n",
       " array([[0.   ],\n",
       "        [1.034],\n",
       "        [2.069],\n",
       "        [3.103],\n",
       "        [4.138],\n",
       "        [5.172],\n",
       "        [6.207],\n",
       "        [7.241],\n",
       "        [8.276],\n",
       "        [9.31 ]]),\n",
       " array([[ 0.345,  0.69 ],\n",
       "        [ 1.379,  1.724],\n",
       "        [ 2.414,  2.759],\n",
       "        [ 3.448,  3.793],\n",
       "        [ 4.483,  4.828],\n",
       "        [ 5.517,  5.862],\n",
       "        [ 6.552,  6.897],\n",
       "        [ 7.586,  7.931],\n",
       "        [ 8.621,  8.966],\n",
       "        [ 9.655, 10.   ]])]"
      ]
     },
     "execution_count": 111,
     "metadata": {},
     "output_type": "execute_result"
    }
   ],
   "source": [
    "np.hsplit(z,[0,1])"
   ]
  },
  {
   "cell_type": "code",
   "execution_count": 112,
   "id": "ec556e46-94e8-4fb4-8eb2-1238a32a7057",
   "metadata": {},
   "outputs": [
    {
     "data": {
      "text/plain": [
       "[array([], shape=(10, 0), dtype=float64),\n",
       " array([[0.   , 0.345],\n",
       "        [1.034, 1.379],\n",
       "        [2.069, 2.414],\n",
       "        [3.103, 3.448],\n",
       "        [4.138, 4.483],\n",
       "        [5.172, 5.517],\n",
       "        [6.207, 6.552],\n",
       "        [7.241, 7.586],\n",
       "        [8.276, 8.621],\n",
       "        [9.31 , 9.655]]),\n",
       " array([[ 0.69 ],\n",
       "        [ 1.724],\n",
       "        [ 2.759],\n",
       "        [ 3.793],\n",
       "        [ 4.828],\n",
       "        [ 5.862],\n",
       "        [ 6.897],\n",
       "        [ 7.931],\n",
       "        [ 8.966],\n",
       "        [10.   ]])]"
      ]
     },
     "execution_count": 112,
     "metadata": {},
     "output_type": "execute_result"
    }
   ],
   "source": [
    "np.hsplit(z,[0,2])"
   ]
  },
  {
   "cell_type": "code",
   "execution_count": null,
   "id": "06935e88-eba1-419e-a1b1-864b838718ee",
   "metadata": {},
   "outputs": [],
   "source": []
  },
  {
   "cell_type": "code",
   "execution_count": null,
   "id": "d9643a61-edbc-463d-9c31-5aa7aef5c6a4",
   "metadata": {},
   "outputs": [],
   "source": []
  },
  {
   "cell_type": "markdown",
   "id": "6f446f4f-0754-4cb7-9770-698e8fa424a5",
   "metadata": {},
   "source": [
    "#### v split use to split rows based on the index"
   ]
  },
  {
   "cell_type": "code",
   "execution_count": 113,
   "id": "8e326f68-748a-4245-9a48-09f9fe529d2a",
   "metadata": {},
   "outputs": [
    {
     "data": {
      "text/plain": [
       "[array([[0.   , 0.345, 0.69 ],\n",
       "        [1.034, 1.379, 1.724]]),\n",
       " array([[2.069, 2.414, 2.759],\n",
       "        [3.103, 3.448, 3.793]]),\n",
       " array([[4.138, 4.483, 4.828],\n",
       "        [5.172, 5.517, 5.862]]),\n",
       " array([[6.207, 6.552, 6.897],\n",
       "        [7.241, 7.586, 7.931]]),\n",
       " array([[ 8.276,  8.621,  8.966],\n",
       "        [ 9.31 ,  9.655, 10.   ]])]"
      ]
     },
     "execution_count": 113,
     "metadata": {},
     "output_type": "execute_result"
    }
   ],
   "source": [
    "np.vsplit(z,5)"
   ]
  },
  {
   "cell_type": "code",
   "execution_count": 114,
   "id": "e3c38d65-cf96-4510-841b-e5fc1ef3f614",
   "metadata": {},
   "outputs": [
    {
     "data": {
      "text/plain": [
       "[array([[0.   , 0.345, 0.69 ]]),\n",
       " array([[1.034, 1.379, 1.724],\n",
       "        [2.069, 2.414, 2.759],\n",
       "        [3.103, 3.448, 3.793]]),\n",
       " array([[4.138, 4.483, 4.828]]),\n",
       " array([[ 5.172,  5.517,  5.862],\n",
       "        [ 6.207,  6.552,  6.897],\n",
       "        [ 7.241,  7.586,  7.931],\n",
       "        [ 8.276,  8.621,  8.966],\n",
       "        [ 9.31 ,  9.655, 10.   ]])]"
      ]
     },
     "execution_count": 114,
     "metadata": {},
     "output_type": "execute_result"
    }
   ],
   "source": [
    "np.vsplit(z,[1,4,5])\n"
   ]
  },
  {
   "cell_type": "markdown",
   "id": "b72f815e-c7cb-421c-8868-6ccc35e1014f",
   "metadata": {},
   "source": [
    "# 3D Array"
   ]
  },
  {
   "cell_type": "code",
   "execution_count": 115,
   "id": "50598e56-88c1-49c8-adc5-c82b7161e213",
   "metadata": {},
   "outputs": [],
   "source": [
    "thrre_D = np.array([[[1,2],[3,4]],[[5,6],[7,8]]])"
   ]
  },
  {
   "cell_type": "code",
   "execution_count": 116,
   "id": "8fd3cc35-472f-41b5-b616-c146faadccbb",
   "metadata": {},
   "outputs": [
    {
     "data": {
      "text/plain": [
       "array([[[1, 2],\n",
       "        [3, 4]],\n",
       "\n",
       "       [[5, 6],\n",
       "        [7, 8]]])"
      ]
     },
     "execution_count": 116,
     "metadata": {},
     "output_type": "execute_result"
    }
   ],
   "source": [
    "thrre_D"
   ]
  },
  {
   "cell_type": "code",
   "execution_count": 117,
   "id": "144becde-ea93-40c1-b5bf-a14ff354f98a",
   "metadata": {},
   "outputs": [
    {
     "data": {
      "text/plain": [
       "3"
      ]
     },
     "execution_count": 117,
     "metadata": {},
     "output_type": "execute_result"
    }
   ],
   "source": [
    "thrre_D.ndim"
   ]
  },
  {
   "cell_type": "code",
   "execution_count": 118,
   "id": "8af669e7-79ac-4f11-8711-8aed5c94b245",
   "metadata": {},
   "outputs": [
    {
     "data": {
      "text/plain": [
       "(2, 2, 2)"
      ]
     },
     "execution_count": 118,
     "metadata": {},
     "output_type": "execute_result"
    }
   ],
   "source": [
    "thrre_D.shape"
   ]
  },
  {
   "cell_type": "code",
   "execution_count": 119,
   "id": "bd0672ee-73f2-4a8f-aa35-e454fd24095c",
   "metadata": {},
   "outputs": [
    {
     "data": {
      "text/plain": [
       "8"
      ]
     },
     "execution_count": 119,
     "metadata": {},
     "output_type": "execute_result"
    }
   ],
   "source": [
    "thrre_D[1,1,1]"
   ]
  },
  {
   "cell_type": "code",
   "execution_count": 120,
   "id": "b4a7e869-784e-41c5-9e75-c4942b10f951",
   "metadata": {},
   "outputs": [],
   "source": [
    "thrre_D = np.array([[[1,2,3],[3,4,4]],[[7,5,6],[9,7,8]]])"
   ]
  },
  {
   "cell_type": "code",
   "execution_count": 121,
   "id": "d7c81347-98a1-4e77-bbf2-59972f01dbc0",
   "metadata": {},
   "outputs": [
    {
     "data": {
      "text/plain": [
       "array([[[1, 2, 3],\n",
       "        [3, 4, 4]],\n",
       "\n",
       "       [[7, 5, 6],\n",
       "        [9, 7, 8]]])"
      ]
     },
     "execution_count": 121,
     "metadata": {},
     "output_type": "execute_result"
    }
   ],
   "source": [
    "thrre_D"
   ]
  },
  {
   "cell_type": "code",
   "execution_count": 122,
   "id": "44f7782e-f3ec-49da-949b-1abbf38ef934",
   "metadata": {},
   "outputs": [
    {
     "data": {
      "text/plain": [
       "1"
      ]
     },
     "execution_count": 122,
     "metadata": {},
     "output_type": "execute_result"
    }
   ],
   "source": [
    "thrre_D[0][0][0]"
   ]
  },
  {
   "cell_type": "code",
   "execution_count": 123,
   "id": "2e668b68-822d-4236-b170-b9e30e9fac46",
   "metadata": {},
   "outputs": [
    {
     "data": {
      "text/plain": [
       "array([3, 4, 4])"
      ]
     },
     "execution_count": 123,
     "metadata": {},
     "output_type": "execute_result"
    }
   ],
   "source": [
    "thrre_D[0,1]"
   ]
  },
  {
   "cell_type": "code",
   "execution_count": 124,
   "id": "16cf10b6-f917-4834-85ae-d6dc42a49792",
   "metadata": {},
   "outputs": [
    {
     "data": {
      "text/plain": [
       "array([[3, 4, 4],\n",
       "       [9, 7, 8]])"
      ]
     },
     "execution_count": 124,
     "metadata": {},
     "output_type": "execute_result"
    }
   ],
   "source": [
    "thrre_D[[0,1],1]"
   ]
  },
  {
   "cell_type": "markdown",
   "id": "aea8938b-4b8b-46d4-ab23-286daa9f239b",
   "metadata": {},
   "source": [
    "##### Updating"
   ]
  },
  {
   "cell_type": "code",
   "execution_count": 125,
   "id": "e84b9e15-8581-43a5-9c63-230527539836",
   "metadata": {},
   "outputs": [
    {
     "data": {
      "text/plain": [
       "array([[[ 1,  2,  3],\n",
       "        [ 3,  4,  4]],\n",
       "\n",
       "       [[ 7,  5,  6],\n",
       "        [ 9,  7, 80]]])"
      ]
     },
     "execution_count": 125,
     "metadata": {},
     "output_type": "execute_result"
    }
   ],
   "source": [
    "thrre_D[1,1,2]= 80\n",
    "thrre_D"
   ]
  },
  {
   "cell_type": "code",
   "execution_count": 126,
   "id": "c279b136-0e6a-4868-87ed-fc25a2f7a580",
   "metadata": {},
   "outputs": [
    {
     "data": {
      "text/plain": [
       "array([[[1],\n",
       "        [3]],\n",
       "\n",
       "       [[7],\n",
       "        [9]]])"
      ]
     },
     "execution_count": 126,
     "metadata": {},
     "output_type": "execute_result"
    }
   ],
   "source": [
    "thrre_D[[0,1],:,0:1]"
   ]
  },
  {
   "cell_type": "code",
   "execution_count": 127,
   "id": "910ad56c-b101-4173-806b-cee0c8356de9",
   "metadata": {},
   "outputs": [
    {
     "data": {
      "text/plain": [
       "array([[[ 1,  2,  3],\n",
       "        [ 3,  4,  4]],\n",
       "\n",
       "       [[ 7,  5,  6],\n",
       "        [ 9,  7, 80]]])"
      ]
     },
     "execution_count": 127,
     "metadata": {},
     "output_type": "execute_result"
    }
   ],
   "source": [
    "thrre_D"
   ]
  },
  {
   "cell_type": "markdown",
   "id": "df07ca4a-7002-4b37-9035-57a24cf9b65e",
   "metadata": {},
   "source": [
    "# Random Creation"
   ]
  },
  {
   "cell_type": "code",
   "execution_count": 130,
   "id": "f9a334f7-ade8-4249-bc6b-e42428435e00",
   "metadata": {},
   "outputs": [],
   "source": [
    "thrD = np.random.randint(10,100,27).reshape(3,3,3\n",
    "                                           )"
   ]
  },
  {
   "cell_type": "code",
   "execution_count": 131,
   "id": "cc8f0158-0f84-4eea-9797-d9dc5090d225",
   "metadata": {},
   "outputs": [
    {
     "data": {
      "text/plain": [
       "array([[[56, 37, 70],\n",
       "        [87, 74, 93],\n",
       "        [17, 85, 75]],\n",
       "\n",
       "       [[69, 79, 11],\n",
       "        [95, 71, 40],\n",
       "        [83, 74, 68]],\n",
       "\n",
       "       [[17, 10, 55],\n",
       "        [41, 36, 43],\n",
       "        [44, 38, 26]]])"
      ]
     },
     "execution_count": 131,
     "metadata": {},
     "output_type": "execute_result"
    }
   ],
   "source": [
    "thrD"
   ]
  },
  {
   "cell_type": "code",
   "execution_count": 133,
   "id": "ff4d00bb-bc55-42db-9b75-cd4d92e58e5c",
   "metadata": {},
   "outputs": [
    {
     "data": {
      "text/plain": [
       "array([[[56, 37, 70],\n",
       "        [87, 74, 93],\n",
       "        [17, 85, 75]],\n",
       "\n",
       "       [[17, 10, 55],\n",
       "        [41, 36, 43],\n",
       "        [44, 38, 26]]])"
      ]
     },
     "execution_count": 133,
     "metadata": {},
     "output_type": "execute_result"
    }
   ],
   "source": [
    "np.delete(thrD,1,axis = 0)  # Block 1 delet"
   ]
  },
  {
   "cell_type": "code",
   "execution_count": 134,
   "id": "d98585da-a38c-4371-a135-10534603c466",
   "metadata": {},
   "outputs": [
    {
     "data": {
      "text/plain": [
       "array([[[56, 37, 70],\n",
       "        [87, 74, 93],\n",
       "        [17, 85, 75]],\n",
       "\n",
       "       [[69, 79, 11],\n",
       "        [95, 71, 40],\n",
       "        [83, 74, 68]],\n",
       "\n",
       "       [[17, 10, 55],\n",
       "        [41, 36, 43],\n",
       "        [44, 38, 26]]])"
      ]
     },
     "execution_count": 134,
     "metadata": {},
     "output_type": "execute_result"
    }
   ],
   "source": [
    "thrD"
   ]
  },
  {
   "cell_type": "code",
   "execution_count": 136,
   "id": "11a74927-3026-44d5-b3b9-5fae4445166e",
   "metadata": {},
   "outputs": [
    {
     "data": {
      "text/plain": [
       "array([[[87, 74, 93],\n",
       "        [17, 85, 75]],\n",
       "\n",
       "       [[95, 71, 40],\n",
       "        [83, 74, 68]],\n",
       "\n",
       "       [[41, 36, 43],\n",
       "        [44, 38, 26]]])"
      ]
     },
     "execution_count": 136,
     "metadata": {},
     "output_type": "execute_result"
    }
   ],
   "source": [
    "np.delete(thrD,0, axis = 1)"
   ]
  },
  {
   "cell_type": "code",
   "execution_count": 138,
   "id": "67a1ec54-8517-4ccb-a69a-7221fd553dd2",
   "metadata": {},
   "outputs": [
    {
     "data": {
      "text/plain": [
       "array([[[56, 70],\n",
       "        [87, 93],\n",
       "        [17, 75]],\n",
       "\n",
       "       [[69, 11],\n",
       "        [95, 40],\n",
       "        [83, 68]],\n",
       "\n",
       "       [[17, 55],\n",
       "        [41, 43],\n",
       "        [44, 26]]])"
      ]
     },
     "execution_count": 138,
     "metadata": {},
     "output_type": "execute_result"
    }
   ],
   "source": [
    "np.delete(thrD,1, axis = 2)"
   ]
  },
  {
   "cell_type": "markdown",
   "id": "f02880e5-1a16-41a9-b959-3046231b079e",
   "metadata": {},
   "source": [
    "### Converte arrays"
   ]
  },
  {
   "cell_type": "code",
   "execution_count": 144,
   "id": "d5ed11c4-11b3-45a8-ae85-5bbbe21e3c38",
   "metadata": {},
   "outputs": [
    {
     "data": {
      "text/plain": [
       "array([[[56, 37, 70],\n",
       "        [87, 74, 93],\n",
       "        [17, 85, 75]],\n",
       "\n",
       "       [[69, 79, 11],\n",
       "        [95, 71, 40],\n",
       "        [83, 74, 68]],\n",
       "\n",
       "       [[17, 10, 55],\n",
       "        [41, 36, 43],\n",
       "        [44, 38, 26]]])"
      ]
     },
     "execution_count": 144,
     "metadata": {},
     "output_type": "execute_result"
    }
   ],
   "source": [
    "thrD"
   ]
  },
  {
   "cell_type": "code",
   "execution_count": 147,
   "id": "8a3252d9-8638-4d74-9109-3c62a864d944",
   "metadata": {},
   "outputs": [
    {
     "data": {
      "text/plain": [
       "array([56, 69, 17, 87, 95, 41, 17, 83, 44, 37, 79, 10, 74, 71, 36, 85, 74,\n",
       "       38, 70, 11, 55, 93, 40, 43, 75, 68, 26])"
      ]
     },
     "execution_count": 147,
     "metadata": {},
     "output_type": "execute_result"
    }
   ],
   "source": [
    "one_d = thrD.reshape(-1,order = 'F') # Columwise  # 3D to 1D \n",
    "one_d"
   ]
  },
  {
   "cell_type": "code",
   "execution_count": 150,
   "id": "3aeba764-eea3-447b-a624-6e3ce3f36258",
   "metadata": {},
   "outputs": [
    {
     "data": {
      "text/plain": [
       "array([56, 37, 70, 87, 74, 93, 17, 85, 75, 69, 79, 11, 95, 71, 40, 83, 74,\n",
       "       68, 17, 10, 55, 41, 36, 43, 44, 38, 26])"
      ]
     },
     "execution_count": 150,
     "metadata": {},
     "output_type": "execute_result"
    }
   ],
   "source": [
    "one_d = thrD.reshape(-1,order = 'c') # row wise  #3D to 1D\n",
    "one_d"
   ]
  },
  {
   "cell_type": "code",
   "execution_count": 151,
   "id": "8572599a-6630-4429-bcb5-249e5047004d",
   "metadata": {},
   "outputs": [
    {
     "data": {
      "text/plain": [
       "array([[[56, 37, 70],\n",
       "        [87, 74, 93],\n",
       "        [17, 85, 75]],\n",
       "\n",
       "       [[69, 79, 11],\n",
       "        [95, 71, 40],\n",
       "        [83, 74, 68]],\n",
       "\n",
       "       [[17, 10, 55],\n",
       "        [41, 36, 43],\n",
       "        [44, 38, 26]]])"
      ]
     },
     "execution_count": 151,
     "metadata": {},
     "output_type": "execute_result"
    }
   ],
   "source": [
    "thrD"
   ]
  },
  {
   "cell_type": "markdown",
   "id": "daab9fe6-d744-4f5f-85ca-0cb0da82d3e9",
   "metadata": {},
   "source": [
    "### 3D to 2D"
   ]
  },
  {
   "cell_type": "code",
   "execution_count": 154,
   "id": "15c376f9-20d1-489e-a630-e19ca6e637f4",
   "metadata": {},
   "outputs": [
    {
     "data": {
      "text/plain": [
       "array([[56, 37, 70],\n",
       "       [87, 74, 93],\n",
       "       [17, 85, 75],\n",
       "       [69, 79, 11],\n",
       "       [95, 71, 40],\n",
       "       [83, 74, 68],\n",
       "       [17, 10, 55],\n",
       "       [41, 36, 43],\n",
       "       [44, 38, 26]])"
      ]
     },
     "execution_count": 154,
     "metadata": {},
     "output_type": "execute_result"
    }
   ],
   "source": [
    "two_dim = thrD.reshape(9,3)\n",
    "two_dim"
   ]
  },
  {
   "cell_type": "code",
   "execution_count": 153,
   "id": "45f0e2a5-654e-408b-94cf-61d2264d3b65",
   "metadata": {},
   "outputs": [
    {
     "data": {
      "text/plain": [
       "2"
      ]
     },
     "execution_count": 153,
     "metadata": {},
     "output_type": "execute_result"
    }
   ],
   "source": [
    "two_dim.ndim"
   ]
  },
  {
   "cell_type": "code",
   "execution_count": 156,
   "id": "0bad4771-2a89-4df2-846f-c34e95612fc3",
   "metadata": {},
   "outputs": [
    {
     "data": {
      "text/plain": [
       "array([[56, 37, 70],\n",
       "       [69, 79, 11],\n",
       "       [17, 10, 55],\n",
       "       [87, 74, 93],\n",
       "       [95, 71, 40],\n",
       "       [41, 36, 43],\n",
       "       [17, 85, 75],\n",
       "       [83, 74, 68],\n",
       "       [44, 38, 26]])"
      ]
     },
     "execution_count": 156,
     "metadata": {},
     "output_type": "execute_result"
    }
   ],
   "source": [
    "two_dim = thrD.reshape((9,3),order = 'F')\n",
    "two_dim"
   ]
  },
  {
   "cell_type": "code",
   "execution_count": 157,
   "id": "e415eac0-a75b-44ec-a603-e5d76edd93dc",
   "metadata": {},
   "outputs": [
    {
     "data": {
      "text/plain": [
       "array([[56, 37, 70],\n",
       "       [87, 74, 93],\n",
       "       [17, 85, 75],\n",
       "       [69, 79, 11],\n",
       "       [95, 71, 40],\n",
       "       [83, 74, 68],\n",
       "       [17, 10, 55],\n",
       "       [41, 36, 43],\n",
       "       [44, 38, 26]])"
      ]
     },
     "execution_count": 157,
     "metadata": {},
     "output_type": "execute_result"
    }
   ],
   "source": [
    "two_dim = thrD.reshape((9,3),order = 'C')\n",
    "two_dim"
   ]
  },
  {
   "cell_type": "code",
   "execution_count": 1,
   "id": "9b60a589-63bb-4c65-bae7-8e028ee3facd",
   "metadata": {},
   "outputs": [
    {
     "name": "stdout",
     "output_type": "stream",
     "text": [
      "1D Array:\n",
      "[1 2 3 4]\n",
      "\n",
      "2D Array:\n",
      "[[1 2 3]\n",
      " [4 5 6]\n",
      " [7 8 9]]\n",
      "\n",
      "3D Array:\n",
      "[[[ 1  2]\n",
      "  [ 3  4]]\n",
      "\n",
      " [[ 5  6]\n",
      "  [ 7  8]]\n",
      "\n",
      " [[ 9 10]\n",
      "  [11 12]]]\n",
      "\n",
      "4D Array:\n",
      "[[[[ 1  2]\n",
      "   [ 3  4]]\n",
      "\n",
      "  [[ 5  6]\n",
      "   [ 7  8]]]\n",
      "\n",
      "\n",
      " [[[ 9 10]\n",
      "   [11 12]]\n",
      "\n",
      "  [[13 14]\n",
      "   [15 16]]]]\n"
     ]
    }
   ],
   "source": [
    "import numpy as np\n",
    "\n",
    "# 1D array: A simple list of elements\n",
    "array_1d = np.array([1, 2, 3, 4])\n",
    "print(\"1D Array:\")\n",
    "print(array_1d)\n",
    "\n",
    "# 2D array: A list of lists (matrix)\n",
    "array_2d = np.array([[1, 2, 3], [4, 5, 6], [7, 8, 9]])\n",
    "print(\"\\n2D Array:\")\n",
    "print(array_2d)\n",
    "\n",
    "# 3D array: A list of lists of lists (cube)\n",
    "array_3d = np.array([[[1, 2], [3, 4]], [[5, 6], [7, 8]], [[9, 10], [11, 12]]])\n",
    "print(\"\\n3D Array:\")\n",
    "print(array_3d)\n",
    "\n",
    "# 4D array: A list of lists of lists of lists (hypercube)\n",
    "array_4d = np.array([[[[1, 2], [3, 4]], [[5, 6], [7, 8]]], [[[9, 10], [11, 12]], [[13, 14], [15, 16]]]])\n",
    "print(\"\\n4D Array:\")\n",
    "print(array_4d)\n"
   ]
  },
  {
   "cell_type": "code",
   "execution_count": null,
   "id": "f23a2205-aecc-434a-ad65-c09fea3b635a",
   "metadata": {},
   "outputs": [],
   "source": []
  }
 ],
 "metadata": {
  "kernelspec": {
   "display_name": "Python 3 (ipykernel)",
   "language": "python",
   "name": "python3"
  },
  "language_info": {
   "codemirror_mode": {
    "name": "ipython",
    "version": 3
   },
   "file_extension": ".py",
   "mimetype": "text/x-python",
   "name": "python",
   "nbconvert_exporter": "python",
   "pygments_lexer": "ipython3",
   "version": "3.11.7"
  }
 },
 "nbformat": 4,
 "nbformat_minor": 5
}
