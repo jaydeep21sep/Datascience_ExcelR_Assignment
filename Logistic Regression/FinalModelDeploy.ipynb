{
 "cells": [
  {
   "cell_type": "code",
   "execution_count": 1,
   "id": "caeb38bd-dd97-4b26-885d-e120df8d4930",
   "metadata": {},
   "outputs": [
    {
     "name": "stderr",
     "output_type": "stream",
     "text": [
      "2024-05-20 11:51:19.812 \n",
      "  \u001b[33m\u001b[1mWarning:\u001b[0m to view this Streamlit app on a browser, run it with the following\n",
      "  command:\n",
      "\n",
      "    streamlit run C:\\Users\\HP\\anaconda3\\Lib\\site-packages\\ipykernel_launcher.py [ARGUMENTS]\n",
      "2024-05-20 11:51:19.812 Session state does not function when running a script without `streamlit run`\n"
     ]
    }
   ],
   "source": [
    "import warnings\n",
    "warnings.filterwarnings('ignore')\n",
    "import pandas as pd\n",
    "import numpy as np\n",
    "import streamlit as st\n",
    "import pickle\n",
    "\n",
    "# Load the trained model\n",
    "model = pickle.load(open('logClass.pkl', 'rb'))\n",
    "\n",
    "# Set the title of the Streamlit app\n",
    "st.title('Model Deployment using Logistic Regression')\n",
    "\n",
    "# Sidebar for user input\n",
    "st.sidebar.subheader('User Input Parameters')\n",
    "\n",
    "def user_input_parameter():\n",
    "    Pclass = st.sidebar.selectbox('Passenger Class', [1, 2, 3])  # Updated to include class 2\n",
    "    Sex = st.sidebar.selectbox('Sex', [0, 1])  # Assuming 0 = female, 1 = male\n",
    "    Age = st.sidebar.number_input('Age', min_value=0, max_value=100, value=30)\n",
    "    SibSp = st.sidebar.number_input('Siblings/Spouses Aboard', min_value=0, max_value=10, value=0)\n",
    "    Parch = st.sidebar.number_input('Parents/Children Aboard', min_value=0, max_value=10, value=0)\n",
    "    Fare = st.sidebar.number_input('Fare', min_value=0.0, value=15.0)\n",
    "    Embarked = st.sidebar.selectbox('Embarked', [0, 1, 2])  # Assuming 0 = Cherbourg, 1 = Queenstown, 2 = Southampton\n",
    "\n",
    "    # Collecting user input into a dictionary\n",
    "    data = {\n",
    "        'Pclass': Pclass,\n",
    "        'Sex': Sex,\n",
    "        'Age': Age,\n",
    "        'SibSp': SibSp,\n",
    "        'Parch': Parch,\n",
    "        'Fare': Fare,\n",
    "        'Embarked': Embarked\n",
    "    }\n",
    "\n",
    "    # Convert dictionary to DataFrame\n",
    "    features = pd.DataFrame(data, index=[0])\n",
    "    return features\n",
    "\n",
    "# Get user input\n",
    "df = user_input_parameter()\n",
    "\n",
    "# Display the user input\n",
    "st.subheader('User Input Parameters')\n",
    "st.write(df)\n",
    "\n",
    "# Make prediction\n",
    "pred = model.predict(df)\n",
    "pred_prob = model.predict_proba(df)\n",
    "\n",
    "# Display the prediction result\n",
    "st.subheader('Predicted Value')\n",
    "st.write('Yes' if pred[0] == 1 else 'No')\n",
    "\n",
    "st.subheader('Prediction Probability')\n",
    "st.write(pred_prob)\n"
   ]
  },
  {
   "cell_type": "code",
   "execution_count": null,
   "id": "d7d8a646-7c90-4199-b742-b7ec35887e64",
   "metadata": {},
   "outputs": [],
   "source": []
  }
 ],
 "metadata": {
  "kernelspec": {
   "display_name": "Python 3 (ipykernel)",
   "language": "python",
   "name": "python3"
  },
  "language_info": {
   "codemirror_mode": {
    "name": "ipython",
    "version": 3
   },
   "file_extension": ".py",
   "mimetype": "text/x-python",
   "name": "python",
   "nbconvert_exporter": "python",
   "pygments_lexer": "ipython3",
   "version": "3.11.7"
  }
 },
 "nbformat": 4,
 "nbformat_minor": 5
}
