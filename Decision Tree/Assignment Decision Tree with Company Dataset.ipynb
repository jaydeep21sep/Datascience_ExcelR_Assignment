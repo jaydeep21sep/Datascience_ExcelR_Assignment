{
 "cells": [
  {
   "cell_type": "markdown",
   "id": "3f301f3d-9644-454c-a8e1-fd95073ee6c7",
   "metadata": {},
   "source": [
    "# target variable = Numeric"
   ]
  },
  {
   "cell_type": "code",
   "execution_count": 33,
   "id": "7024f12f-8c4a-4894-8531-dc9c415f4f5b",
   "metadata": {},
   "outputs": [],
   "source": [
    "import warnings\n",
    "warnings.filterwarnings(\"ignore\") "
   ]
  },
  {
   "cell_type": "markdown",
   "id": "b0bcac0e-a918-48b5-a093-2ba3a1e6a1f0",
   "metadata": {},
   "source": [
    "### Data Import"
   ]
  },
  {
   "cell_type": "code",
   "execution_count": 34,
   "id": "d1163482-97f7-4b54-a260-c716eb84fd60",
   "metadata": {},
   "outputs": [
    {
     "data": {
      "text/html": [
       "<div>\n",
       "<style scoped>\n",
       "    .dataframe tbody tr th:only-of-type {\n",
       "        vertical-align: middle;\n",
       "    }\n",
       "\n",
       "    .dataframe tbody tr th {\n",
       "        vertical-align: top;\n",
       "    }\n",
       "\n",
       "    .dataframe thead th {\n",
       "        text-align: right;\n",
       "    }\n",
       "</style>\n",
       "<table border=\"1\" class=\"dataframe\">\n",
       "  <thead>\n",
       "    <tr style=\"text-align: right;\">\n",
       "      <th></th>\n",
       "      <th>Sales</th>\n",
       "      <th>CompPrice</th>\n",
       "      <th>Income</th>\n",
       "      <th>Advertising</th>\n",
       "      <th>Population</th>\n",
       "      <th>Price</th>\n",
       "      <th>ShelveLoc</th>\n",
       "      <th>Age</th>\n",
       "      <th>Education</th>\n",
       "      <th>Urban</th>\n",
       "      <th>US</th>\n",
       "    </tr>\n",
       "  </thead>\n",
       "  <tbody>\n",
       "    <tr>\n",
       "      <th>0</th>\n",
       "      <td>9.50</td>\n",
       "      <td>138</td>\n",
       "      <td>73</td>\n",
       "      <td>11</td>\n",
       "      <td>276</td>\n",
       "      <td>120</td>\n",
       "      <td>Bad</td>\n",
       "      <td>42</td>\n",
       "      <td>17</td>\n",
       "      <td>Yes</td>\n",
       "      <td>Yes</td>\n",
       "    </tr>\n",
       "    <tr>\n",
       "      <th>1</th>\n",
       "      <td>11.22</td>\n",
       "      <td>111</td>\n",
       "      <td>48</td>\n",
       "      <td>16</td>\n",
       "      <td>260</td>\n",
       "      <td>83</td>\n",
       "      <td>Good</td>\n",
       "      <td>65</td>\n",
       "      <td>10</td>\n",
       "      <td>Yes</td>\n",
       "      <td>Yes</td>\n",
       "    </tr>\n",
       "    <tr>\n",
       "      <th>2</th>\n",
       "      <td>10.06</td>\n",
       "      <td>113</td>\n",
       "      <td>35</td>\n",
       "      <td>10</td>\n",
       "      <td>269</td>\n",
       "      <td>80</td>\n",
       "      <td>Medium</td>\n",
       "      <td>59</td>\n",
       "      <td>12</td>\n",
       "      <td>Yes</td>\n",
       "      <td>Yes</td>\n",
       "    </tr>\n",
       "    <tr>\n",
       "      <th>3</th>\n",
       "      <td>7.40</td>\n",
       "      <td>117</td>\n",
       "      <td>100</td>\n",
       "      <td>4</td>\n",
       "      <td>466</td>\n",
       "      <td>97</td>\n",
       "      <td>Medium</td>\n",
       "      <td>55</td>\n",
       "      <td>14</td>\n",
       "      <td>Yes</td>\n",
       "      <td>Yes</td>\n",
       "    </tr>\n",
       "    <tr>\n",
       "      <th>4</th>\n",
       "      <td>4.15</td>\n",
       "      <td>141</td>\n",
       "      <td>64</td>\n",
       "      <td>3</td>\n",
       "      <td>340</td>\n",
       "      <td>128</td>\n",
       "      <td>Bad</td>\n",
       "      <td>38</td>\n",
       "      <td>13</td>\n",
       "      <td>Yes</td>\n",
       "      <td>No</td>\n",
       "    </tr>\n",
       "  </tbody>\n",
       "</table>\n",
       "</div>"
      ],
      "text/plain": [
       "   Sales  CompPrice  Income  Advertising  Population  Price ShelveLoc  Age  \\\n",
       "0   9.50        138      73           11         276    120       Bad   42   \n",
       "1  11.22        111      48           16         260     83      Good   65   \n",
       "2  10.06        113      35           10         269     80    Medium   59   \n",
       "3   7.40        117     100            4         466     97    Medium   55   \n",
       "4   4.15        141      64            3         340    128       Bad   38   \n",
       "\n",
       "   Education Urban   US  \n",
       "0         17   Yes  Yes  \n",
       "1         10   Yes  Yes  \n",
       "2         12   Yes  Yes  \n",
       "3         14   Yes  Yes  \n",
       "4         13   Yes   No  "
      ]
     },
     "execution_count": 34,
     "metadata": {},
     "output_type": "execute_result"
    }
   ],
   "source": [
    "import pandas as pd\n",
    "company = pd.read_csv(\"Company_Data.csv\")\n",
    "company.head()"
   ]
  },
  {
   "cell_type": "code",
   "execution_count": 35,
   "id": "e6112581-e0cb-4726-b75d-18a63c5e2562",
   "metadata": {},
   "outputs": [],
   "source": [
    "### Split my target variable\n",
    "Ind_Var = company.iloc[:,1:11]\n",
    "Target_Var = company.iloc[:,0]"
   ]
  },
  {
   "cell_type": "code",
   "execution_count": 36,
   "id": "8a4f1821-5aef-49f4-bb1a-7cc87c16e3f1",
   "metadata": {},
   "outputs": [
    {
     "data": {
      "text/html": [
       "<div>\n",
       "<style scoped>\n",
       "    .dataframe tbody tr th:only-of-type {\n",
       "        vertical-align: middle;\n",
       "    }\n",
       "\n",
       "    .dataframe tbody tr th {\n",
       "        vertical-align: top;\n",
       "    }\n",
       "\n",
       "    .dataframe thead th {\n",
       "        text-align: right;\n",
       "    }\n",
       "</style>\n",
       "<table border=\"1\" class=\"dataframe\">\n",
       "  <thead>\n",
       "    <tr style=\"text-align: right;\">\n",
       "      <th></th>\n",
       "      <th>CompPrice</th>\n",
       "      <th>Income</th>\n",
       "      <th>Advertising</th>\n",
       "      <th>Population</th>\n",
       "      <th>Price</th>\n",
       "      <th>ShelveLoc</th>\n",
       "      <th>Age</th>\n",
       "      <th>Education</th>\n",
       "      <th>Urban</th>\n",
       "      <th>US</th>\n",
       "    </tr>\n",
       "  </thead>\n",
       "  <tbody>\n",
       "    <tr>\n",
       "      <th>0</th>\n",
       "      <td>138</td>\n",
       "      <td>73</td>\n",
       "      <td>11</td>\n",
       "      <td>276</td>\n",
       "      <td>120</td>\n",
       "      <td>Bad</td>\n",
       "      <td>42</td>\n",
       "      <td>17</td>\n",
       "      <td>Yes</td>\n",
       "      <td>Yes</td>\n",
       "    </tr>\n",
       "  </tbody>\n",
       "</table>\n",
       "</div>"
      ],
      "text/plain": [
       "   CompPrice  Income  Advertising  Population  Price ShelveLoc  Age  \\\n",
       "0        138      73           11         276    120       Bad   42   \n",
       "\n",
       "   Education Urban   US  \n",
       "0         17   Yes  Yes  "
      ]
     },
     "execution_count": 36,
     "metadata": {},
     "output_type": "execute_result"
    }
   ],
   "source": [
    "Ind_Var.head(1)"
   ]
  },
  {
   "cell_type": "code",
   "execution_count": 37,
   "id": "bbac87be-7391-4bed-b076-5cfabbbf829d",
   "metadata": {},
   "outputs": [
    {
     "data": {
      "text/plain": [
       "0    9.5\n",
       "Name: Sales, dtype: float64"
      ]
     },
     "execution_count": 37,
     "metadata": {},
     "output_type": "execute_result"
    }
   ],
   "source": [
    "Target_Var.head(1)"
   ]
  },
  {
   "cell_type": "code",
   "execution_count": 38,
   "id": "6615f0ae-b8a1-47f1-a254-d9bb011ed40a",
   "metadata": {},
   "outputs": [],
   "source": [
    "df = company.copy()"
   ]
  },
  {
   "cell_type": "code",
   "execution_count": null,
   "id": "ac9f2976-239c-4ceb-9cab-b68f51ac12d7",
   "metadata": {},
   "outputs": [],
   "source": []
  },
  {
   "cell_type": "markdown",
   "id": "3932dd17-6922-40c2-92f3-e654d3c27777",
   "metadata": {},
   "source": [
    "### EDA"
   ]
  },
  {
   "cell_type": "code",
   "execution_count": 39,
   "id": "f18eba3e-948d-427f-8d79-a528c55ad863",
   "metadata": {},
   "outputs": [
    {
     "data": {
      "text/plain": [
       "(400, 11)"
      ]
     },
     "execution_count": 39,
     "metadata": {},
     "output_type": "execute_result"
    }
   ],
   "source": [
    "df.shape"
   ]
  },
  {
   "cell_type": "code",
   "execution_count": 40,
   "id": "b2f77d36-5cf3-44ed-af9d-66fdf968e6d4",
   "metadata": {},
   "outputs": [
    {
     "data": {
      "text/plain": [
       "Sales          0\n",
       "CompPrice      0\n",
       "Income         0\n",
       "Advertising    0\n",
       "Population     0\n",
       "Price          0\n",
       "ShelveLoc      0\n",
       "Age            0\n",
       "Education      0\n",
       "Urban          0\n",
       "US             0\n",
       "dtype: int64"
      ]
     },
     "execution_count": 40,
     "metadata": {},
     "output_type": "execute_result"
    }
   ],
   "source": [
    "df.isnull().sum()"
   ]
  },
  {
   "cell_type": "code",
   "execution_count": 41,
   "id": "4474a6a0-f621-4e1e-a252-0d9dedf50ff1",
   "metadata": {},
   "outputs": [
    {
     "name": "stdout",
     "output_type": "stream",
     "text": [
      "<class 'pandas.core.frame.DataFrame'>\n",
      "RangeIndex: 400 entries, 0 to 399\n",
      "Data columns (total 11 columns):\n",
      " #   Column       Non-Null Count  Dtype  \n",
      "---  ------       --------------  -----  \n",
      " 0   Sales        400 non-null    float64\n",
      " 1   CompPrice    400 non-null    int64  \n",
      " 2   Income       400 non-null    int64  \n",
      " 3   Advertising  400 non-null    int64  \n",
      " 4   Population   400 non-null    int64  \n",
      " 5   Price        400 non-null    int64  \n",
      " 6   ShelveLoc    400 non-null    object \n",
      " 7   Age          400 non-null    int64  \n",
      " 8   Education    400 non-null    int64  \n",
      " 9   Urban        400 non-null    object \n",
      " 10  US           400 non-null    object \n",
      "dtypes: float64(1), int64(7), object(3)\n",
      "memory usage: 34.5+ KB\n"
     ]
    }
   ],
   "source": [
    "df.info()"
   ]
  },
  {
   "cell_type": "code",
   "execution_count": 42,
   "id": "ada52a90-383f-4098-8b1e-88005f720a2e",
   "metadata": {},
   "outputs": [
    {
     "data": {
      "text/html": [
       "<div>\n",
       "<style scoped>\n",
       "    .dataframe tbody tr th:only-of-type {\n",
       "        vertical-align: middle;\n",
       "    }\n",
       "\n",
       "    .dataframe tbody tr th {\n",
       "        vertical-align: top;\n",
       "    }\n",
       "\n",
       "    .dataframe thead th {\n",
       "        text-align: right;\n",
       "    }\n",
       "</style>\n",
       "<table border=\"1\" class=\"dataframe\">\n",
       "  <thead>\n",
       "    <tr style=\"text-align: right;\">\n",
       "      <th></th>\n",
       "      <th>Sales</th>\n",
       "      <th>CompPrice</th>\n",
       "      <th>Income</th>\n",
       "      <th>Advertising</th>\n",
       "      <th>Population</th>\n",
       "      <th>Price</th>\n",
       "      <th>Age</th>\n",
       "      <th>Education</th>\n",
       "    </tr>\n",
       "  </thead>\n",
       "  <tbody>\n",
       "    <tr>\n",
       "      <th>count</th>\n",
       "      <td>400.000000</td>\n",
       "      <td>400.000000</td>\n",
       "      <td>400.000000</td>\n",
       "      <td>400.000000</td>\n",
       "      <td>400.000000</td>\n",
       "      <td>400.000000</td>\n",
       "      <td>400.000000</td>\n",
       "      <td>400.000000</td>\n",
       "    </tr>\n",
       "    <tr>\n",
       "      <th>mean</th>\n",
       "      <td>7.496325</td>\n",
       "      <td>124.975000</td>\n",
       "      <td>68.657500</td>\n",
       "      <td>6.635000</td>\n",
       "      <td>264.840000</td>\n",
       "      <td>115.795000</td>\n",
       "      <td>53.322500</td>\n",
       "      <td>13.900000</td>\n",
       "    </tr>\n",
       "    <tr>\n",
       "      <th>std</th>\n",
       "      <td>2.824115</td>\n",
       "      <td>15.334512</td>\n",
       "      <td>27.986037</td>\n",
       "      <td>6.650364</td>\n",
       "      <td>147.376436</td>\n",
       "      <td>23.676664</td>\n",
       "      <td>16.200297</td>\n",
       "      <td>2.620528</td>\n",
       "    </tr>\n",
       "    <tr>\n",
       "      <th>min</th>\n",
       "      <td>0.000000</td>\n",
       "      <td>77.000000</td>\n",
       "      <td>21.000000</td>\n",
       "      <td>0.000000</td>\n",
       "      <td>10.000000</td>\n",
       "      <td>24.000000</td>\n",
       "      <td>25.000000</td>\n",
       "      <td>10.000000</td>\n",
       "    </tr>\n",
       "    <tr>\n",
       "      <th>25%</th>\n",
       "      <td>5.390000</td>\n",
       "      <td>115.000000</td>\n",
       "      <td>42.750000</td>\n",
       "      <td>0.000000</td>\n",
       "      <td>139.000000</td>\n",
       "      <td>100.000000</td>\n",
       "      <td>39.750000</td>\n",
       "      <td>12.000000</td>\n",
       "    </tr>\n",
       "    <tr>\n",
       "      <th>50%</th>\n",
       "      <td>7.490000</td>\n",
       "      <td>125.000000</td>\n",
       "      <td>69.000000</td>\n",
       "      <td>5.000000</td>\n",
       "      <td>272.000000</td>\n",
       "      <td>117.000000</td>\n",
       "      <td>54.500000</td>\n",
       "      <td>14.000000</td>\n",
       "    </tr>\n",
       "    <tr>\n",
       "      <th>75%</th>\n",
       "      <td>9.320000</td>\n",
       "      <td>135.000000</td>\n",
       "      <td>91.000000</td>\n",
       "      <td>12.000000</td>\n",
       "      <td>398.500000</td>\n",
       "      <td>131.000000</td>\n",
       "      <td>66.000000</td>\n",
       "      <td>16.000000</td>\n",
       "    </tr>\n",
       "    <tr>\n",
       "      <th>max</th>\n",
       "      <td>16.270000</td>\n",
       "      <td>175.000000</td>\n",
       "      <td>120.000000</td>\n",
       "      <td>29.000000</td>\n",
       "      <td>509.000000</td>\n",
       "      <td>191.000000</td>\n",
       "      <td>80.000000</td>\n",
       "      <td>18.000000</td>\n",
       "    </tr>\n",
       "  </tbody>\n",
       "</table>\n",
       "</div>"
      ],
      "text/plain": [
       "            Sales   CompPrice      Income  Advertising  Population  \\\n",
       "count  400.000000  400.000000  400.000000   400.000000  400.000000   \n",
       "mean     7.496325  124.975000   68.657500     6.635000  264.840000   \n",
       "std      2.824115   15.334512   27.986037     6.650364  147.376436   \n",
       "min      0.000000   77.000000   21.000000     0.000000   10.000000   \n",
       "25%      5.390000  115.000000   42.750000     0.000000  139.000000   \n",
       "50%      7.490000  125.000000   69.000000     5.000000  272.000000   \n",
       "75%      9.320000  135.000000   91.000000    12.000000  398.500000   \n",
       "max     16.270000  175.000000  120.000000    29.000000  509.000000   \n",
       "\n",
       "            Price         Age   Education  \n",
       "count  400.000000  400.000000  400.000000  \n",
       "mean   115.795000   53.322500   13.900000  \n",
       "std     23.676664   16.200297    2.620528  \n",
       "min     24.000000   25.000000   10.000000  \n",
       "25%    100.000000   39.750000   12.000000  \n",
       "50%    117.000000   54.500000   14.000000  \n",
       "75%    131.000000   66.000000   16.000000  \n",
       "max    191.000000   80.000000   18.000000  "
      ]
     },
     "execution_count": 42,
     "metadata": {},
     "output_type": "execute_result"
    }
   ],
   "source": [
    "df.describe()"
   ]
  },
  {
   "cell_type": "code",
   "execution_count": 43,
   "id": "6e9f60e6-9888-407c-a2fc-7bb628ca42be",
   "metadata": {},
   "outputs": [
    {
     "data": {
      "text/html": [
       "<div>\n",
       "<style scoped>\n",
       "    .dataframe tbody tr th:only-of-type {\n",
       "        vertical-align: middle;\n",
       "    }\n",
       "\n",
       "    .dataframe tbody tr th {\n",
       "        vertical-align: top;\n",
       "    }\n",
       "\n",
       "    .dataframe thead th {\n",
       "        text-align: right;\n",
       "    }\n",
       "</style>\n",
       "<table border=\"1\" class=\"dataframe\">\n",
       "  <thead>\n",
       "    <tr style=\"text-align: right;\">\n",
       "      <th></th>\n",
       "      <th>Sales</th>\n",
       "      <th>CompPrice</th>\n",
       "      <th>Income</th>\n",
       "      <th>Advertising</th>\n",
       "      <th>Population</th>\n",
       "      <th>Price</th>\n",
       "      <th>ShelveLoc</th>\n",
       "      <th>Age</th>\n",
       "      <th>Education</th>\n",
       "      <th>Urban</th>\n",
       "      <th>US</th>\n",
       "    </tr>\n",
       "  </thead>\n",
       "  <tbody>\n",
       "    <tr>\n",
       "      <th>0</th>\n",
       "      <td>9.5</td>\n",
       "      <td>138</td>\n",
       "      <td>73</td>\n",
       "      <td>11</td>\n",
       "      <td>276</td>\n",
       "      <td>120</td>\n",
       "      <td>Bad</td>\n",
       "      <td>42</td>\n",
       "      <td>17</td>\n",
       "      <td>Yes</td>\n",
       "      <td>Yes</td>\n",
       "    </tr>\n",
       "  </tbody>\n",
       "</table>\n",
       "</div>"
      ],
      "text/plain": [
       "   Sales  CompPrice  Income  Advertising  Population  Price ShelveLoc  Age  \\\n",
       "0    9.5        138      73           11         276    120       Bad   42   \n",
       "\n",
       "   Education Urban   US  \n",
       "0         17   Yes  Yes  "
      ]
     },
     "execution_count": 43,
     "metadata": {},
     "output_type": "execute_result"
    }
   ],
   "source": [
    "df.head(1)"
   ]
  },
  {
   "cell_type": "code",
   "execution_count": 44,
   "id": "0f110fb8-cf0c-46ec-95f7-ccad692c527d",
   "metadata": {},
   "outputs": [
    {
     "data": {
      "image/png": "[encoded data removed]",
      "text/plain": [
       "<Figure size 800x600 with 1 Axes>"
      ]
     },
     "metadata": {},
     "output_type": "display_data"
    },
    {
     "data": {
      "image/png": "[encoded data removed]",
      "text/plain": [
       "<Figure size 800x600 with 1 Axes>"
      ]
     },
     "metadata": {},
     "output_type": "display_data"
    },
    {
     "data": {
      "image/png": "[encoded data removed]",
      "text/plain": [
       "<Figure size 800x600 with 1 Axes>"
      ]
     },
     "metadata": {},
     "output_type": "display_data"
    },
    {
     "data": {
      "image/png": "[encoded data removed]",
      "text/plain": [
       "<Figure size 800x600 with 1 Axes>"
      ]
     },
     "metadata": {},
     "output_type": "display_data"
    },
    {
     "data": {
      "image/png": "[encoded data removed]",
      "text/plain": [
       "<Figure size 800x600 with 1 Axes>"
      ]
     },
     "metadata": {},
     "output_type": "display_data"
    },
    {
     "data": {
      "image/png": "[encoded data removed]",
      "text/plain": [
       "<Figure size 800x600 with 1 Axes>"
      ]
     },
     "metadata": {},
     "output_type": "display_data"
    },
    {
     "data": {
      "image/png": "[encoded data removed]",
      "text/plain": [
       "<Figure size 800x600 with 1 Axes>"
      ]
     },
     "metadata": {},
     "output_type": "display_data"
    }
   ],
   "source": [
    "import matplotlib.pyplot as plt \n",
    "a = df[[\"CompPrice\",\"Income\",\"Advertising\",\"Population\",\"Price\",\"Age\",\"Education\"]]\n",
    "for column in a.columns:\n",
    "    plt.figure(figsize=(8, 6))\n",
    "    plt.boxplot(a[column])\n",
    "    plt.title('Box plot of {}'.format(column))\n",
    "    plt.ylabel('Values')\n",
    "    plt.show()"
   ]
  },
  {
   "cell_type": "code",
   "execution_count": 45,
   "id": "46dcea25-e7a2-49d6-ac96-e9db1279af30",
   "metadata": {},
   "outputs": [
    {
     "name": "stdout",
     "output_type": "stream",
     "text": [
      "ColName   ShelveLoc  DataType==== object ['Bad' 'Good' 'Medium']\n",
      "ColName   Urban  DataType==== object ['Yes' 'No']\n",
      "ColName   US  DataType==== object ['Yes' 'No']\n"
     ]
    }
   ],
   "source": [
    "for col in df.columns:\n",
    "    if df[col].dtype == 'object':\n",
    "        print(\"ColName  \", col,\" DataType====\",df[col].dtype,company[col].unique())"
   ]
  },
  {
   "cell_type": "markdown",
   "id": "f7600e65-c088-4b74-b6f3-0b169ff10124",
   "metadata": {},
   "source": [
    "### Lable Encoding"
   ]
  },
  {
   "cell_type": "code",
   "execution_count": 46,
   "id": "2c7c3e66-66f4-43ed-b47b-bdc70e4bf4bb",
   "metadata": {},
   "outputs": [],
   "source": [
    "from sklearn.preprocessing import LabelEncoder\n",
    "le = LabelEncoder()\n",
    "\n",
    "for col in df.columns:\n",
    "    if df[col].dtype == 'object':\n",
    "        # Apply label encoding to the column\n",
    "        df[col] = le.fit_transform(df[col])"
   ]
  },
  {
   "cell_type": "code",
   "execution_count": 47,
   "id": "0440a080-53c6-4cfd-ae9c-08f071c71686",
   "metadata": {},
   "outputs": [
    {
     "data": {
      "text/html": [
       "<div>\n",
       "<style scoped>\n",
       "    .dataframe tbody tr th:only-of-type {\n",
       "        vertical-align: middle;\n",
       "    }\n",
       "\n",
       "    .dataframe tbody tr th {\n",
       "        vertical-align: top;\n",
       "    }\n",
       "\n",
       "    .dataframe thead th {\n",
       "        text-align: right;\n",
       "    }\n",
       "</style>\n",
       "<table border=\"1\" class=\"dataframe\">\n",
       "  <thead>\n",
       "    <tr style=\"text-align: right;\">\n",
       "      <th></th>\n",
       "      <th>Sales</th>\n",
       "      <th>CompPrice</th>\n",
       "      <th>Income</th>\n",
       "      <th>Advertising</th>\n",
       "      <th>Population</th>\n",
       "      <th>Price</th>\n",
       "      <th>ShelveLoc</th>\n",
       "      <th>Age</th>\n",
       "      <th>Education</th>\n",
       "      <th>Urban</th>\n",
       "      <th>US</th>\n",
       "    </tr>\n",
       "  </thead>\n",
       "  <tbody>\n",
       "    <tr>\n",
       "      <th>0</th>\n",
       "      <td>9.50</td>\n",
       "      <td>138</td>\n",
       "      <td>73</td>\n",
       "      <td>11</td>\n",
       "      <td>276</td>\n",
       "      <td>120</td>\n",
       "      <td>0</td>\n",
       "      <td>42</td>\n",
       "      <td>17</td>\n",
       "      <td>1</td>\n",
       "      <td>1</td>\n",
       "    </tr>\n",
       "    <tr>\n",
       "      <th>1</th>\n",
       "      <td>11.22</td>\n",
       "      <td>111</td>\n",
       "      <td>48</td>\n",
       "      <td>16</td>\n",
       "      <td>260</td>\n",
       "      <td>83</td>\n",
       "      <td>1</td>\n",
       "      <td>65</td>\n",
       "      <td>10</td>\n",
       "      <td>1</td>\n",
       "      <td>1</td>\n",
       "    </tr>\n",
       "    <tr>\n",
       "      <th>2</th>\n",
       "      <td>10.06</td>\n",
       "      <td>113</td>\n",
       "      <td>35</td>\n",
       "      <td>10</td>\n",
       "      <td>269</td>\n",
       "      <td>80</td>\n",
       "      <td>2</td>\n",
       "      <td>59</td>\n",
       "      <td>12</td>\n",
       "      <td>1</td>\n",
       "      <td>1</td>\n",
       "    </tr>\n",
       "    <tr>\n",
       "      <th>3</th>\n",
       "      <td>7.40</td>\n",
       "      <td>117</td>\n",
       "      <td>100</td>\n",
       "      <td>4</td>\n",
       "      <td>466</td>\n",
       "      <td>97</td>\n",
       "      <td>2</td>\n",
       "      <td>55</td>\n",
       "      <td>14</td>\n",
       "      <td>1</td>\n",
       "      <td>1</td>\n",
       "    </tr>\n",
       "    <tr>\n",
       "      <th>4</th>\n",
       "      <td>4.15</td>\n",
       "      <td>141</td>\n",
       "      <td>64</td>\n",
       "      <td>3</td>\n",
       "      <td>340</td>\n",
       "      <td>128</td>\n",
       "      <td>0</td>\n",
       "      <td>38</td>\n",
       "      <td>13</td>\n",
       "      <td>1</td>\n",
       "      <td>0</td>\n",
       "    </tr>\n",
       "  </tbody>\n",
       "</table>\n",
       "</div>"
      ],
      "text/plain": [
       "   Sales  CompPrice  Income  Advertising  Population  Price  ShelveLoc  Age  \\\n",
       "0   9.50        138      73           11         276    120          0   42   \n",
       "1  11.22        111      48           16         260     83          1   65   \n",
       "2  10.06        113      35           10         269     80          2   59   \n",
       "3   7.40        117     100            4         466     97          2   55   \n",
       "4   4.15        141      64            3         340    128          0   38   \n",
       "\n",
       "   Education  Urban  US  \n",
       "0         17      1   1  \n",
       "1         10      1   1  \n",
       "2         12      1   1  \n",
       "3         14      1   1  \n",
       "4         13      1   0  "
      ]
     },
     "execution_count": 47,
     "metadata": {},
     "output_type": "execute_result"
    }
   ],
   "source": [
    "df.head()"
   ]
  },
  {
   "cell_type": "markdown",
   "id": "37e3e4ae-2bdc-4569-9bb5-f81abb906e2e",
   "metadata": {},
   "source": [
    "### Split dataset into x and y"
   ]
  },
  {
   "cell_type": "code",
   "execution_count": 48,
   "id": "dbb95cf9-e3d1-4ad3-834f-cdc673874eff",
   "metadata": {},
   "outputs": [],
   "source": [
    "x = df.iloc[:,1:11]\n",
    "y = df.iloc[:,0]"
   ]
  },
  {
   "cell_type": "markdown",
   "id": "e99caf90-1716-4f47-8eca-cccdd56c5d7d",
   "metadata": {},
   "source": [
    "### Scalling of Dataset "
   ]
  },
  {
   "cell_type": "code",
   "execution_count": 49,
   "id": "36d819a3-a562-4ebb-a4e2-5a674c6a2fd1",
   "metadata": {},
   "outputs": [],
   "source": [
    "from sklearn.preprocessing import StandardScaler\n",
    "SS = StandardScaler()\n",
    "x = SS.fit_transform(x)"
   ]
  },
  {
   "cell_type": "code",
   "execution_count": 50,
   "id": "32d024b8-f1a9-4e3a-bf32-7d843701f925",
   "metadata": {},
   "outputs": [
    {
     "data": {
      "text/plain": [
       "array([[ 0.85045499,  0.15536099,  0.65717702, ...,  1.18444912,\n",
       "         0.64686916,  0.74188112],\n",
       "       [-0.91248434, -0.73906037,  1.40995711, ..., -1.4901134 ,\n",
       "         0.64686916,  0.74188112],\n",
       "       [-0.78189624, -1.20415947,  0.506621  , ..., -0.72595268,\n",
       "         0.64686916,  0.74188112],\n",
       "       ...,\n",
       "       [ 2.41751217, -1.52615116,  0.80773304, ...,  1.56652948,\n",
       "         0.64686916,  0.74188112],\n",
       "       [-1.63071888,  0.37002211,  0.05495295, ..., -0.72595268,\n",
       "         0.64686916,  0.74188112],\n",
       "       [ 0.58927879, -1.13260576, -0.99893918, ...,  0.80236876,\n",
       "         0.64686916,  0.74188112]])"
      ]
     },
     "execution_count": 50,
     "metadata": {},
     "output_type": "execute_result"
    }
   ],
   "source": [
    "x"
   ]
  },
  {
   "cell_type": "markdown",
   "id": "2f44b0e6-88bf-4378-af07-7fe7dfd3bf1d",
   "metadata": {},
   "source": [
    "### Numpy Data convert into Pandas Dataframe "
   ]
  },
  {
   "cell_type": "code",
   "execution_count": 51,
   "id": "2e61fffe-1317-42e4-8a9c-c2d29b5037e3",
   "metadata": {},
   "outputs": [
    {
     "data": {
      "text/html": [
       "<div>\n",
       "<style scoped>\n",
       "    .dataframe tbody tr th:only-of-type {\n",
       "        vertical-align: middle;\n",
       "    }\n",
       "\n",
       "    .dataframe tbody tr th {\n",
       "        vertical-align: top;\n",
       "    }\n",
       "\n",
       "    .dataframe thead th {\n",
       "        text-align: right;\n",
       "    }\n",
       "</style>\n",
       "<table border=\"1\" class=\"dataframe\">\n",
       "  <thead>\n",
       "    <tr style=\"text-align: right;\">\n",
       "      <th></th>\n",
       "      <th>0</th>\n",
       "      <th>1</th>\n",
       "      <th>2</th>\n",
       "      <th>3</th>\n",
       "      <th>4</th>\n",
       "      <th>5</th>\n",
       "      <th>6</th>\n",
       "      <th>7</th>\n",
       "      <th>8</th>\n",
       "      <th>9</th>\n",
       "    </tr>\n",
       "  </thead>\n",
       "  <tbody>\n",
       "    <tr>\n",
       "      <th>0</th>\n",
       "      <td>0.850455</td>\n",
       "      <td>0.155361</td>\n",
       "      <td>0.657177</td>\n",
       "      <td>0.075819</td>\n",
       "      <td>0.177823</td>\n",
       "      <td>-1.570698</td>\n",
       "      <td>-0.699782</td>\n",
       "      <td>1.184449</td>\n",
       "      <td>0.646869</td>\n",
       "      <td>0.741881</td>\n",
       "    </tr>\n",
       "    <tr>\n",
       "      <th>1</th>\n",
       "      <td>-0.912484</td>\n",
       "      <td>-0.739060</td>\n",
       "      <td>1.409957</td>\n",
       "      <td>-0.032882</td>\n",
       "      <td>-1.386854</td>\n",
       "      <td>-0.369399</td>\n",
       "      <td>0.721723</td>\n",
       "      <td>-1.490113</td>\n",
       "      <td>0.646869</td>\n",
       "      <td>0.741881</td>\n",
       "    </tr>\n",
       "    <tr>\n",
       "      <th>2</th>\n",
       "      <td>-0.781896</td>\n",
       "      <td>-1.204159</td>\n",
       "      <td>0.506621</td>\n",
       "      <td>0.028262</td>\n",
       "      <td>-1.513719</td>\n",
       "      <td>0.831899</td>\n",
       "      <td>0.350895</td>\n",
       "      <td>-0.725953</td>\n",
       "      <td>0.646869</td>\n",
       "      <td>0.741881</td>\n",
       "    </tr>\n",
       "    <tr>\n",
       "      <th>3</th>\n",
       "      <td>-0.520720</td>\n",
       "      <td>1.121336</td>\n",
       "      <td>-0.396715</td>\n",
       "      <td>1.366649</td>\n",
       "      <td>-0.794814</td>\n",
       "      <td>0.831899</td>\n",
       "      <td>0.103677</td>\n",
       "      <td>0.038208</td>\n",
       "      <td>0.646869</td>\n",
       "      <td>0.741881</td>\n",
       "    </tr>\n",
       "    <tr>\n",
       "      <th>4</th>\n",
       "      <td>1.046337</td>\n",
       "      <td>-0.166631</td>\n",
       "      <td>-0.547271</td>\n",
       "      <td>0.510625</td>\n",
       "      <td>0.516132</td>\n",
       "      <td>-1.570698</td>\n",
       "      <td>-0.947000</td>\n",
       "      <td>-0.343872</td>\n",
       "      <td>0.646869</td>\n",
       "      <td>-1.347925</td>\n",
       "    </tr>\n",
       "  </tbody>\n",
       "</table>\n",
       "</div>"
      ],
      "text/plain": [
       "          0         1         2         3         4         5         6  \\\n",
       "0  0.850455  0.155361  0.657177  0.075819  0.177823 -1.570698 -0.699782   \n",
       "1 -0.912484 -0.739060  1.409957 -0.032882 -1.386854 -0.369399  0.721723   \n",
       "2 -0.781896 -1.204159  0.506621  0.028262 -1.513719  0.831899  0.350895   \n",
       "3 -0.520720  1.121336 -0.396715  1.366649 -0.794814  0.831899  0.103677   \n",
       "4  1.046337 -0.166631 -0.547271  0.510625  0.516132 -1.570698 -0.947000   \n",
       "\n",
       "          7         8         9  \n",
       "0  1.184449  0.646869  0.741881  \n",
       "1 -1.490113  0.646869  0.741881  \n",
       "2 -0.725953  0.646869  0.741881  \n",
       "3  0.038208  0.646869  0.741881  \n",
       "4 -0.343872  0.646869 -1.347925  "
      ]
     },
     "execution_count": 51,
     "metadata": {},
     "output_type": "execute_result"
    }
   ],
   "source": [
    "x = pd.DataFrame(x)\n",
    "x.head()"
   ]
  },
  {
   "cell_type": "code",
   "execution_count": 52,
   "id": "cac88e47-879a-46e2-ae2b-f56d44ddb0ca",
   "metadata": {},
   "outputs": [
    {
     "data": {
      "text/html": [
       "<div>\n",
       "<style scoped>\n",
       "    .dataframe tbody tr th:only-of-type {\n",
       "        vertical-align: middle;\n",
       "    }\n",
       "\n",
       "    .dataframe tbody tr th {\n",
       "        vertical-align: top;\n",
       "    }\n",
       "\n",
       "    .dataframe thead th {\n",
       "        text-align: right;\n",
       "    }\n",
       "</style>\n",
       "<table border=\"1\" class=\"dataframe\">\n",
       "  <thead>\n",
       "    <tr style=\"text-align: right;\">\n",
       "      <th></th>\n",
       "      <th>CompPrice</th>\n",
       "      <th>Income</th>\n",
       "      <th>Advertising</th>\n",
       "      <th>Population</th>\n",
       "      <th>Price</th>\n",
       "      <th>ShelveLoc</th>\n",
       "      <th>Age</th>\n",
       "      <th>Education</th>\n",
       "      <th>Urban</th>\n",
       "      <th>US</th>\n",
       "    </tr>\n",
       "  </thead>\n",
       "  <tbody>\n",
       "    <tr>\n",
       "      <th>0</th>\n",
       "      <td>0.850455</td>\n",
       "      <td>0.155361</td>\n",
       "      <td>0.657177</td>\n",
       "      <td>0.075819</td>\n",
       "      <td>0.177823</td>\n",
       "      <td>-1.570698</td>\n",
       "      <td>-0.699782</td>\n",
       "      <td>1.184449</td>\n",
       "      <td>0.646869</td>\n",
       "      <td>0.741881</td>\n",
       "    </tr>\n",
       "    <tr>\n",
       "      <th>1</th>\n",
       "      <td>-0.912484</td>\n",
       "      <td>-0.739060</td>\n",
       "      <td>1.409957</td>\n",
       "      <td>-0.032882</td>\n",
       "      <td>-1.386854</td>\n",
       "      <td>-0.369399</td>\n",
       "      <td>0.721723</td>\n",
       "      <td>-1.490113</td>\n",
       "      <td>0.646869</td>\n",
       "      <td>0.741881</td>\n",
       "    </tr>\n",
       "    <tr>\n",
       "      <th>2</th>\n",
       "      <td>-0.781896</td>\n",
       "      <td>-1.204159</td>\n",
       "      <td>0.506621</td>\n",
       "      <td>0.028262</td>\n",
       "      <td>-1.513719</td>\n",
       "      <td>0.831899</td>\n",
       "      <td>0.350895</td>\n",
       "      <td>-0.725953</td>\n",
       "      <td>0.646869</td>\n",
       "      <td>0.741881</td>\n",
       "    </tr>\n",
       "    <tr>\n",
       "      <th>3</th>\n",
       "      <td>-0.520720</td>\n",
       "      <td>1.121336</td>\n",
       "      <td>-0.396715</td>\n",
       "      <td>1.366649</td>\n",
       "      <td>-0.794814</td>\n",
       "      <td>0.831899</td>\n",
       "      <td>0.103677</td>\n",
       "      <td>0.038208</td>\n",
       "      <td>0.646869</td>\n",
       "      <td>0.741881</td>\n",
       "    </tr>\n",
       "    <tr>\n",
       "      <th>4</th>\n",
       "      <td>1.046337</td>\n",
       "      <td>-0.166631</td>\n",
       "      <td>-0.547271</td>\n",
       "      <td>0.510625</td>\n",
       "      <td>0.516132</td>\n",
       "      <td>-1.570698</td>\n",
       "      <td>-0.947000</td>\n",
       "      <td>-0.343872</td>\n",
       "      <td>0.646869</td>\n",
       "      <td>-1.347925</td>\n",
       "    </tr>\n",
       "  </tbody>\n",
       "</table>\n",
       "</div>"
      ],
      "text/plain": [
       "   CompPrice    Income  Advertising  Population     Price  ShelveLoc  \\\n",
       "0   0.850455  0.155361     0.657177    0.075819  0.177823  -1.570698   \n",
       "1  -0.912484 -0.739060     1.409957   -0.032882 -1.386854  -0.369399   \n",
       "2  -0.781896 -1.204159     0.506621    0.028262 -1.513719   0.831899   \n",
       "3  -0.520720  1.121336    -0.396715    1.366649 -0.794814   0.831899   \n",
       "4   1.046337 -0.166631    -0.547271    0.510625  0.516132  -1.570698   \n",
       "\n",
       "        Age  Education     Urban        US  \n",
       "0 -0.699782   1.184449  0.646869  0.741881  \n",
       "1  0.721723  -1.490113  0.646869  0.741881  \n",
       "2  0.350895  -0.725953  0.646869  0.741881  \n",
       "3  0.103677   0.038208  0.646869  0.741881  \n",
       "4 -0.947000  -0.343872  0.646869 -1.347925  "
      ]
     },
     "execution_count": 52,
     "metadata": {},
     "output_type": "execute_result"
    }
   ],
   "source": [
    "x.columns = list(Ind_Var)\n",
    "x.head()"
   ]
  },
  {
   "cell_type": "code",
   "execution_count": null,
   "id": "30d5e36b-eaed-46f3-b59b-d8c092b5a5b6",
   "metadata": {},
   "outputs": [],
   "source": []
  },
  {
   "cell_type": "code",
   "execution_count": null,
   "id": "63c9bf37-19e1-4896-8b0b-e469c2f7f9b3",
   "metadata": {},
   "outputs": [],
   "source": []
  },
  {
   "cell_type": "markdown",
   "id": "af485ee0-a670-4244-b841-414aef6e3f98",
   "metadata": {},
   "source": [
    "### Split the data into training and testing sets"
   ]
  },
  {
   "cell_type": "code",
   "execution_count": 28,
   "id": "5d73f387-5079-4e7f-81bb-5ae792bd5366",
   "metadata": {},
   "outputs": [
    {
     "data": {
      "text/plain": [
       "((280, 10), (280,), (120, 10), (120,))"
      ]
     },
     "execution_count": 28,
     "metadata": {},
     "output_type": "execute_result"
    }
   ],
   "source": [
    "# Split the data into training and testing sets\n",
    "from sklearn.model_selection import train_test_split\n",
    "x_train, x_test, y_train, y_test = train_test_split(x, y, test_size=0.3, random_state=42)\n",
    "x_train.shape, y_train.shape, x_test.shape, y_test.shape"
   ]
  },
  {
   "cell_type": "markdown",
   "id": "3eb61ad6-0f67-4470-83b1-3fa7fc2b5a53",
   "metadata": {},
   "source": [
    "### Model -1 "
   ]
  },
  {
   "cell_type": "code",
   "execution_count": 63,
   "id": "979fe4cd-a65d-4bde-adba-7fe4039762bc",
   "metadata": {},
   "outputs": [
    {
     "name": "stdout",
     "output_type": "stream",
     "text": [
      "Training RMSE error: 0.0\n",
      "Testing RMSE error: 0.5477225575051661\n",
      "\n",
      "Training R2 Score: 1.0\n",
      "Testing R2 Score: -0.20839160839160842\n"
     ]
    }
   ],
   "source": [
    "### Decision Tree Regresser with 'squared error'\n",
    "import numpy as np\n",
    "from sklearn.tree import DecisionTreeRegressor\n",
    "from sklearn.metrics import mean_squared_error,r2_score\n",
    "\n",
    "# Fit the model using Decision Tree for training samples\n",
    "model = DecisionTreeRegressor(criterion='squared_error')\n",
    "model.fit(x_train, y_train)\n",
    "\n",
    "# Calculate the training and testing mse\n",
    "mse_train_error = mean_squared_error(y_train, model.predict(x_train))\n",
    "mse_test_error  = mean_squared_error(y_test, model.predict(x_test))\n",
    "\n",
    "# Print the training and testing error\n",
    "print(\"Training RMSE error:\", np.sqrt(mse_train_error))\n",
    "print(\"Testing RMSE error:\", np.sqrt(mse_test_error))\n",
    "print(\"\")\n",
    "print(\"Training R2 Score:\", r2_score(y_train, model.predict(x_train)))\n",
    "print(\"Testing R2 Score:\", r2_score(y_test, model.predict(x_test)))"
   ]
  },
  {
   "cell_type": "code",
   "execution_count": 30,
   "id": "634065c9-2ed0-4ed1-8bae-ab767123e4bf",
   "metadata": {},
   "outputs": [
    {
     "name": "stdout",
     "output_type": "stream",
     "text": [
      "Number of nodes: 559\n",
      "Depth of the tree: 17\n"
     ]
    }
   ],
   "source": [
    "#Get the number of nodes in the tree\n",
    "num_nodes = model.tree_.node_count\n",
    "# Get the depth of the tree\n",
    "max_depth = model.tree_.max_depth\n",
    "\n",
    "# Print the number of nodes and depth of the tree\n",
    "print(\"Number of nodes:\", num_nodes)\n",
    "print(\"Depth of the tree:\", max_depth)"
   ]
  },
  {
   "cell_type": "markdown",
   "id": "dc183b7a-f2cf-4362-835c-a56bf483c37e",
   "metadata": {},
   "source": [
    "### Improving model=1 with max_depth parameter"
   ]
  },
  {
   "cell_type": "code",
   "execution_count": 31,
   "id": "39edc353-98f0-40d8-8d5d-57ad81551d50",
   "metadata": {},
   "outputs": [
    {
     "name": "stdout",
     "output_type": "stream",
     "text": [
      "Training RMSE error: 0.004952152009360133\n",
      "Testing RMSE error: 2.5587386939083294\n",
      "\n",
      "Training R2 Score: 0.9999968005939355\n",
      "Testing R2 Score: 0.22790914783374283\n"
     ]
    }
   ],
   "source": [
    "model = DecisionTreeRegressor(criterion='squared_error',max_depth= 15)\n",
    "model.fit(x_train, y_train)\n",
    "\n",
    "# Calculate the training and testing mse\n",
    "mse_train_error = mean_squared_error(y_train, model.predict(x_train))\n",
    "mse_test_error  = mean_squared_error(y_test, model.predict(x_test))\n",
    "\n",
    "print(\"Training RMSE error:\", np.sqrt(mse_train_error))\n",
    "print(\"Testing RMSE error:\", np.sqrt(mse_test_error))\n",
    "print(\"\")\n",
    "print(\"Training R2 Score:\", r2_score(y_train, model.predict(x_train)))\n",
    "print(\"Testing R2 Score:\", r2_score(y_test, model.predict(x_test)))"
   ]
  },
  {
   "cell_type": "code",
   "execution_count": 32,
   "id": "0cd765c9-48c1-4396-af03-20590dcbb541",
   "metadata": {},
   "outputs": [
    {
     "name": "stdout",
     "output_type": "stream",
     "text": [
      "Training RMSE error: 0.07885754183819015\n",
      "Testing RMSE error: 2.4771614673220608\n",
      "\n",
      "Training R2 Score: 0.9991887253617203\n",
      "Testing R2 Score: 0.27635566727221406\n"
     ]
    }
   ],
   "source": [
    "model = DecisionTreeRegressor(criterion='squared_error',max_depth= 13)\n",
    "model.fit(x_train, y_train)\n",
    "\n",
    "# Calculate the training and testing mse\n",
    "mse_train_error = mean_squared_error(y_train, model.predict(x_train))\n",
    "mse_test_error  = mean_squared_error(y_test, model.predict(x_test))\n",
    "\n",
    "print(\"Training RMSE error:\", np.sqrt(mse_train_error))\n",
    "print(\"Testing RMSE error:\", np.sqrt(mse_test_error))\n",
    "print(\"\")\n",
    "print(\"Training R2 Score:\", r2_score(y_train, model.predict(x_train)))\n",
    "print(\"Testing R2 Score:\", r2_score(y_test, model.predict(x_test)))"
   ]
  },
  {
   "cell_type": "code",
   "execution_count": 33,
   "id": "bfeeee7c-75e6-4082-93db-8870c12dc427",
   "metadata": {},
   "outputs": [
    {
     "name": "stdout",
     "output_type": "stream",
     "text": [
      "Training RMSE error: 0.32232927704466446\n",
      "Testing RMSE error: 2.526589732587703\n",
      "\n",
      "Training R2 Score: 0.9864455800330243\n",
      "Testing R2 Score: 0.2471889461259451\n"
     ]
    }
   ],
   "source": [
    "model = DecisionTreeRegressor(criterion='squared_error',max_depth= 10)\n",
    "model.fit(x_train, y_train)\n",
    "\n",
    "# Calculate the training and testing mse\n",
    "mse_train_error = mean_squared_error(y_train, model.predict(x_train))\n",
    "mse_test_error  = mean_squared_error(y_test, model.predict(x_test))\n",
    "\n",
    "print(\"Training RMSE error:\", np.sqrt(mse_train_error))\n",
    "print(\"Testing RMSE error:\", np.sqrt(mse_test_error))\n",
    "print(\"\")\n",
    "print(\"Training R2 Score:\", r2_score(y_train, model.predict(x_train)))\n",
    "print(\"Testing R2 Score:\", r2_score(y_test, model.predict(x_test)))"
   ]
  },
  {
   "cell_type": "markdown",
   "id": "ff0efa1b-4374-45ec-a86b-5ee7cd6972f2",
   "metadata": {},
   "source": [
    "## Improve my model with ensemble technique"
   ]
  },
  {
   "cell_type": "markdown",
   "id": "5a7ce9ac-3a52-4539-aa21-a5b7a82e17d1",
   "metadata": {},
   "source": [
    "###  BaggingRegressor"
   ]
  },
  {
   "cell_type": "code",
   "execution_count": 35,
   "id": "c870436b-12be-4098-a713-798d3a142a23",
   "metadata": {},
   "outputs": [
    {
     "name": "stdout",
     "output_type": "stream",
     "text": [
      "Training RMSE error: 1.015471042655734\n",
      "Testing RMSE error: 1.8886938034127763\n",
      "\n",
      "Training R2 Score: 0.8654171778107093\n",
      "Testing R2 Score: 0.5791416019677098\n"
     ]
    }
   ],
   "source": [
    "from sklearn.ensemble import BaggingRegressor\n",
    "train_error =[]\n",
    "test_error = []\n",
    "train_r2 = []\n",
    "test_r2 = []\n",
    "for i in range(1,500,1):\n",
    "    bag_reg = BaggingRegressor(estimator=DecisionTreeRegressor(), n_estimators=100, max_features=0.7,max_samples=0.6,random_state=i)\n",
    "    bag_reg.fit(x_train, y_train)\n",
    "    train_error.append(mean_squared_error(y_train, bag_reg.predict(x_train)))\n",
    "    test_error.append(mean_squared_error(y_test, bag_reg.predict(x_test)))\n",
    "    train_r2.append(r2_score(y_train, bag_reg.predict(x_train)))\n",
    "    test_r2.append(r2_score(y_test, bag_reg.predict(x_test)))\n",
    "\n",
    "print(\"Training RMSE error:\", np.mean(np.sqrt(train_error)))\n",
    "print(\"Testing RMSE error:\", np.mean(np.sqrt(test_error)))\n",
    "print(\"\")\n",
    "print(\"Training R2 Score:\", np.mean(train_r2))\n",
    "print(\"Testing R2 Score:\", np.mean(test_r2))"
   ]
  },
  {
   "cell_type": "code",
   "execution_count": 36,
   "id": "508e8867-775b-42b7-9237-15b24ec7b93e",
   "metadata": {},
   "outputs": [
    {
     "name": "stdout",
     "output_type": "stream",
     "text": [
      "Training RMSE error: 0.9997694099204382\n",
      "Testing RMSE error: 1.8765457028830943\n",
      "\n",
      "Training R2 Score: 0.8695880992757309\n",
      "Testing R2 Score: 0.5846837632751529\n"
     ]
    }
   ],
   "source": [
    "from sklearn.ensemble import BaggingRegressor\n",
    "train_error =[]\n",
    "test_error = []\n",
    "train_r2 = []\n",
    "test_r2 = []\n",
    "for i in range(1,500,1):\n",
    "    bag_reg = BaggingRegressor(estimator=DecisionTreeRegressor(), n_estimators=500, max_features=0.7,max_samples=0.6,random_state=i)\n",
    "    bag_reg.fit(x_train, y_train)\n",
    "    train_error.append(mean_squared_error(y_train, bag_reg.predict(x_train)))\n",
    "    test_error.append(mean_squared_error(y_test, bag_reg.predict(x_test)))\n",
    "    train_r2.append(r2_score(y_train, bag_reg.predict(x_train)))\n",
    "    test_r2.append(r2_score(y_test, bag_reg.predict(x_test)))\n",
    "\n",
    "print(\"Training RMSE error:\", np.mean(np.sqrt(train_error)))\n",
    "print(\"Testing RMSE error:\", np.mean(np.sqrt(test_error)))\n",
    "print(\"\")\n",
    "print(\"Training R2 Score:\", np.mean(train_r2))\n",
    "print(\"Testing R2 Score:\", np.mean(test_r2))"
   ]
  },
  {
   "cell_type": "code",
   "execution_count": null,
   "id": "7d218db4-edf5-4d99-9f45-e375bb1728cc",
   "metadata": {},
   "outputs": [],
   "source": []
  },
  {
   "cell_type": "code",
   "execution_count": null,
   "id": "15a25004-9604-48d7-9558-d1e1ded358eb",
   "metadata": {},
   "outputs": [],
   "source": []
  },
  {
   "cell_type": "markdown",
   "id": "251387f9-c1a1-4a26-a3a5-38af01d4d6c8",
   "metadata": {},
   "source": [
    "# Convert target variable into categorical data "
   ]
  },
  {
   "cell_type": "code",
   "execution_count": 8,
   "id": "88f58ef9-dd6f-458f-ab15-7d96c5be2839",
   "metadata": {},
   "outputs": [],
   "source": [
    "y = df.iloc[:,0]"
   ]
  },
  {
   "cell_type": "code",
   "execution_count": 9,
   "id": "f91db5a1-d72f-4e76-95c6-5973d684209f",
   "metadata": {},
   "outputs": [
    {
     "data": {
      "text/plain": [
       "0     9.50\n",
       "1    11.22\n",
       "2    10.06\n",
       "3     7.40\n",
       "4     4.15\n",
       "Name: Sales, dtype: float64"
      ]
     },
     "execution_count": 9,
     "metadata": {},
     "output_type": "execute_result"
    }
   ],
   "source": [
    "y.head()"
   ]
  },
  {
   "cell_type": "code",
   "execution_count": 53,
   "id": "68c3872b-6654-4567-8d07-1aee3f1967f0",
   "metadata": {},
   "outputs": [
    {
     "data": {
      "text/plain": [
       "7.496325000000001"
      ]
     },
     "execution_count": 53,
     "metadata": {},
     "output_type": "execute_result"
    }
   ],
   "source": [
    "import numpy as np\n",
    "mean_value_of_y = np.mean(y)\n",
    "mean_value_of_y"
   ]
  },
  {
   "cell_type": "code",
   "execution_count": 54,
   "id": "36a39da0-f14e-4e76-9d4c-54619e4e039d",
   "metadata": {},
   "outputs": [
    {
     "data": {
      "text/plain": [
       "array([1, 0])"
      ]
     },
     "execution_count": 54,
     "metadata": {},
     "output_type": "execute_result"
    }
   ],
   "source": [
    "y = (y > mean_value_of_y).astype(int)\n",
    "# Display the result\n",
    "y.unique()\n",
    "#y = y.apply(lambda x: 1 if x > mean_value else 0)"
   ]
  },
  {
   "cell_type": "code",
   "execution_count": 55,
   "id": "5b9b0389-28f9-4f24-bea1-2f44b34ac21f",
   "metadata": {
    "scrolled": true
   },
   "outputs": [
    {
     "data": {
      "text/plain": [
       "0    1\n",
       "1    1\n",
       "2    1\n",
       "3    0\n",
       "4    0\n",
       "Name: Sales, dtype: int32"
      ]
     },
     "execution_count": 55,
     "metadata": {},
     "output_type": "execute_result"
    }
   ],
   "source": [
    "y.head()"
   ]
  },
  {
   "cell_type": "code",
   "execution_count": 56,
   "id": "6e03d962-2fb7-464e-991f-db19116b5c8b",
   "metadata": {},
   "outputs": [
    {
     "data": {
      "text/html": [
       "<div>\n",
       "<style scoped>\n",
       "    .dataframe tbody tr th:only-of-type {\n",
       "        vertical-align: middle;\n",
       "    }\n",
       "\n",
       "    .dataframe tbody tr th {\n",
       "        vertical-align: top;\n",
       "    }\n",
       "\n",
       "    .dataframe thead th {\n",
       "        text-align: right;\n",
       "    }\n",
       "</style>\n",
       "<table border=\"1\" class=\"dataframe\">\n",
       "  <thead>\n",
       "    <tr style=\"text-align: right;\">\n",
       "      <th></th>\n",
       "      <th>CompPrice</th>\n",
       "      <th>Income</th>\n",
       "      <th>Advertising</th>\n",
       "      <th>Population</th>\n",
       "      <th>Price</th>\n",
       "      <th>ShelveLoc</th>\n",
       "      <th>Age</th>\n",
       "      <th>Education</th>\n",
       "      <th>Urban</th>\n",
       "      <th>US</th>\n",
       "    </tr>\n",
       "  </thead>\n",
       "  <tbody>\n",
       "    <tr>\n",
       "      <th>0</th>\n",
       "      <td>0.850455</td>\n",
       "      <td>0.155361</td>\n",
       "      <td>0.657177</td>\n",
       "      <td>0.075819</td>\n",
       "      <td>0.177823</td>\n",
       "      <td>-1.570698</td>\n",
       "      <td>-0.699782</td>\n",
       "      <td>1.184449</td>\n",
       "      <td>0.646869</td>\n",
       "      <td>0.741881</td>\n",
       "    </tr>\n",
       "    <tr>\n",
       "      <th>1</th>\n",
       "      <td>-0.912484</td>\n",
       "      <td>-0.739060</td>\n",
       "      <td>1.409957</td>\n",
       "      <td>-0.032882</td>\n",
       "      <td>-1.386854</td>\n",
       "      <td>-0.369399</td>\n",
       "      <td>0.721723</td>\n",
       "      <td>-1.490113</td>\n",
       "      <td>0.646869</td>\n",
       "      <td>0.741881</td>\n",
       "    </tr>\n",
       "    <tr>\n",
       "      <th>2</th>\n",
       "      <td>-0.781896</td>\n",
       "      <td>-1.204159</td>\n",
       "      <td>0.506621</td>\n",
       "      <td>0.028262</td>\n",
       "      <td>-1.513719</td>\n",
       "      <td>0.831899</td>\n",
       "      <td>0.350895</td>\n",
       "      <td>-0.725953</td>\n",
       "      <td>0.646869</td>\n",
       "      <td>0.741881</td>\n",
       "    </tr>\n",
       "    <tr>\n",
       "      <th>3</th>\n",
       "      <td>-0.520720</td>\n",
       "      <td>1.121336</td>\n",
       "      <td>-0.396715</td>\n",
       "      <td>1.366649</td>\n",
       "      <td>-0.794814</td>\n",
       "      <td>0.831899</td>\n",
       "      <td>0.103677</td>\n",
       "      <td>0.038208</td>\n",
       "      <td>0.646869</td>\n",
       "      <td>0.741881</td>\n",
       "    </tr>\n",
       "    <tr>\n",
       "      <th>4</th>\n",
       "      <td>1.046337</td>\n",
       "      <td>-0.166631</td>\n",
       "      <td>-0.547271</td>\n",
       "      <td>0.510625</td>\n",
       "      <td>0.516132</td>\n",
       "      <td>-1.570698</td>\n",
       "      <td>-0.947000</td>\n",
       "      <td>-0.343872</td>\n",
       "      <td>0.646869</td>\n",
       "      <td>-1.347925</td>\n",
       "    </tr>\n",
       "  </tbody>\n",
       "</table>\n",
       "</div>"
      ],
      "text/plain": [
       "   CompPrice    Income  Advertising  Population     Price  ShelveLoc  \\\n",
       "0   0.850455  0.155361     0.657177    0.075819  0.177823  -1.570698   \n",
       "1  -0.912484 -0.739060     1.409957   -0.032882 -1.386854  -0.369399   \n",
       "2  -0.781896 -1.204159     0.506621    0.028262 -1.513719   0.831899   \n",
       "3  -0.520720  1.121336    -0.396715    1.366649 -0.794814   0.831899   \n",
       "4   1.046337 -0.166631    -0.547271    0.510625  0.516132  -1.570698   \n",
       "\n",
       "        Age  Education     Urban        US  \n",
       "0 -0.699782   1.184449  0.646869  0.741881  \n",
       "1  0.721723  -1.490113  0.646869  0.741881  \n",
       "2  0.350895  -0.725953  0.646869  0.741881  \n",
       "3  0.103677   0.038208  0.646869  0.741881  \n",
       "4 -0.947000  -0.343872  0.646869 -1.347925  "
      ]
     },
     "execution_count": 56,
     "metadata": {},
     "output_type": "execute_result"
    }
   ],
   "source": [
    "x.head()"
   ]
  },
  {
   "cell_type": "code",
   "execution_count": 57,
   "id": "dd1fd6b2-417d-490c-a39f-e829991273dc",
   "metadata": {},
   "outputs": [
    {
     "data": {
      "text/plain": [
       "((280, 10), (280,), (120, 10), (120,))"
      ]
     },
     "execution_count": 57,
     "metadata": {},
     "output_type": "execute_result"
    }
   ],
   "source": [
    "# Split the data into training and testing sets\n",
    "from sklearn.model_selection import train_test_split\n",
    "x_train, x_test, y_train, y_test = train_test_split(x, y, test_size=0.3, random_state=42)\n",
    "x_train.shape, y_train.shape, x_test.shape, y_test.shape"
   ]
  },
  {
   "cell_type": "code",
   "execution_count": 58,
   "id": "9c5b078e-2fe5-49cd-8150-a2588e777d5f",
   "metadata": {},
   "outputs": [
    {
     "name": "stdout",
     "output_type": "stream",
     "text": [
      "Training Accuracy: 1.0\n",
      "Testing Accuracy: 0.6666666666666666\n",
      "\n",
      "Training Precision: 1.0\n",
      "Testing Precision: 0.6984126984126984\n",
      "\n",
      "Training Recall: 1.0\n",
      "Testing Recall: 0.676923076923077\n",
      "\n",
      "Training F1: 1.0\n",
      "Testing F1: 0.6875\n",
      "\n",
      "Training Confusion: [[146   0]\n",
      " [  0 134]]\n",
      "\n",
      "Testing Confusion: [[36 19]\n",
      " [21 44]]\n",
      "\n"
     ]
    }
   ],
   "source": [
    "### Decision Tree Classifier\n",
    "import numpy as np\n",
    "from sklearn.tree import DecisionTreeClassifier\n",
    "from sklearn.metrics import accuracy_score,precision_score,recall_score,f1_score,roc_auc_score,confusion_matrix\n",
    "\n",
    "# Fit the model using Decision Tree for training samples\n",
    "model = DecisionTreeClassifier(criterion='gini')\n",
    "model.fit(x_train, y_train)\n",
    "\n",
    "# Calculate the training and testing Parameters\n",
    "train_acc = accuracy_score(y_train, model.predict(x_train))\n",
    "test_acc  = accuracy_score(y_test, model.predict(x_test))\n",
    "\n",
    "train_prec = precision_score(y_train, model.predict(x_train))\n",
    "test_prec = precision_score(y_test, model.predict(x_test))\n",
    "\n",
    "train_recall = recall_score(y_train, model.predict(x_train))\n",
    "test_recall = recall_score(y_test, model.predict(x_test))\n",
    "\n",
    "train_f1 = f1_score(y_train, model.predict(x_train))\n",
    "test_f1 = f1_score(y_test, model.predict(x_test))\n",
    "\n",
    "train_confusion = confusion_matrix(y_train, model.predict(x_train))\n",
    "test_confusion = confusion_matrix(y_test, model.predict(x_test))\n",
    "\n",
    "# Print the training and testing error\n",
    "print(\"Training Accuracy:\", (train_acc))\n",
    "print(\"Testing Accuracy:\", (test_acc))\n",
    "print(\"\")\n",
    "print(\"Training Precision:\", (train_prec))\n",
    "print(\"Testing Precision:\", (test_prec))\n",
    "print(\"\")\n",
    "print(\"Training Recall:\", (train_recall))\n",
    "print(\"Testing Recall:\", (test_recall))\n",
    "print(\"\")\n",
    "print(\"Training F1:\", (train_f1))\n",
    "print(\"Testing F1:\", (test_f1))\n",
    "print(\"\")\n",
    "print(\"Training Confusion:\", (train_confusion))\n",
    "print(\"\")\n",
    "print(\"Testing Confusion:\", (test_confusion))\n",
    "print(\"\")"
   ]
  },
  {
   "cell_type": "code",
   "execution_count": 59,
   "id": "931d5940-3de9-466c-94c0-579f90d8fcde",
   "metadata": {},
   "outputs": [
    {
     "name": "stdout",
     "output_type": "stream",
     "text": [
      "Number of nodes: 93\n",
      "Depth of the tree: 14\n"
     ]
    }
   ],
   "source": [
    "#Get the number of nodes in the tree\n",
    "num_nodes = model.tree_.node_count\n",
    "# Get the depth of the tree\n",
    "max_depth = model.tree_.max_depth\n",
    "\n",
    "# Print the number of nodes and depth of the tree\n",
    "print(\"Number of nodes:\", num_nodes)\n",
    "print(\"Depth of the tree:\", max_depth)"
   ]
  },
  {
   "cell_type": "code",
   "execution_count": 60,
   "id": "d37e08b3-ab76-4f82-aabb-0e33312586c5",
   "metadata": {},
   "outputs": [
    {
     "name": "stdout",
     "output_type": "stream",
     "text": [
      "Training Accuracy: 0.9964285714285714\n",
      "Testing Accuracy: 0.6916666666666667\n",
      "\n",
      "Training Precision: 1.0\n",
      "Testing Precision: 0.7333333333333333\n",
      "\n",
      "Training Recall: 0.9925373134328358\n",
      "Testing Recall: 0.676923076923077\n",
      "\n",
      "Training F1: 0.9962546816479401\n",
      "Testing F1: 0.7040000000000001\n",
      "\n",
      "Training Confusion: [[146   0]\n",
      " [  1 133]]\n",
      "\n",
      "Testing Confusion: [[39 16]\n",
      " [21 44]]\n",
      "\n"
     ]
    }
   ],
   "source": [
    "### Decision Tree Classifier\n",
    "import numpy as np\n",
    "from sklearn.tree import DecisionTreeClassifier\n",
    "from sklearn.metrics import accuracy_score,precision_score,recall_score,f1_score,roc_auc_score,confusion_matrix\n",
    "\n",
    "# Fit the model using Decision Tree for training samples\n",
    "model = DecisionTreeClassifier(criterion='gini',max_depth=12)\n",
    "model.fit(x_train, y_train)\n",
    "\n",
    "# Calculate the training and testing Parameters\n",
    "train_acc = accuracy_score(y_train, model.predict(x_train))\n",
    "test_acc  = accuracy_score(y_test, model.predict(x_test))\n",
    "\n",
    "train_prec = precision_score(y_train, model.predict(x_train))\n",
    "test_prec = precision_score(y_test, model.predict(x_test))\n",
    "\n",
    "train_recall = recall_score(y_train, model.predict(x_train))\n",
    "test_recall = recall_score(y_test, model.predict(x_test))\n",
    "\n",
    "train_f1 = f1_score(y_train, model.predict(x_train))\n",
    "test_f1 = f1_score(y_test, model.predict(x_test))\n",
    "\n",
    "train_confusion = confusion_matrix(y_train, model.predict(x_train))\n",
    "test_confusion = confusion_matrix(y_test, model.predict(x_test))\n",
    "\n",
    "# Print the training and testing error\n",
    "print(\"Training Accuracy:\", (train_acc))\n",
    "print(\"Testing Accuracy:\", (test_acc))\n",
    "print(\"\")\n",
    "print(\"Training Precision:\", (train_prec))\n",
    "print(\"Testing Precision:\", (test_prec))\n",
    "print(\"\")\n",
    "print(\"Training Recall:\", (train_recall))\n",
    "print(\"Testing Recall:\", (test_recall))\n",
    "print(\"\")\n",
    "print(\"Training F1:\", (train_f1))\n",
    "print(\"Testing F1:\", (test_f1))\n",
    "print(\"\")\n",
    "print(\"Training Confusion:\", (train_confusion))\n",
    "print(\"\")\n",
    "print(\"Testing Confusion:\", (test_confusion))\n",
    "print(\"\")"
   ]
  },
  {
   "cell_type": "code",
   "execution_count": 130,
   "id": "5cf4d8fb-4e6f-4d1c-a93b-9a3d99755273",
   "metadata": {},
   "outputs": [
    {
     "name": "stdout",
     "output_type": "stream",
     "text": [
      "Best parameters found:  {'criterion': 'entropy', 'max_depth': 14, 'max_features': 'auto', 'min_samples_split': 20}\n"
     ]
    }
   ],
   "source": [
    "from sklearn.model_selection import GridSearchCV\n",
    "model = DecisionTreeClassifier()\n",
    "model.fit(x_train, y_train)\n",
    "model.predict(x_train)\n",
    "model.predict(x_test)\n",
    "# Define parameter grid\n",
    "param_grid = {\n",
    "    'criterion': ['gini', 'entropy'],\n",
    "    'max_depth': [10,12,14,16],\n",
    "    'min_samples_split': [2, 5, 10,15,20,25,30],\n",
    "    'max_features': ['auto', 'sqrt', 'log2']\n",
    "}\n",
    "\n",
    "# Initialize GridSearchCV\n",
    "grid_search = GridSearchCV(model, param_grid, cv=5, scoring='accuracy')\n",
    "\n",
    "# Fit GridSearchCV\n",
    "grid_search.fit(x, y)\n",
    "\n",
    "# Best parameters\n",
    "print(\"Best parameters found: \", grid_search.best_params_)"
   ]
  },
  {
   "cell_type": "code",
   "execution_count": null,
   "id": "7698c231-0928-4f7e-b5b7-e4a978dc4321",
   "metadata": {},
   "outputs": [],
   "source": [
    "Best parameters found:  {'criterion': 'gini', 'max_depth': 8, 'max_features': 'auto', 'min_samples_leaf': 6, 'min_samples_split': 15}"
   ]
  },
  {
   "cell_type": "code",
   "execution_count": 138,
   "id": "58051174-9640-4901-823f-676c2ca4e5d9",
   "metadata": {},
   "outputs": [
    {
     "name": "stdout",
     "output_type": "stream",
     "text": [
      "Training Accuracy: 0.8535714285714285\n",
      "Testing Accuracy: 0.7333333333333333\n",
      "\n",
      "Training Precision: 0.8780487804878049\n",
      "Testing Precision: 0.7704918032786885\n",
      "\n",
      "Training Recall: 0.8059701492537313\n",
      "Testing Recall: 0.7230769230769231\n",
      "\n",
      "Training F1: 0.8404669260700388\n",
      "Testing F1: 0.746031746031746\n",
      "\n",
      "Training Confusion: [[131  15]\n",
      " [ 26 108]]\n",
      "\n",
      "Testing Confusion: [[41 14]\n",
      " [18 47]]\n",
      "\n"
     ]
    }
   ],
   "source": [
    "model = DecisionTreeClassifier(criterion='gini',max_depth= 8,max_features='auto',min_samples_leaf=6,min_samples_split = 15)\n",
    "model.fit(x_train, y_train)\n",
    "\n",
    "# Calculate the training and testing Parameters\n",
    "train_acc = accuracy_score(y_train, model.predict(x_train))\n",
    "test_acc  = accuracy_score(y_test, model.predict(x_test))\n",
    "\n",
    "train_prec = precision_score(y_train, model.predict(x_train))\n",
    "test_prec = precision_score(y_test, model.predict(x_test))\n",
    "\n",
    "train_recall = recall_score(y_train, model.predict(x_train))\n",
    "test_recall = recall_score(y_test, model.predict(x_test))\n",
    "\n",
    "train_f1 = f1_score(y_train, model.predict(x_train))\n",
    "test_f1 = f1_score(y_test, model.predict(x_test))\n",
    "\n",
    "train_confusion = confusion_matrix(y_train, model.predict(x_train))\n",
    "test_confusion = confusion_matrix(y_test, model.predict(x_test))\n",
    "\n",
    "# Print the training and testing error\n",
    "print(\"Training Accuracy:\", (train_acc))\n",
    "print(\"Testing Accuracy:\", (test_acc))\n",
    "print(\"\")\n",
    "print(\"Training Precision:\", (train_prec))\n",
    "print(\"Testing Precision:\", (test_prec))\n",
    "print(\"\")\n",
    "print(\"Training Recall:\", (train_recall))\n",
    "print(\"Testing Recall:\", (test_recall))\n",
    "print(\"\")\n",
    "print(\"Training F1:\", (train_f1))\n",
    "print(\"Testing F1:\", (test_f1))\n",
    "print(\"\")\n",
    "print(\"Training Confusion:\", (train_confusion))\n",
    "print(\"\")\n",
    "print(\"Testing Confusion:\", (test_confusion))\n",
    "print(\"\")"
   ]
  },
  {
   "cell_type": "code",
   "execution_count": null,
   "id": "73bd96e3-0385-473c-8e74-b9d98192975a",
   "metadata": {},
   "outputs": [],
   "source": []
  },
  {
   "cell_type": "code",
   "execution_count": 128,
   "id": "4c67f9b0-a844-4a1d-b7b5-31b01ea75a66",
   "metadata": {},
   "outputs": [
    {
     "name": "stdout",
     "output_type": "stream",
     "text": [
      "Training Accuracy: 0.9166129609738635\n",
      "Testing Accuracy: 0.7788429406850459\n",
      "\n",
      "Training Precision: 0.927768333971363\n",
      "Testing Precision: 0.8237620878157715\n",
      "\n",
      "Training Recall: 0.8955410915348072\n",
      "Testing Recall: 0.7534991324465009\n",
      "\n",
      "Training F1: 0.9112732482236752\n",
      "Testing F1: 0.7867071771600574\n",
      "\n"
     ]
    }
   ],
   "source": [
    "from sklearn.ensemble import BaggingClassifier\n",
    "train_acc = []\n",
    "test_acc = []\n",
    "train_prec = []\n",
    "test_acc = []\n",
    "train_prec = []\n",
    "test_prec = []\n",
    "train_recall = []\n",
    "test_recall = []\n",
    "train_f1 = []\n",
    "test_f1 = []\n",
    "\n",
    "for i in range(1,400,1):\n",
    "    model = DecisionTreeClassifier(criterion='gini',max_depth= 8,max_features='auto',min_samples_leaf=6,min_samples_split = 15)\n",
    "    model.fit(x_train, y_train)\n",
    "    bag_reg = BaggingClassifier(estimator=model, n_estimators=200, max_features=0.6,max_samples=0.7,random_state=i)\n",
    "    bag_reg.fit(x_train, y_train)\n",
    "    train_acc.append(accuracy_score(y_train, bag_reg.predict(x_train)))\n",
    "    test_acc.append(accuracy_score(y_test, bag_reg.predict(x_test)))\n",
    "    train_prec.append(precision_score(y_train, bag_reg.predict(x_train)))\n",
    "    test_prec.append(precision_score(y_test, bag_reg.predict(x_test)))\n",
    "    train_recall.append(recall_score(y_train, bag_reg.predict(x_train)))\n",
    "    test_recall.append(recall_score(y_test, bag_reg.predict(x_test)))\n",
    "    train_f1.append(f1_score(y_train, bag_reg.predict(x_train)))\n",
    "    test_f1.append(f1_score(y_test, bag_reg.predict(x_test)))\n",
    "\n",
    "# Print the training and testing error\n",
    "print(\"Training Accuracy:\", np.mean(train_acc))\n",
    "print(\"Testing Accuracy:\", np.mean(test_acc))\n",
    "print(\"\")\n",
    "print(\"Training Precision:\", np.mean(train_prec))\n",
    "print(\"Testing Precision:\", np.mean(test_prec))\n",
    "print(\"\")\n",
    "print(\"Training Recall:\", np.mean(train_recall))\n",
    "print(\"Testing Recall:\", np.mean(test_recall))\n",
    "print(\"\")\n",
    "print(\"Training F1:\", np.mean(train_f1))\n",
    "print(\"Testing F1:\", np.mean(test_f1))\n",
    "print(\"\")\n"
   ]
  },
  {
   "cell_type": "code",
   "execution_count": 129,
   "id": "2c60b611-3899-4970-82bf-a6dffe6edb62",
   "metadata": {},
   "outputs": [
    {
     "name": "stdout",
     "output_type": "stream",
     "text": [
      "Training Accuracy: 0.8252886002886004\n",
      "Testing Accuracy: 0.6664983164983165\n",
      "\n",
      "Training Precision: 0.8372478651502966\n",
      "Testing Precision: 0.7064730667031568\n",
      "\n",
      "Training Recall: 0.7925523895673149\n",
      "Testing Recall: 0.6649572649572651\n",
      "\n",
      "Training F1: 0.8126559793879959\n",
      "Testing F1: 0.6826520285235661\n",
      "\n"
     ]
    }
   ],
   "source": [
    "train_acc = []\n",
    "test_acc = []\n",
    "train_prec = []\n",
    "test_acc = []\n",
    "train_prec = []\n",
    "test_prec = []\n",
    "train_recall = []\n",
    "test_recall = []\n",
    "train_f1 = []\n",
    "test_f1 = []\n",
    "\n",
    "for i in range(1,100,1):\n",
    "    model = DecisionTreeClassifier(criterion='gini',max_depth= 8,max_features='auto',min_samples_leaf=6,min_samples_split = 15,random_state=i)\n",
    "    model.fit(x_train, y_train)\n",
    "    # Calculate the training and testing Parameters\n",
    "    train_acc.append(accuracy_score(y_train, model.predict(x_train)))\n",
    "    test_acc.append(accuracy_score(y_test, model.predict(x_test)))\n",
    "    train_prec.append(precision_score(y_train, model.predict(x_train)))\n",
    "    test_prec.append(precision_score(y_test, model.predict(x_test)))\n",
    "    train_recall.append(recall_score(y_train, model.predict(x_train)))\n",
    "    test_recall.append(recall_score(y_test, model.predict(x_test)))\n",
    "    train_f1.append(f1_score(y_train, model.predict(x_train)))\n",
    "    test_f1.append(f1_score(y_test, model.predict(x_test)))\n",
    "\n",
    "\n",
    "# Print the training and testing error\n",
    "print(\"Training Accuracy:\", np.mean(train_acc))\n",
    "print(\"Testing Accuracy:\", np.mean(test_acc))\n",
    "print(\"\")\n",
    "print(\"Training Precision:\", np.mean(train_prec))\n",
    "print(\"Testing Precision:\", np.mean(test_prec))\n",
    "print(\"\")\n",
    "print(\"Training Recall:\", np.mean(train_recall))\n",
    "print(\"Testing Recall:\", np.mean(test_recall))\n",
    "print(\"\")\n",
    "print(\"Training F1:\", np.mean(train_f1))\n",
    "print(\"Testing F1:\", np.mean(test_f1))\n",
    "print(\"\")"
   ]
  },
  {
   "cell_type": "code",
   "execution_count": 137,
   "id": "7c694996-a203-4a1c-8a2f-642a3c6a3113",
   "metadata": {},
   "outputs": [
    {
     "name": "stdout",
     "output_type": "stream",
     "text": [
      "Training Accuracy: 0.9323845327604727\n",
      "Testing Accuracy: 0.7859231411862991\n",
      "\n",
      "Training Precision: 0.9373066902772449\n",
      "Testing Precision: 0.828605713914571\n",
      "\n",
      "Training Recall: 0.9203793064751431\n",
      "Testing Recall: 0.7632157316367842\n",
      "\n",
      "Training F1: 0.928694419228949\n",
      "Testing F1: 0.7942187428811822\n",
      "\n"
     ]
    }
   ],
   "source": [
    "\n",
    "from sklearn.ensemble import BaggingClassifier\n",
    "train_acc = []\n",
    "test_acc = []\n",
    "train_prec = []\n",
    "test_acc = []\n",
    "train_prec = []\n",
    "test_prec = []\n",
    "train_recall = []\n",
    "test_recall = []\n",
    "train_f1 = []\n",
    "test_f1 = []\n",
    "\n",
    "for i in range(1,400,1):\n",
    "    model = DecisionTreeClassifier(criterion='entropy',max_depth= 14,max_features='auto', min_samples_split= 20)\n",
    "    model.fit(x_train, y_train)\n",
    "    bag_reg = BaggingClassifier(estimator=model, n_estimators=200, max_features=0.6,max_samples=0.7,random_state=i)\n",
    "    bag_reg.fit(x_train, y_train)\n",
    "    train_acc.append(accuracy_score(y_train, bag_reg.predict(x_train)))\n",
    "    test_acc.append(accuracy_score(y_test, bag_reg.predict(x_test)))\n",
    "    train_prec.append(precision_score(y_train, bag_reg.predict(x_train)))\n",
    "    test_prec.append(precision_score(y_test, bag_reg.predict(x_test)))\n",
    "    train_recall.append(recall_score(y_train, bag_reg.predict(x_train)))\n",
    "    test_recall.append(recall_score(y_test, bag_reg.predict(x_test)))\n",
    "    train_f1.append(f1_score(y_train, bag_reg.predict(x_train)))\n",
    "    test_f1.append(f1_score(y_test, bag_reg.predict(x_test)))\n",
    "\n",
    "# Print the training and testing error\n",
    "print(\"Training Accuracy:\", np.mean(train_acc))\n",
    "print(\"Testing Accuracy:\", np.mean(test_acc))\n",
    "print(\"\")\n",
    "print(\"Training Precision:\", np.mean(train_prec))\n",
    "print(\"Testing Precision:\", np.mean(test_prec))\n",
    "print(\"\")\n",
    "print(\"Training Recall:\", np.mean(train_recall))\n",
    "print(\"Testing Recall:\", np.mean(test_recall))\n",
    "print(\"\")\n",
    "print(\"Training F1:\", np.mean(train_f1))\n",
    "print(\"Testing F1:\", np.mean(test_f1))\n",
    "print(\"\")\n",
    "\n"
   ]
  },
  {
   "cell_type": "code",
   "execution_count": 142,
   "id": "b136667e-aca0-4a67-8267-5403f68387e1",
   "metadata": {},
   "outputs": [
    {
     "name": "stdout",
     "output_type": "stream",
     "text": [
      "Training Accuracy: 0.8535714285714285\n",
      "Testing Accuracy: 0.725\n",
      "\n",
      "Training Precision: 0.8251748251748252\n",
      "Testing Precision: 0.7222222222222222\n",
      "\n",
      "Training Recall: 0.8805970149253731\n",
      "Testing Recall: 0.8\n",
      "\n",
      "Training F1: 0.851985559566787\n",
      "Testing F1: 0.759124087591241\n",
      "\n",
      "Training Confusion: [[121  25]\n",
      " [ 16 118]]\n",
      "\n",
      "Testing Confusion: [[35 20]\n",
      " [13 52]]\n",
      "\n"
     ]
    }
   ],
   "source": [
    "model = DecisionTreeClassifier(criterion='entropy', max_depth= 14, max_features= 'auto',min_samples_split=20)\n",
    "model.fit(x_train, y_train)\n",
    "\n",
    "# Calculate the training and testing Parameters\n",
    "train_acc = accuracy_score(y_train, model.predict(x_train))\n",
    "test_acc  = accuracy_score(y_test, model.predict(x_test))\n",
    "\n",
    "train_prec = precision_score(y_train, model.predict(x_train))\n",
    "test_prec = precision_score(y_test, model.predict(x_test))\n",
    "\n",
    "train_recall = recall_score(y_train, model.predict(x_train))\n",
    "test_recall = recall_score(y_test, model.predict(x_test))\n",
    "\n",
    "train_f1 = f1_score(y_train, model.predict(x_train))\n",
    "test_f1 = f1_score(y_test, model.predict(x_test))\n",
    "\n",
    "train_confusion = confusion_matrix(y_train, model.predict(x_train))\n",
    "test_confusion = confusion_matrix(y_test, model.predict(x_test))\n",
    "\n",
    "# Print the training and testing error\n",
    "print(\"Training Accuracy:\", (train_acc))\n",
    "print(\"Testing Accuracy:\", (test_acc))\n",
    "print(\"\")\n",
    "print(\"Training Precision:\", (train_prec))\n",
    "print(\"Testing Precision:\", (test_prec))\n",
    "print(\"\")\n",
    "print(\"Training Recall:\", (train_recall))\n",
    "print(\"Testing Recall:\", (test_recall))\n",
    "print(\"\")\n",
    "print(\"Training F1:\", (train_f1))\n",
    "print(\"Testing F1:\", (test_f1))\n",
    "print(\"\")\n",
    "print(\"Training Confusion:\", (train_confusion))\n",
    "print(\"\")\n",
    "print(\"Testing Confusion:\", (test_confusion))\n",
    "print(\"\")"
   ]
  },
  {
   "cell_type": "code",
   "execution_count": null,
   "id": "84ccedf7-4fb5-4301-ae91-25817e839528",
   "metadata": {},
   "outputs": [],
   "source": []
  }
 ],
 "metadata": {
  "kernelspec": {
   "display_name": "Python 3 (ipykernel)",
   "language": "python",
   "name": "python3"
  },
  "language_info": {
   "codemirror_mode": {
    "name": "ipython",
    "version": 3
   },
   "file_extension": ".py",
   "mimetype": "text/x-python",
   "name": "python",
   "nbconvert_exporter": "python",
   "pygments_lexer": "ipython3",
   "version": "3.11.7"
  }
 },
 "nbformat": 4,
 "nbformat_minor": 5
}
