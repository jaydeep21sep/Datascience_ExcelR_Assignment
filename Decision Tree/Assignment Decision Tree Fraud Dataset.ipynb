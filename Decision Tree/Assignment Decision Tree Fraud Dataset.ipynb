{
 "cells": [
  {
   "cell_type": "code",
   "execution_count": 39,
   "id": "1609573d-32d1-4522-9a86-ff9d60833e8c",
   "metadata": {},
   "outputs": [
    {
     "data": {
      "text/html": [
       "<div>\n",
       "<style scoped>\n",
       "    .dataframe tbody tr th:only-of-type {\n",
       "        vertical-align: middle;\n",
       "    }\n",
       "\n",
       "    .dataframe tbody tr th {\n",
       "        vertical-align: top;\n",
       "    }\n",
       "\n",
       "    .dataframe thead th {\n",
       "        text-align: right;\n",
       "    }\n",
       "</style>\n",
       "<table border=\"1\" class=\"dataframe\">\n",
       "  <thead>\n",
       "    <tr style=\"text-align: right;\">\n",
       "      <th></th>\n",
       "      <th>Undergrad</th>\n",
       "      <th>Marital.Status</th>\n",
       "      <th>Taxable.Income</th>\n",
       "      <th>City.Population</th>\n",
       "      <th>Work.Experience</th>\n",
       "      <th>Urban</th>\n",
       "    </tr>\n",
       "  </thead>\n",
       "  <tbody>\n",
       "    <tr>\n",
       "      <th>0</th>\n",
       "      <td>NO</td>\n",
       "      <td>Single</td>\n",
       "      <td>68833</td>\n",
       "      <td>50047</td>\n",
       "      <td>10</td>\n",
       "      <td>YES</td>\n",
       "    </tr>\n",
       "    <tr>\n",
       "      <th>1</th>\n",
       "      <td>YES</td>\n",
       "      <td>Divorced</td>\n",
       "      <td>33700</td>\n",
       "      <td>134075</td>\n",
       "      <td>18</td>\n",
       "      <td>YES</td>\n",
       "    </tr>\n",
       "    <tr>\n",
       "      <th>2</th>\n",
       "      <td>NO</td>\n",
       "      <td>Married</td>\n",
       "      <td>36925</td>\n",
       "      <td>160205</td>\n",
       "      <td>30</td>\n",
       "      <td>YES</td>\n",
       "    </tr>\n",
       "    <tr>\n",
       "      <th>3</th>\n",
       "      <td>YES</td>\n",
       "      <td>Single</td>\n",
       "      <td>50190</td>\n",
       "      <td>193264</td>\n",
       "      <td>15</td>\n",
       "      <td>YES</td>\n",
       "    </tr>\n",
       "    <tr>\n",
       "      <th>4</th>\n",
       "      <td>NO</td>\n",
       "      <td>Married</td>\n",
       "      <td>81002</td>\n",
       "      <td>27533</td>\n",
       "      <td>28</td>\n",
       "      <td>NO</td>\n",
       "    </tr>\n",
       "  </tbody>\n",
       "</table>\n",
       "</div>"
      ],
      "text/plain": [
       "  Undergrad Marital.Status  Taxable.Income  City.Population  Work.Experience  \\\n",
       "0        NO         Single           68833            50047               10   \n",
       "1       YES       Divorced           33700           134075               18   \n",
       "2        NO        Married           36925           160205               30   \n",
       "3       YES         Single           50190           193264               15   \n",
       "4        NO        Married           81002            27533               28   \n",
       "\n",
       "  Urban  \n",
       "0   YES  \n",
       "1   YES  \n",
       "2   YES  \n",
       "3   YES  \n",
       "4    NO  "
      ]
     },
     "execution_count": 39,
     "metadata": {},
     "output_type": "execute_result"
    }
   ],
   "source": [
    "import warnings\n",
    "warnings.filterwarnings(\"ignore\") \n",
    "import pandas as pd\n",
    "fraud_dataset = pd.read_csv(\"Fraud_check.csv\")\n",
    "fraud_dataset.head(5)"
   ]
  },
  {
   "cell_type": "code",
   "execution_count": 2,
   "id": "bb37123e-fd65-4178-abcf-ba60f07d85ac",
   "metadata": {},
   "outputs": [],
   "source": [
    "df = fraud_dataset.copy()"
   ]
  },
  {
   "cell_type": "code",
   "execution_count": 3,
   "id": "3099146b-8ec6-40e9-86b4-bbd44e736037",
   "metadata": {},
   "outputs": [],
   "source": [
    "### Split my target variable\n",
    "Ind_Var = df.drop(\"Taxable.Income\", axis = 1 , inplace=False)\n",
    "Target_Var = df.iloc[:,1]"
   ]
  },
  {
   "cell_type": "code",
   "execution_count": 5,
   "id": "16e6d59b-e684-4690-9872-29f0d4b02d12",
   "metadata": {},
   "outputs": [
    {
     "name": "stdout",
     "output_type": "stream",
     "text": [
      "<class 'pandas.core.frame.DataFrame'>\n",
      "RangeIndex: 600 entries, 0 to 599\n",
      "Data columns (total 6 columns):\n",
      " #   Column           Non-Null Count  Dtype \n",
      "---  ------           --------------  ----- \n",
      " 0   Undergrad        600 non-null    object\n",
      " 1   Marital.Status   600 non-null    object\n",
      " 2   Taxable.Income   600 non-null    int64 \n",
      " 3   City.Population  600 non-null    int64 \n",
      " 4   Work.Experience  600 non-null    int64 \n",
      " 5   Urban            600 non-null    object\n",
      "dtypes: int64(3), object(3)\n",
      "memory usage: 28.3+ KB\n"
     ]
    }
   ],
   "source": [
    "df.info()\n"
   ]
  },
  {
   "cell_type": "code",
   "execution_count": 7,
   "id": "35fa9f10-322f-45e6-8a1d-7d1bb1b29aa4",
   "metadata": {},
   "outputs": [
    {
     "name": "stdout",
     "output_type": "stream",
     "text": [
      "ColName   Undergrad  DataType==== object ['NO' 'YES']\n",
      "ColName   Marital.Status  DataType==== object ['Single' 'Divorced' 'Married']\n",
      "ColName   Urban  DataType==== object ['YES' 'NO']\n"
     ]
    }
   ],
   "source": [
    "for col in df.columns:\n",
    "    if df[col].dtype == 'object':\n",
    "        print(\"ColName  \", col,\" DataType====\",df[col].dtype,df[col].unique())"
   ]
  },
  {
   "cell_type": "code",
   "execution_count": 8,
   "id": "14e00aba-2d65-4666-990f-14f74919019e",
   "metadata": {},
   "outputs": [],
   "source": [
    "from sklearn.preprocessing import LabelEncoder\n",
    "le = LabelEncoder()\n",
    "\n",
    "for col in df.columns:\n",
    "    if df[col].dtype == 'object':\n",
    "        # Apply label encoding to the column\n",
    "        df[col] = le.fit_transform(df[col])"
   ]
  },
  {
   "cell_type": "code",
   "execution_count": 10,
   "id": "17de34d4-8d89-4b5f-9e10-c54968410ad8",
   "metadata": {},
   "outputs": [
    {
     "data": {
      "text/html": [
       "<div>\n",
       "<style scoped>\n",
       "    .dataframe tbody tr th:only-of-type {\n",
       "        vertical-align: middle;\n",
       "    }\n",
       "\n",
       "    .dataframe tbody tr th {\n",
       "        vertical-align: top;\n",
       "    }\n",
       "\n",
       "    .dataframe thead th {\n",
       "        text-align: right;\n",
       "    }\n",
       "</style>\n",
       "<table border=\"1\" class=\"dataframe\">\n",
       "  <thead>\n",
       "    <tr style=\"text-align: right;\">\n",
       "      <th></th>\n",
       "      <th>Undergrad</th>\n",
       "      <th>Marital.Status</th>\n",
       "      <th>Taxable.Income</th>\n",
       "      <th>City.Population</th>\n",
       "      <th>Work.Experience</th>\n",
       "      <th>Urban</th>\n",
       "    </tr>\n",
       "  </thead>\n",
       "  <tbody>\n",
       "    <tr>\n",
       "      <th>0</th>\n",
       "      <td>0</td>\n",
       "      <td>2</td>\n",
       "      <td>68833</td>\n",
       "      <td>50047</td>\n",
       "      <td>10</td>\n",
       "      <td>1</td>\n",
       "    </tr>\n",
       "    <tr>\n",
       "      <th>1</th>\n",
       "      <td>1</td>\n",
       "      <td>0</td>\n",
       "      <td>33700</td>\n",
       "      <td>134075</td>\n",
       "      <td>18</td>\n",
       "      <td>1</td>\n",
       "    </tr>\n",
       "    <tr>\n",
       "      <th>2</th>\n",
       "      <td>0</td>\n",
       "      <td>1</td>\n",
       "      <td>36925</td>\n",
       "      <td>160205</td>\n",
       "      <td>30</td>\n",
       "      <td>1</td>\n",
       "    </tr>\n",
       "  </tbody>\n",
       "</table>\n",
       "</div>"
      ],
      "text/plain": [
       "   Undergrad  Marital.Status  Taxable.Income  City.Population  \\\n",
       "0          0               2           68833            50047   \n",
       "1          1               0           33700           134075   \n",
       "2          0               1           36925           160205   \n",
       "\n",
       "   Work.Experience  Urban  \n",
       "0               10      1  \n",
       "1               18      1  \n",
       "2               30      1  "
      ]
     },
     "execution_count": 10,
     "metadata": {},
     "output_type": "execute_result"
    }
   ],
   "source": [
    "df.head(3)"
   ]
  },
  {
   "cell_type": "code",
   "execution_count": 12,
   "id": "0a40c921-24b1-4307-aeae-cab7f22817e8",
   "metadata": {},
   "outputs": [],
   "source": [
    "x = df.drop(\"Taxable.Income\", axis = 1 , inplace=False)\n",
    "y = df.iloc[:,2]"
   ]
  },
  {
   "cell_type": "code",
   "execution_count": 19,
   "id": "2fee74af-6b41-4791-ae3b-2137233722b1",
   "metadata": {},
   "outputs": [],
   "source": [
    "y = y.apply(lambda x: 0 if x <= 30000 else 1)"
   ]
  },
  {
   "cell_type": "code",
   "execution_count": 24,
   "id": "26df8d79-32e0-4762-a9b6-787d8186d13b",
   "metadata": {},
   "outputs": [],
   "source": [
    "from sklearn.preprocessing import StandardScaler\n",
    "SS = StandardScaler()\n",
    "x = SS.fit_transform(x)"
   ]
  },
  {
   "cell_type": "code",
   "execution_count": 25,
   "id": "2e64df47-fa4f-4e8b-905c-4ad836ab2c50",
   "metadata": {},
   "outputs": [
    {
     "data": {
      "text/plain": [
       "array([[-1.040833  ,  1.16079994, -1.17852072, -0.62914254,  0.99335541],\n",
       "       [ 0.96076892, -1.27444469,  0.50850002,  0.27636996,  0.99335541],\n",
       "       [-1.040833  , -0.05682237,  1.03310911,  1.63463872,  0.99335541],\n",
       "       ...,\n",
       "       [-1.040833  , -1.27444469,  0.90969648, -1.76103318,  0.99335541],\n",
       "       [ 0.96076892, -0.05682237,  1.43219749,  0.1631809 , -1.00668904],\n",
       "       [-1.040833  , -1.27444469,  0.9915901 ,  0.04999184, -1.00668904]])"
      ]
     },
     "execution_count": 25,
     "metadata": {},
     "output_type": "execute_result"
    }
   ],
   "source": [
    "x"
   ]
  },
  {
   "cell_type": "code",
   "execution_count": 26,
   "id": "59718e4f-b9c0-41ac-be21-e81b8e73f1ca",
   "metadata": {},
   "outputs": [
    {
     "data": {
      "text/html": [
       "<div>\n",
       "<style scoped>\n",
       "    .dataframe tbody tr th:only-of-type {\n",
       "        vertical-align: middle;\n",
       "    }\n",
       "\n",
       "    .dataframe tbody tr th {\n",
       "        vertical-align: top;\n",
       "    }\n",
       "\n",
       "    .dataframe thead th {\n",
       "        text-align: right;\n",
       "    }\n",
       "</style>\n",
       "<table border=\"1\" class=\"dataframe\">\n",
       "  <thead>\n",
       "    <tr style=\"text-align: right;\">\n",
       "      <th></th>\n",
       "      <th>Undergrad</th>\n",
       "      <th>Marital.Status</th>\n",
       "      <th>City.Population</th>\n",
       "      <th>Work.Experience</th>\n",
       "      <th>Urban</th>\n",
       "    </tr>\n",
       "  </thead>\n",
       "  <tbody>\n",
       "    <tr>\n",
       "      <th>0</th>\n",
       "      <td>-1.040833</td>\n",
       "      <td>1.160800</td>\n",
       "      <td>-1.178521</td>\n",
       "      <td>-0.629143</td>\n",
       "      <td>0.993355</td>\n",
       "    </tr>\n",
       "    <tr>\n",
       "      <th>1</th>\n",
       "      <td>0.960769</td>\n",
       "      <td>-1.274445</td>\n",
       "      <td>0.508500</td>\n",
       "      <td>0.276370</td>\n",
       "      <td>0.993355</td>\n",
       "    </tr>\n",
       "    <tr>\n",
       "      <th>2</th>\n",
       "      <td>-1.040833</td>\n",
       "      <td>-0.056822</td>\n",
       "      <td>1.033109</td>\n",
       "      <td>1.634639</td>\n",
       "      <td>0.993355</td>\n",
       "    </tr>\n",
       "    <tr>\n",
       "      <th>3</th>\n",
       "      <td>0.960769</td>\n",
       "      <td>1.160800</td>\n",
       "      <td>1.696831</td>\n",
       "      <td>-0.063197</td>\n",
       "      <td>0.993355</td>\n",
       "    </tr>\n",
       "    <tr>\n",
       "      <th>4</th>\n",
       "      <td>-1.040833</td>\n",
       "      <td>-0.056822</td>\n",
       "      <td>-1.630532</td>\n",
       "      <td>1.408261</td>\n",
       "      <td>-1.006689</td>\n",
       "    </tr>\n",
       "  </tbody>\n",
       "</table>\n",
       "</div>"
      ],
      "text/plain": [
       "   Undergrad  Marital.Status  City.Population  Work.Experience     Urban\n",
       "0  -1.040833        1.160800        -1.178521        -0.629143  0.993355\n",
       "1   0.960769       -1.274445         0.508500         0.276370  0.993355\n",
       "2  -1.040833       -0.056822         1.033109         1.634639  0.993355\n",
       "3   0.960769        1.160800         1.696831        -0.063197  0.993355\n",
       "4  -1.040833       -0.056822        -1.630532         1.408261 -1.006689"
      ]
     },
     "execution_count": 26,
     "metadata": {},
     "output_type": "execute_result"
    }
   ],
   "source": [
    "x = pd.DataFrame(x)\n",
    "x.columns = list(Ind_Var)\n",
    "x.head()"
   ]
  },
  {
   "cell_type": "code",
   "execution_count": 27,
   "id": "3086416f-0545-467b-8b41-5b8ae72b87fd",
   "metadata": {},
   "outputs": [
    {
     "data": {
      "text/plain": [
       "0    1\n",
       "1    1\n",
       "2    1\n",
       "3    1\n",
       "4    1\n",
       "Name: Taxable.Income, dtype: int64"
      ]
     },
     "execution_count": 27,
     "metadata": {},
     "output_type": "execute_result"
    }
   ],
   "source": [
    "y.head()"
   ]
  },
  {
   "cell_type": "code",
   "execution_count": 28,
   "id": "f6018978-77e7-47f2-8f4b-6c374f364447",
   "metadata": {},
   "outputs": [
    {
     "data": {
      "text/plain": [
       "((420, 5), (420,), (180, 5), (180,))"
      ]
     },
     "execution_count": 28,
     "metadata": {},
     "output_type": "execute_result"
    }
   ],
   "source": [
    "# Split the data into training and testing sets\n",
    "from sklearn.model_selection import train_test_split\n",
    "x_train, x_test, y_train, y_test = train_test_split(x, y, test_size=0.3, random_state=42)\n",
    "x_train.shape, y_train.shape, x_test.shape, y_test.shape"
   ]
  },
  {
   "cell_type": "markdown",
   "id": "bc47a74a-346b-4ae0-a5b3-13e3717e09a2",
   "metadata": {},
   "source": [
    "#"
   ]
  },
  {
   "cell_type": "code",
   "execution_count": 30,
   "id": "7f2b8313-e3c8-4aed-877d-ac155cbbc06b",
   "metadata": {},
   "outputs": [
    {
     "name": "stdout",
     "output_type": "stream",
     "text": [
      "Training Accuracy: 1.0\n",
      "Testing Accuracy: 0.6222222222222222\n",
      "\n",
      "Training Precision: 1.0\n",
      "Testing Precision: 0.7906976744186046\n",
      "\n",
      "Training Recall: 1.0\n",
      "Testing Recall: 0.7132867132867133\n",
      "\n",
      "Training F1: 1.0\n",
      "Testing F1: 0.7499999999999999\n",
      "\n",
      "Training Confusion: [[ 87   0]\n",
      " [  0 333]]\n",
      "\n",
      "Testing Confusion: [[ 10  27]\n",
      " [ 41 102]]\n",
      "\n"
     ]
    }
   ],
   "source": [
    "### Decision Tree Classifier\n",
    "import numpy as np\n",
    "from sklearn.tree import DecisionTreeClassifier\n",
    "from sklearn.metrics import accuracy_score,precision_score,recall_score,f1_score,roc_auc_score,confusion_matrix\n",
    "\n",
    "# Fit the model using Decision Tree for training samples\n",
    "model = DecisionTreeClassifier(criterion='entropy')\n",
    "model.fit(x_train, y_train)\n",
    "\n",
    "# Calculate the training and testing Parameters\n",
    "train_acc = accuracy_score(y_train, model.predict(x_train))\n",
    "test_acc  = accuracy_score(y_test, model.predict(x_test))\n",
    "\n",
    "train_prec = precision_score(y_train, model.predict(x_train))\n",
    "test_prec = precision_score(y_test, model.predict(x_test))\n",
    "\n",
    "train_recall = recall_score(y_train, model.predict(x_train))\n",
    "test_recall = recall_score(y_test, model.predict(x_test))\n",
    "\n",
    "train_f1 = f1_score(y_train, model.predict(x_train))\n",
    "test_f1 = f1_score(y_test, model.predict(x_test))\n",
    "\n",
    "train_confusion = confusion_matrix(y_train, model.predict(x_train))\n",
    "test_confusion = confusion_matrix(y_test, model.predict(x_test))\n",
    "\n",
    "# Print the training and testing error\n",
    "print(\"Training Accuracy:\", (train_acc))\n",
    "print(\"Testing Accuracy:\", (test_acc))\n",
    "print(\"\")\n",
    "print(\"Training Precision:\", (train_prec))\n",
    "print(\"Testing Precision:\", (test_prec))\n",
    "print(\"\")\n",
    "print(\"Training Recall:\", (train_recall))\n",
    "print(\"Testing Recall:\", (test_recall))\n",
    "print(\"\")\n",
    "print(\"Training F1:\", (train_f1))\n",
    "print(\"Testing F1:\", (test_f1))\n",
    "print(\"\")\n",
    "print(\"Training Confusion:\", (train_confusion))\n",
    "print(\"\")\n",
    "print(\"Testing Confusion:\", (test_confusion))\n",
    "print(\"\")"
   ]
  },
  {
   "cell_type": "code",
   "execution_count": 31,
   "id": "169a1753-7ef3-4b32-b87d-396d169d2ae2",
   "metadata": {},
   "outputs": [
    {
     "name": "stdout",
     "output_type": "stream",
     "text": [
      "Number of nodes: 241\n",
      "Depth of the tree: 21\n"
     ]
    }
   ],
   "source": [
    "#Get the number of nodes in the tree\n",
    "num_nodes = model.tree_.node_count\n",
    "# Get the depth of the tree\n",
    "max_depth = model.tree_.max_depth\n",
    "\n",
    "# Print the number of nodes and depth of the tree\n",
    "print(\"Number of nodes:\", num_nodes)\n",
    "print(\"Depth of the tree:\", max_depth)"
   ]
  },
  {
   "cell_type": "code",
   "execution_count": 37,
   "id": "08bfe408-4794-499c-a1ae-de3bc85d0d14",
   "metadata": {},
   "outputs": [
    {
     "name": "stdout",
     "output_type": "stream",
     "text": [
      "Training Accuracy: 0.8833333333333333\n",
      "Testing Accuracy: 0.7222222222222222\n",
      "\n",
      "Training Precision: 0.8756613756613757\n",
      "Testing Precision: 0.7888198757763976\n",
      "\n",
      "Training Recall: 0.993993993993994\n",
      "Testing Recall: 0.8881118881118881\n",
      "\n",
      "Training F1: 0.9310829817158931\n",
      "Testing F1: 0.8355263157894737\n",
      "\n",
      "Training Confusion: [[ 40  47]\n",
      " [  2 331]]\n",
      "\n",
      "Testing Confusion: [[  3  34]\n",
      " [ 16 127]]\n",
      "\n"
     ]
    }
   ],
   "source": [
    "### Decision Tree Classifier\n",
    "import numpy as np\n",
    "from sklearn.tree import DecisionTreeClassifier\n",
    "from sklearn.metrics import accuracy_score,precision_score,recall_score,f1_score,roc_auc_score,confusion_matrix\n",
    "\n",
    "# Fit the model using Decision Tree for training samples\n",
    "model = DecisionTreeClassifier(criterion='entropy',max_depth=10)\n",
    "model.fit(x_train, y_train)\n",
    "\n",
    "# Calculate the training and testing Parameters\n",
    "train_acc = accuracy_score(y_train, model.predict(x_train))\n",
    "test_acc  = accuracy_score(y_test, model.predict(x_test))\n",
    "\n",
    "train_prec = precision_score(y_train, model.predict(x_train))\n",
    "test_prec = precision_score(y_test, model.predict(x_test))\n",
    "\n",
    "train_recall = recall_score(y_train, model.predict(x_train))\n",
    "test_recall = recall_score(y_test, model.predict(x_test))\n",
    "\n",
    "train_f1 = f1_score(y_train, model.predict(x_train))\n",
    "test_f1 = f1_score(y_test, model.predict(x_test))\n",
    "\n",
    "train_confusion = confusion_matrix(y_train, model.predict(x_train))\n",
    "test_confusion = confusion_matrix(y_test, model.predict(x_test))\n",
    "\n",
    "# Print the training and testing error\n",
    "print(\"Training Accuracy:\", (train_acc))\n",
    "print(\"Testing Accuracy:\", (test_acc))\n",
    "print(\"\")\n",
    "print(\"Training Precision:\", (train_prec))\n",
    "print(\"Testing Precision:\", (test_prec))\n",
    "print(\"\")\n",
    "print(\"Training Recall:\", (train_recall))\n",
    "print(\"Testing Recall:\", (test_recall))\n",
    "print(\"\")\n",
    "print(\"Training F1:\", (train_f1))\n",
    "print(\"Testing F1:\", (test_f1))\n",
    "print(\"\")\n",
    "print(\"Training Confusion:\", (train_confusion))\n",
    "print(\"\")\n",
    "print(\"Testing Confusion:\", (test_confusion))\n",
    "print(\"\")"
   ]
  },
  {
   "cell_type": "code",
   "execution_count": 48,
   "id": "bb77a0bb-f60a-4b9c-a5c5-c3138d478e24",
   "metadata": {},
   "outputs": [
    {
     "name": "stdout",
     "output_type": "stream",
     "text": [
      "Best parameters found:  {'criterion': 'entropy', 'max_depth': 11, 'max_features': 'auto', 'min_samples_leaf': 18, 'min_samples_split': 40}\n"
     ]
    }
   ],
   "source": [
    "from sklearn.model_selection import GridSearchCV\n",
    "model = DecisionTreeClassifier()\n",
    "model.fit(x_train, y_train)\n",
    "model.predict(x_train)\n",
    "model.predict(x_test)\n",
    "# Define parameter grid\n",
    "param_grid = {\n",
    "    'criterion': ['gini', 'entropy'],\n",
    "    'max_depth': [8,10,11,12,13,14,16,18,20],\n",
    "    'min_samples_split': [2, 5,6,7,8,9,10,15,20,25,30,40,50,55,60],\n",
    "    'max_features': ['auto', 'sqrt'],\n",
    "    'min_samples_leaf': [2,4,6,8,10,12,14,16,18,10,22,24,26]\n",
    "}\n",
    "\n",
    "# Initialize GridSearchCV\n",
    "grid_search = GridSearchCV(model, param_grid, cv=5, scoring='accuracy')\n",
    "\n",
    "# Fit GridSearchCV\n",
    "grid_search.fit(x, y)\n",
    "\n",
    "# Best parameters\n",
    "print(\"Best parameters found: \", grid_search.best_params_)"
   ]
  },
  {
   "cell_type": "code",
   "execution_count": 43,
   "id": "9c1b0c86-f5e8-4201-aaec-77a75c89e7bf",
   "metadata": {},
   "outputs": [
    {
     "name": "stdout",
     "output_type": "stream",
     "text": [
      "Training Accuracy: 0.7928571428571428\n",
      "Testing Accuracy: 0.7611111111111111\n",
      "\n",
      "Training Precision: 0.8106060606060606\n",
      "Testing Precision: 0.7873563218390804\n",
      "\n",
      "Training Recall: 0.963963963963964\n",
      "Testing Recall: 0.958041958041958\n",
      "\n",
      "Training F1: 0.8806584362139919\n",
      "Testing F1: 0.864353312302839\n",
      "\n",
      "Training Confusion: [[ 12  75]\n",
      " [ 12 321]]\n",
      "\n",
      "Testing Confusion: [[  0  37]\n",
      " [  6 137]]\n",
      "\n"
     ]
    }
   ],
   "source": [
    "model = DecisionTreeClassifier(criterion='gini',max_depth=8,max_features='auto',min_samples_leaf=8,min_samples_split = 60)\n",
    "model.fit(x_train, y_train)\n",
    "\n",
    "# Calculate the training and testing Parameters\n",
    "train_acc = accuracy_score(y_train, model.predict(x_train))\n",
    "test_acc  = accuracy_score(y_test, model.predict(x_test))\n",
    "\n",
    "train_prec = precision_score(y_train, model.predict(x_train))\n",
    "test_prec = precision_score(y_test, model.predict(x_test))\n",
    "\n",
    "train_recall = recall_score(y_train, model.predict(x_train))\n",
    "test_recall = recall_score(y_test, model.predict(x_test))\n",
    "\n",
    "train_f1 = f1_score(y_train, model.predict(x_train))\n",
    "test_f1 = f1_score(y_test, model.predict(x_test))\n",
    "\n",
    "train_confusion = confusion_matrix(y_train, model.predict(x_train))\n",
    "test_confusion = confusion_matrix(y_test, model.predict(x_test))\n",
    "\n",
    "# Print the training and testing error\n",
    "print(\"Training Accuracy:\", (train_acc))\n",
    "print(\"Testing Accuracy:\", (test_acc))\n",
    "print(\"\")\n",
    "print(\"Training Precision:\", (train_prec))\n",
    "print(\"Testing Precision:\", (test_prec))\n",
    "print(\"\")\n",
    "print(\"Training Recall:\", (train_recall))\n",
    "print(\"Testing Recall:\", (test_recall))\n",
    "print(\"\")\n",
    "print(\"Training F1:\", (train_f1))\n",
    "print(\"Testing F1:\", (test_f1))\n",
    "print(\"\")\n",
    "print(\"Training Confusion:\", (train_confusion))\n",
    "print(\"\")\n",
    "print(\"Testing Confusion:\", (test_confusion))\n",
    "print(\"\")"
   ]
  },
  {
   "cell_type": "code",
   "execution_count": 49,
   "id": "3927c5be-7360-43a0-bf32-e09cbfed107c",
   "metadata": {},
   "outputs": [
    {
     "name": "stdout",
     "output_type": "stream",
     "text": [
      "Training Accuracy: 0.7928571428571428\n",
      "Testing Accuracy: 0.7944444444444444\n",
      "\n",
      "Training Precision: 0.7928571428571428\n",
      "Testing Precision: 0.7944444444444444\n",
      "\n",
      "Training Recall: 1.0\n",
      "Testing Recall: 1.0\n",
      "\n",
      "Training F1: 0.8844621513944223\n",
      "Testing F1: 0.8854489164086687\n",
      "\n",
      "Training Confusion: [[  0  87]\n",
      " [  0 333]]\n",
      "\n",
      "Testing Confusion: [[  0  37]\n",
      " [  0 143]]\n",
      "\n"
     ]
    }
   ],
   "source": [
    "model = DecisionTreeClassifier(criterion='entropy',max_depth=11,max_features='auto',min_samples_leaf=18,min_samples_split = 40)\n",
    "model.fit(x_train, y_train)\n",
    "\n",
    "# Calculate the training and testing Parameters\n",
    "train_acc = accuracy_score(y_train, model.predict(x_train))\n",
    "test_acc  = accuracy_score(y_test, model.predict(x_test))\n",
    "\n",
    "train_prec = precision_score(y_train, model.predict(x_train))\n",
    "test_prec = precision_score(y_test, model.predict(x_test))\n",
    "\n",
    "train_recall = recall_score(y_train, model.predict(x_train))\n",
    "test_recall = recall_score(y_test, model.predict(x_test))\n",
    "\n",
    "train_f1 = f1_score(y_train, model.predict(x_train))\n",
    "test_f1 = f1_score(y_test, model.predict(x_test))\n",
    "\n",
    "train_confusion = confusion_matrix(y_train, model.predict(x_train))\n",
    "test_confusion = confusion_matrix(y_test, model.predict(x_test))\n",
    "\n",
    "# Print the training and testing error\n",
    "print(\"Training Accuracy:\", (train_acc))\n",
    "print(\"Testing Accuracy:\", (test_acc))\n",
    "print(\"\")\n",
    "print(\"Training Precision:\", (train_prec))\n",
    "print(\"Testing Precision:\", (test_prec))\n",
    "print(\"\")\n",
    "print(\"Training Recall:\", (train_recall))\n",
    "print(\"Testing Recall:\", (test_recall))\n",
    "print(\"\")\n",
    "print(\"Training F1:\", (train_f1))\n",
    "print(\"Testing F1:\", (test_f1))\n",
    "print(\"\")\n",
    "print(\"Training Confusion:\", (train_confusion))\n",
    "print(\"\")\n",
    "print(\"Testing Confusion:\", (test_confusion))\n",
    "print(\"\")"
   ]
  },
  {
   "cell_type": "code",
   "execution_count": 51,
   "id": "5b048d0d-da0d-4f3f-84b3-dd1ec0542474",
   "metadata": {},
   "outputs": [
    {
     "name": "stdout",
     "output_type": "stream",
     "text": [
      "Training Accuracy: 0.7930014430014429\n",
      "Testing Accuracy: 0.7877665544332212\n",
      "\n",
      "Training Precision: 0.7959238715460608\n",
      "Testing Precision: 0.7944532069452533\n",
      "\n",
      "Training Recall: 0.9939636606303273\n",
      "Testing Recall: 0.9886275340820796\n",
      "\n",
      "Training F1: 0.8839012281589873\n",
      "Testing F1: 0.880831438226889\n",
      "\n"
     ]
    }
   ],
   "source": [
    "train_acc = []\n",
    "test_acc = []\n",
    "train_prec = []\n",
    "test_acc = []\n",
    "train_prec = []\n",
    "test_prec = []\n",
    "train_recall = []\n",
    "test_recall = []\n",
    "train_f1 = []\n",
    "test_f1 = []\n",
    "\n",
    "for i in range(1,100,1):\n",
    "    model = DecisionTreeClassifier(criterion='entropy',max_depth=11,max_features='auto',min_samples_leaf=18,min_samples_split = 40)\n",
    "    model.fit(x_train, y_train)\n",
    "    # Calculate the training and testing Parameters\n",
    "    train_acc.append(accuracy_score(y_train, model.predict(x_train)))\n",
    "    test_acc.append(accuracy_score(y_test, model.predict(x_test)))\n",
    "    train_prec.append(precision_score(y_train, model.predict(x_train)))\n",
    "    test_prec.append(precision_score(y_test, model.predict(x_test)))\n",
    "    train_recall.append(recall_score(y_train, model.predict(x_train)))\n",
    "    test_recall.append(recall_score(y_test, model.predict(x_test)))\n",
    "    train_f1.append(f1_score(y_train, model.predict(x_train)))\n",
    "    test_f1.append(f1_score(y_test, model.predict(x_test)))\n",
    "\n",
    "\n",
    "# Print the training and testing error\n",
    "print(\"Training Accuracy:\", np.mean(train_acc))\n",
    "print(\"Testing Accuracy:\", np.mean(test_acc))\n",
    "print(\"\")\n",
    "print(\"Training Precision:\", np.mean(train_prec))\n",
    "print(\"Testing Precision:\", np.mean(test_prec))\n",
    "print(\"\")\n",
    "print(\"Training Recall:\", np.mean(train_recall))\n",
    "print(\"Testing Recall:\", np.mean(test_recall))\n",
    "print(\"\")\n",
    "print(\"Training F1:\", np.mean(train_f1))\n",
    "print(\"Testing F1:\", np.mean(test_f1))\n",
    "print(\"\")"
   ]
  },
  {
   "cell_type": "code",
   "execution_count": 50,
   "id": "16f2433f-8da6-4688-99ab-140947de0e46",
   "metadata": {},
   "outputs": [
    {
     "name": "stdout",
     "output_type": "stream",
     "text": [
      "Training Accuracy: 0.7928571428571429\n",
      "Testing Accuracy: 0.7944444444444445\n",
      "\n",
      "Training Precision: 0.7928571428571429\n",
      "Testing Precision: 0.7944444444444445\n",
      "\n",
      "Training Recall: 1.0\n",
      "Testing Recall: 1.0\n",
      "\n",
      "Training F1: 0.8844621513944221\n",
      "Testing F1: 0.8854489164086683\n",
      "\n"
     ]
    }
   ],
   "source": [
    "from sklearn.ensemble import BaggingClassifier\n",
    "train_acc = []\n",
    "test_acc = []\n",
    "train_prec = []\n",
    "test_acc = []\n",
    "train_prec = []\n",
    "test_prec = []\n",
    "train_recall = []\n",
    "test_recall = []\n",
    "train_f1 = []\n",
    "test_f1 = []\n",
    "\n",
    "for i in range(1,400,1):\n",
    "    model = DecisionTreeClassifier(criterion='gini',max_depth= 11,max_features='auto',min_samples_leaf=18,min_samples_split = 40)\n",
    "    model.fit(x_train, y_train)\n",
    "    bag_reg = BaggingClassifier(estimator=model, n_estimators=200, max_features=0.6,max_samples=0.7,random_state=i)\n",
    "    bag_reg.fit(x_train, y_train)\n",
    "    train_acc.append(accuracy_score(y_train, bag_reg.predict(x_train)))\n",
    "    test_acc.append(accuracy_score(y_test, bag_reg.predict(x_test)))\n",
    "    train_prec.append(precision_score(y_train, bag_reg.predict(x_train)))\n",
    "    test_prec.append(precision_score(y_test, bag_reg.predict(x_test)))\n",
    "    train_recall.append(recall_score(y_train, bag_reg.predict(x_train)))\n",
    "    test_recall.append(recall_score(y_test, bag_reg.predict(x_test)))\n",
    "    train_f1.append(f1_score(y_train, bag_reg.predict(x_train)))\n",
    "    test_f1.append(f1_score(y_test, bag_reg.predict(x_test)))\n",
    "\n",
    "# Print the training and testing error\n",
    "print(\"Training Accuracy:\", np.mean(train_acc))\n",
    "print(\"Testing Accuracy:\", np.mean(test_acc))\n",
    "print(\"\")\n",
    "print(\"Training Precision:\", np.mean(train_prec))\n",
    "print(\"Testing Precision:\", np.mean(test_prec))\n",
    "print(\"\")\n",
    "print(\"Training Recall:\", np.mean(train_recall))\n",
    "print(\"Testing Recall:\", np.mean(test_recall))\n",
    "print(\"\")\n",
    "print(\"Training F1:\", np.mean(train_f1))\n",
    "print(\"Testing F1:\", np.mean(test_f1))\n",
    "print(\"\")\n"
   ]
  },
  {
   "cell_type": "code",
   "execution_count": 1,
   "id": "4078e89d-bd8d-4224-9ee8-fa2e8d000f13",
   "metadata": {},
   "outputs": [
    {
     "ename": "NameError",
     "evalue": "name 'df' is not defined",
     "output_type": "error",
     "traceback": [
      "\u001b[1;31m---------------------------------------------------------------------------\u001b[0m",
      "\u001b[1;31mNameError\u001b[0m                                 Traceback (most recent call last)",
      "Cell \u001b[1;32mIn[1], line 1\u001b[0m\n\u001b[1;32m----> 1\u001b[0m df\u001b[38;5;241m.\u001b[39mhead(\u001b[38;5;241m1\u001b[39m)\n",
      "\u001b[1;31mNameError\u001b[0m: name 'df' is not defined"
     ]
    }
   ],
   "source": []
  },
  {
   "cell_type": "code",
   "execution_count": null,
   "id": "f3371bd6-08f4-485b-b064-5207a12ce110",
   "metadata": {},
   "outputs": [],
   "source": []
  }
 ],
 "metadata": {
  "kernelspec": {
   "display_name": "Python 3 (ipykernel)",
   "language": "python",
   "name": "python3"
  },
  "language_info": {
   "codemirror_mode": {
    "name": "ipython",
    "version": 3
   },
   "file_extension": ".py",
   "mimetype": "text/x-python",
   "name": "python",
   "nbconvert_exporter": "python",
   "pygments_lexer": "ipython3",
   "version": "3.11.7"
  }
 },
 "nbformat": 4,
 "nbformat_minor": 5
}
