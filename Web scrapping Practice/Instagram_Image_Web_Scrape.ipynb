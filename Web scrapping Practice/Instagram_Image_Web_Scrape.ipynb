{
 "cells": [
  {
   "cell_type": "code",
   "execution_count": 1,
   "id": "bf81b492-165d-4b48-986f-38c492740818",
   "metadata": {},
   "outputs": [],
   "source": [
    "# Import Library\n",
    "from selenium import webdriver\n",
    "from selenium.webdriver.common.keys import Keys\n",
    "from selenium.webdriver.common.by import By\n",
    "from selenium.webdriver.support import expected_conditions as EC\n",
    "from selenium.webdriver.support.wait import WebDriverWait\n",
    "import time"
   ]
  },
  {
   "cell_type": "code",
   "execution_count": 2,
   "id": "9b09d146-84ed-45c1-979c-4eb77b36f99b",
   "metadata": {},
   "outputs": [],
   "source": [
    "import os\n",
    "import wget"
   ]
  },
  {
   "cell_type": "code",
   "execution_count": 3,
   "id": "be19ef3c-1010-4578-a554-db4e7c9cf13e",
   "metadata": {},
   "outputs": [],
   "source": [
    "## Login Insta Account\n",
    "driver = webdriver.Chrome()\n",
    "driver.get(\"https://www.instagram.com/\")"
   ]
  },
  {
   "cell_type": "code",
   "execution_count": 4,
   "id": "36fecb9e-4cf3-4974-a133-4cb4a116764e",
   "metadata": {},
   "outputs": [
    {
     "data": {
      "text/plain": [
       "<selenium.webdriver.remote.webelement.WebElement (session=\"6462fe3df3e2ea7ba7bd4ae33d7246c5\", element=\"f.CD91671D32610AB72DC838A01D340E33.d.80F2252ACE34A8E0CE5DE2133F1344E1.e.44\")>"
      ]
     },
     "execution_count": 4,
     "metadata": {},
     "output_type": "execute_result"
    }
   ],
   "source": [
    "username = WebDriverWait(driver,10).until(EC.element_to_be_clickable((By.CSS_SELECTOR,\"input[name = 'username']\")))\n",
    "username    # value name = \"username\""
   ]
  },
  {
   "cell_type": "code",
   "execution_count": 5,
   "id": "5531a277-545f-4ed1-9f6f-2fc35f3b52a2",
   "metadata": {},
   "outputs": [
    {
     "data": {
      "text/plain": [
       "<selenium.webdriver.remote.webelement.WebElement (session=\"6462fe3df3e2ea7ba7bd4ae33d7246c5\", element=\"f.CD91671D32610AB72DC838A01D340E33.d.80F2252ACE34A8E0CE5DE2133F1344E1.e.45\")>"
      ]
     },
     "execution_count": 5,
     "metadata": {},
     "output_type": "execute_result"
    }
   ],
   "source": [
    "password = WebDriverWait(driver,10).until(EC.element_to_be_clickable((By.CSS_SELECTOR,\"input[name = 'password']\")))\n",
    "password  # value name = \"password\""
   ]
  },
  {
   "cell_type": "code",
   "execution_count": 2,
   "id": "a0ed807e-7fa3-4a21-876e-65840fa910f6",
   "metadata": {},
   "outputs": [
    {
     "ename": "NameError",
     "evalue": "name 'username' is not defined",
     "output_type": "error",
     "traceback": [
      "\u001b[1;31m---------------------------------------------------------------------------\u001b[0m",
      "\u001b[1;31mNameError\u001b[0m                                 Traceback (most recent call last)",
      "Cell \u001b[1;32mIn[2], line 1\u001b[0m\n\u001b[1;32m----> 1\u001b[0m username\u001b[38;5;241m.\u001b[39mclear()\n\u001b[0;32m      2\u001b[0m password\u001b[38;5;241m.\u001b[39mclear()\n\u001b[0;32m      3\u001b[0m username\u001b[38;5;241m.\u001b[39msend_keys(\u001b[38;5;124m\"\u001b[39m\u001b[38;5;124m------@gmail.com\u001b[39m\u001b[38;5;124m\"\u001b[39m)\n",
      "\u001b[1;31mNameError\u001b[0m: name 'username' is not defined"
     ]
    }
   ],
   "source": [
    "username.clear()\n",
    "password.clear()\n",
    "username.send_keys(\"------@gmail.com\")\n",
    "password.send_keys(\"-----\")"
   ]
  },
  {
   "cell_type": "code",
   "execution_count": 7,
   "id": "8d2731ff-c1e3-44a5-a84a-e98beb24e9b7",
   "metadata": {},
   "outputs": [],
   "source": [
    "log_in = WebDriverWait(driver,10).until(EC.element_to_be_clickable((By.CSS_SELECTOR,\"button[type = 'submit']\"))).click()"
   ]
  },
  {
   "cell_type": "code",
   "execution_count": 8,
   "id": "180d1aca-5aa0-4f75-be38-45e3ff52bedf",
   "metadata": {},
   "outputs": [],
   "source": [
    "not_now = WebDriverWait(driver,10).until(EC.element_to_be_clickable((By.XPATH,\"//button[contains(text(),'Not Now')]\"))).click()\n",
    "#not_now2 = WebDriverWait(driver,10).until(EC.element_to_be_clickable((By.XPATH,\"//button[contains(text(),'Not Now')]\"))).click()\n",
    "time.sleep(5)"
   ]
  },
  {
   "cell_type": "code",
   "execution_count": 10,
   "id": "62b5b670-40b8-4194-a7e6-26172edb669f",
   "metadata": {},
   "outputs": [],
   "source": [
    "searchbox = WebDriverWait(driver,10).until(EC.element_to_be_clickable((By.XPATH,\"//input[@placeholder='Search']\")))\n",
    "searchbox.clear()\n",
    "keyword = \"#trendnow\"\n",
    "searchbox.send_keys(keyword)"
   ]
  },
  {
   "cell_type": "code",
   "execution_count": 16,
   "id": "b4ed26d1-306c-4f2b-89bb-1d589b6de85d",
   "metadata": {},
   "outputs": [],
   "source": [
    "# searchbox.send_keys(Keys.ENTER)"
   ]
  },
  {
   "cell_type": "code",
   "execution_count": 12,
   "id": "59abb2f8-a2da-405e-a763-d2662f1810de",
   "metadata": {},
   "outputs": [
    {
     "data": {
      "text/plain": [
       "[<selenium.webdriver.remote.webelement.WebElement (session=\"6462fe3df3e2ea7ba7bd4ae33d7246c5\", element=\"f.CD91671D32610AB72DC838A01D340E33.d.F03EAD899C6E5F15D55437305557FC41.e.80\")>,\n",
       " <selenium.webdriver.remote.webelement.WebElement (session=\"6462fe3df3e2ea7ba7bd4ae33d7246c5\", element=\"f.CD91671D32610AB72DC838A01D340E33.d.F03EAD899C6E5F15D55437305557FC41.e.81\")>,\n",
       " <selenium.webdriver.remote.webelement.WebElement (session=\"6462fe3df3e2ea7ba7bd4ae33d7246c5\", element=\"f.CD91671D32610AB72DC838A01D340E33.d.F03EAD899C6E5F15D55437305557FC41.e.107\")>,\n",
       " <selenium.webdriver.remote.webelement.WebElement (session=\"6462fe3df3e2ea7ba7bd4ae33d7246c5\", element=\"f.CD91671D32610AB72DC838A01D340E33.d.F03EAD899C6E5F15D55437305557FC41.e.110\")>,\n",
       " <selenium.webdriver.remote.webelement.WebElement (session=\"6462fe3df3e2ea7ba7bd4ae33d7246c5\", element=\"f.CD91671D32610AB72DC838A01D340E33.d.F03EAD899C6E5F15D55437305557FC41.e.108\")>,\n",
       " <selenium.webdriver.remote.webelement.WebElement (session=\"6462fe3df3e2ea7ba7bd4ae33d7246c5\", element=\"f.CD91671D32610AB72DC838A01D340E33.d.F03EAD899C6E5F15D55437305557FC41.e.109\")>,\n",
       " <selenium.webdriver.remote.webelement.WebElement (session=\"6462fe3df3e2ea7ba7bd4ae33d7246c5\", element=\"f.CD91671D32610AB72DC838A01D340E33.d.F03EAD899C6E5F15D55437305557FC41.e.113\")>,\n",
       " <selenium.webdriver.remote.webelement.WebElement (session=\"6462fe3df3e2ea7ba7bd4ae33d7246c5\", element=\"f.CD91671D32610AB72DC838A01D340E33.d.F03EAD899C6E5F15D55437305557FC41.e.130\")>,\n",
       " <selenium.webdriver.remote.webelement.WebElement (session=\"6462fe3df3e2ea7ba7bd4ae33d7246c5\", element=\"f.CD91671D32610AB72DC838A01D340E33.d.F03EAD899C6E5F15D55437305557FC41.e.131\")>,\n",
       " <selenium.webdriver.remote.webelement.WebElement (session=\"6462fe3df3e2ea7ba7bd4ae33d7246c5\", element=\"f.CD91671D32610AB72DC838A01D340E33.d.F03EAD899C6E5F15D55437305557FC41.e.132\")>,\n",
       " <selenium.webdriver.remote.webelement.WebElement (session=\"6462fe3df3e2ea7ba7bd4ae33d7246c5\", element=\"f.CD91671D32610AB72DC838A01D340E33.d.F03EAD899C6E5F15D55437305557FC41.e.133\")>,\n",
       " <selenium.webdriver.remote.webelement.WebElement (session=\"6462fe3df3e2ea7ba7bd4ae33d7246c5\", element=\"f.CD91671D32610AB72DC838A01D340E33.d.F03EAD899C6E5F15D55437305557FC41.e.134\")>,\n",
       " <selenium.webdriver.remote.webelement.WebElement (session=\"6462fe3df3e2ea7ba7bd4ae33d7246c5\", element=\"f.CD91671D32610AB72DC838A01D340E33.d.F03EAD899C6E5F15D55437305557FC41.e.135\")>,\n",
       " <selenium.webdriver.remote.webelement.WebElement (session=\"6462fe3df3e2ea7ba7bd4ae33d7246c5\", element=\"f.CD91671D32610AB72DC838A01D340E33.d.F03EAD899C6E5F15D55437305557FC41.e.136\")>,\n",
       " <selenium.webdriver.remote.webelement.WebElement (session=\"6462fe3df3e2ea7ba7bd4ae33d7246c5\", element=\"f.CD91671D32610AB72DC838A01D340E33.d.F03EAD899C6E5F15D55437305557FC41.e.137\")>,\n",
       " <selenium.webdriver.remote.webelement.WebElement (session=\"6462fe3df3e2ea7ba7bd4ae33d7246c5\", element=\"f.CD91671D32610AB72DC838A01D340E33.d.F03EAD899C6E5F15D55437305557FC41.e.138\")>,\n",
       " <selenium.webdriver.remote.webelement.WebElement (session=\"6462fe3df3e2ea7ba7bd4ae33d7246c5\", element=\"f.CD91671D32610AB72DC838A01D340E33.d.F03EAD899C6E5F15D55437305557FC41.e.139\")>,\n",
       " <selenium.webdriver.remote.webelement.WebElement (session=\"6462fe3df3e2ea7ba7bd4ae33d7246c5\", element=\"f.CD91671D32610AB72DC838A01D340E33.d.F03EAD899C6E5F15D55437305557FC41.e.140\")>,\n",
       " <selenium.webdriver.remote.webelement.WebElement (session=\"6462fe3df3e2ea7ba7bd4ae33d7246c5\", element=\"f.CD91671D32610AB72DC838A01D340E33.d.F03EAD899C6E5F15D55437305557FC41.e.141\")>,\n",
       " <selenium.webdriver.remote.webelement.WebElement (session=\"6462fe3df3e2ea7ba7bd4ae33d7246c5\", element=\"f.CD91671D32610AB72DC838A01D340E33.d.F03EAD899C6E5F15D55437305557FC41.e.142\")>,\n",
       " <selenium.webdriver.remote.webelement.WebElement (session=\"6462fe3df3e2ea7ba7bd4ae33d7246c5\", element=\"f.CD91671D32610AB72DC838A01D340E33.d.F03EAD899C6E5F15D55437305557FC41.e.143\")>,\n",
       " <selenium.webdriver.remote.webelement.WebElement (session=\"6462fe3df3e2ea7ba7bd4ae33d7246c5\", element=\"f.CD91671D32610AB72DC838A01D340E33.d.F03EAD899C6E5F15D55437305557FC41.e.144\")>,\n",
       " <selenium.webdriver.remote.webelement.WebElement (session=\"6462fe3df3e2ea7ba7bd4ae33d7246c5\", element=\"f.CD91671D32610AB72DC838A01D340E33.d.F03EAD899C6E5F15D55437305557FC41.e.145\")>,\n",
       " <selenium.webdriver.remote.webelement.WebElement (session=\"6462fe3df3e2ea7ba7bd4ae33d7246c5\", element=\"f.CD91671D32610AB72DC838A01D340E33.d.F03EAD899C6E5F15D55437305557FC41.e.146\")>,\n",
       " <selenium.webdriver.remote.webelement.WebElement (session=\"6462fe3df3e2ea7ba7bd4ae33d7246c5\", element=\"f.CD91671D32610AB72DC838A01D340E33.d.F03EAD899C6E5F15D55437305557FC41.e.147\")>,\n",
       " <selenium.webdriver.remote.webelement.WebElement (session=\"6462fe3df3e2ea7ba7bd4ae33d7246c5\", element=\"f.CD91671D32610AB72DC838A01D340E33.d.F03EAD899C6E5F15D55437305557FC41.e.148\")>,\n",
       " <selenium.webdriver.remote.webelement.WebElement (session=\"6462fe3df3e2ea7ba7bd4ae33d7246c5\", element=\"f.CD91671D32610AB72DC838A01D340E33.d.F03EAD899C6E5F15D55437305557FC41.e.149\")>,\n",
       " <selenium.webdriver.remote.webelement.WebElement (session=\"6462fe3df3e2ea7ba7bd4ae33d7246c5\", element=\"f.CD91671D32610AB72DC838A01D340E33.d.F03EAD899C6E5F15D55437305557FC41.e.150\")>,\n",
       " <selenium.webdriver.remote.webelement.WebElement (session=\"6462fe3df3e2ea7ba7bd4ae33d7246c5\", element=\"f.CD91671D32610AB72DC838A01D340E33.d.F03EAD899C6E5F15D55437305557FC41.e.151\")>,\n",
       " <selenium.webdriver.remote.webelement.WebElement (session=\"6462fe3df3e2ea7ba7bd4ae33d7246c5\", element=\"f.CD91671D32610AB72DC838A01D340E33.d.F03EAD899C6E5F15D55437305557FC41.e.152\")>,\n",
       " <selenium.webdriver.remote.webelement.WebElement (session=\"6462fe3df3e2ea7ba7bd4ae33d7246c5\", element=\"f.CD91671D32610AB72DC838A01D340E33.d.F03EAD899C6E5F15D55437305557FC41.e.153\")>,\n",
       " <selenium.webdriver.remote.webelement.WebElement (session=\"6462fe3df3e2ea7ba7bd4ae33d7246c5\", element=\"f.CD91671D32610AB72DC838A01D340E33.d.F03EAD899C6E5F15D55437305557FC41.e.154\")>]"
      ]
     },
     "execution_count": 12,
     "metadata": {},
     "output_type": "execute_result"
    }
   ],
   "source": [
    "driver.execute_script(\"window.scrollTo(0,4000);\")\n",
    "from selenium.webdriver.common.by import By\n",
    "images = driver.find_elements(By.TAG_NAME, 'img')\n",
    "images"
   ]
  },
  {
   "cell_type": "code",
   "execution_count": 13,
   "id": "d14187b9-fc1a-485e-b73d-93c0329ceda6",
   "metadata": {},
   "outputs": [
    {
     "data": {
      "text/plain": [
       "['data:image/png;base64,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',\n",
       " 'data:image/png;base64,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',\n",
       " 'https://scontent.cdninstagram.com/v/t51.2885-19/56300306_1134918673357060_8705835512843206656_n.jpg?stp=dst-jpg_s150x150&_nc_ht=scontent.cdninstagram.com&_nc_cat=104&_nc_ohc=YMG49bUW4xkQ7kNvgHHLpee&edm=APs17CUBAAAA&ccb=7-5&oh=00_AYBAhioy_cOBOMgUNrRqRl98fXR4yb7yoSc3YUnsb2wetw&oe=66860CC5&_nc_sid=10d13b',\n",
       " 'https://instagram.famd5-2.fna.fbcdn.net/v/t51.29350-15/447778975_838262831491612_2523717297463941752_n.jpg?stp=dst-jpg_e35&efg=eyJ2ZW5jb2RlX3RhZyI6ImltYWdlX3VybGdlbi44OTZ4MTExOS5zZHIuZjI5MzUwIn0&_nc_ht=instagram.famd5-2.fna.fbcdn.net&_nc_cat=104&_nc_ohc=0LN1KmVbbGMQ7kNvgEoNIOl&edm=AGyKU4gBAAAA&ccb=7-5&ig_cache_key=MzM4MzMzMDY4MzA3MjQ2ODc1Mg%3D%3D.2-ccb7-5&oh=00_AYAqfySmE0qUdz-emCfO9VAkdYaIgb3rLidDG3x2YbjrNQ&oe=6686264B&_nc_sid=2011ad',\n",
       " 'https://instagram.famd5-3.fna.fbcdn.net/v/t51.29350-15/449343310_1920374541716535_6474077718368365101_n.jpg?stp=dst-jpg_e15&efg=eyJ2ZW5jb2RlX3RhZyI6ImltYWdlX3VybGdlbi43MjB4MTI4MC5zZHIuZjI5MzUwIn0&_nc_ht=instagram.famd5-3.fna.fbcdn.net&_nc_cat=103&_nc_ohc=3D2x_L2pJ2IQ7kNvgHpq8BK&edm=AGyKU4gBAAAA&ccb=7-5&ig_cache_key=MzQwMDMxNzc4Njc2Nzc2OTQyMw%3D%3D.2-ccb7-5&oh=00_AYAPJxB_rUvYjyAkG70jBYnZ5nsShpnIzJqEMjcSAXXvuA&oe=668612D0&_nc_sid=2011ad',\n",
       " 'https://instagram.famd5-1.fna.fbcdn.net/v/t51.29350-15/448920442_2180854128959581_3961206148832838425_n.jpg?stp=dst-jpg_e15&efg=eyJ2ZW5jb2RlX3RhZyI6ImltYWdlX3VybGdlbi40MDd4NzI0LnNkci5mMjkzNTAifQ&_nc_ht=instagram.famd5-1.fna.fbcdn.net&_nc_cat=101&_nc_ohc=pIUYPqMxp9IQ7kNvgEywoSi&edm=AGyKU4gBAAAA&ccb=7-5&ig_cache_key=MzM5ODEwMjE1OTUxMzMxMjA3MA%3D%3D.2-ccb7-5&oh=00_AYB_yp88m7KDW4ddo5iy-6nnDOZxaIR0T8f7PTGSIaryhQ&oe=668611B3&_nc_sid=2011ad',\n",
       " 'https://instagram.famd5-2.fna.fbcdn.net/v/t51.29350-15/447778975_838262831491612_2523717297463941752_n.jpg?stp=dst-jpg_e35&efg=eyJ2ZW5jb2RlX3RhZyI6ImltYWdlX3VybGdlbi44OTZ4MTExOS5zZHIuZjI5MzUwIn0&_nc_ht=instagram.famd5-2.fna.fbcdn.net&_nc_cat=104&_nc_ohc=0LN1KmVbbGMQ7kNvgEoNIOl&edm=AGyKU4gBAAAA&ccb=7-5&ig_cache_key=MzM4MzMzMDY4MzA3MjQ2ODc1Mg%3D%3D.2-ccb7-5&oh=00_AYAqfySmE0qUdz-emCfO9VAkdYaIgb3rLidDG3x2YbjrNQ&oe=6686264B&_nc_sid=2011ad',\n",
       " 'https://instagram.famd5-4.fna.fbcdn.net/v/t51.29350-15/447015719_471239618624578_7269459550863574491_n.jpg?stp=dst-jpg_e15&efg=eyJ2ZW5jb2RlX3RhZyI6ImltYWdlX3VybGdlbi4xMDgweDE5MjAuc2RyLmYyOTM1MCJ9&_nc_ht=instagram.famd5-4.fna.fbcdn.net&_nc_cat=110&_nc_ohc=Ngjk2A681i8Q7kNvgFJ9aYx&edm=AGyKU4gBAAAA&ccb=7-5&ig_cache_key=MzM4MDU0NzUxNTU0MDgzNDU0OA%3D%3D.2-ccb7-5&oh=00_AYCLkITrvcTE_gjVuRfLoMEqwtVr4j07u87LEMfzI-yaKg&oe=668601A4&_nc_sid=2011ad',\n",
       " 'https://instagram.famd5-1.fna.fbcdn.net/v/t51.29350-15/447657446_7731307250286793_1894147230313568065_n.jpg?stp=dst-jpg_e15&efg=eyJ2ZW5jb2RlX3RhZyI6ImltYWdlX3VybGdlbi4xMDgweDIxMTQuc2RyLmYyOTM1MCJ9&_nc_ht=instagram.famd5-1.fna.fbcdn.net&_nc_cat=101&_nc_ohc=9d_HhI5QcvMQ7kNvgGB9pmZ&edm=AGyKU4gBAAAA&ccb=7-5&ig_cache_key=MzM4Mzg4MjkyNjE1ODcwNjc3OTgzNzE2NjcwODQ0NTc5Mg%3D%3D.2-ccb7-5&oh=00_AYDUZifeHh9OEByV0WintiN481c7VBkPoYIxIbpeo1tJ_Q&oe=668629AC&_nc_sid=2011ad',\n",
       " 'https://instagram.famd5-4.fna.fbcdn.net/v/t51.29350-15/449311027_779465367635446_2554892780620215493_n.jpg?stp=dst-jpg_e15&efg=eyJ2ZW5jb2RlX3RhZyI6ImltYWdlX3VybGdlbi41NDB4OTYwLnNkci5mMjkzNTAifQ&_nc_ht=instagram.famd5-4.fna.fbcdn.net&_nc_cat=110&_nc_ohc=VqMgBgdV_swQ7kNvgG6rkxf&edm=AGyKU4gBAAAA&ccb=7-5&ig_cache_key=MzQwMTEzNjcxODMwNzkyODk3Nw%3D%3D.2-ccb7-5&oh=00_AYCc9d-hMpzUqe_Spc_a-5cspheDQL0ZaMf0cTkyBDuLIA&oe=6685F823&_nc_sid=2011ad',\n",
       " 'https://instagram.famd5-3.fna.fbcdn.net/v/t51.29350-15/449367157_1263720001282359_4753079992928731913_n.jpg?stp=dst-jpg_e15&efg=eyJ2ZW5jb2RlX3RhZyI6ImltYWdlX3VybGdlbi43MjB4MTI4MC5zZHIuZjI5MzUwIn0&_nc_ht=instagram.famd5-3.fna.fbcdn.net&_nc_cat=103&_nc_ohc=-hmMEBU5MQUQ7kNvgF413UD&edm=AGyKU4gBAAAA&ccb=7-5&ig_cache_key=MzQwMTExNjAwMzg0MDE0NTE5MQ%3D%3D.2-ccb7-5&oh=00_AYDp8rwwHi7zYCsON79dPaDO-anF8LAAL1Mc8rQqHPpXmA&oe=66860F69&_nc_sid=2011ad',\n",
       " 'https://instagram.famd5-4.fna.fbcdn.net/v/t51.29350-15/449536166_1689795535095419_1873348743038204027_n.jpg?stp=dst-jpg_e15&efg=eyJ2ZW5jb2RlX3RhZyI6ImltYWdlX3VybGdlbi43MjB4MTI4MC5zZHIuZjI5MzUwIn0&_nc_ht=instagram.famd5-4.fna.fbcdn.net&_nc_cat=111&_nc_ohc=zEXeJkbwDRUQ7kNvgHnTzbd&edm=AGyKU4gBAAAA&ccb=7-5&ig_cache_key=MzQwMDk1MzY4NTQzMjczMzY3Ng%3D%3D.2-ccb7-5&oh=00_AYBRNfxB7JLbaHAOcH3eW41LyDbf3YKPeyL1lDGNtQpLOw&oe=66862613&_nc_sid=2011ad',\n",
       " 'https://instagram.famd5-3.fna.fbcdn.net/v/t51.29350-15/449263150_450240657757886_7362332577956871518_n.jpg?stp=dst-jpg_e15&efg=eyJ2ZW5jb2RlX3RhZyI6ImltYWdlX3VybGdlbi43MjB4MTI4MC5zZHIuZjI5MzUwIn0&_nc_ht=instagram.famd5-3.fna.fbcdn.net&_nc_cat=102&_nc_ohc=yRF8aYcfo_cQ7kNvgFn-EX3&edm=AGyKU4gBAAAA&ccb=7-5&ig_cache_key=MzQwMDkwNjc0OTY2ODg5NzI5NDcwNDEyMzI2ODUwNjA1NQ%3D%3D.2-ccb7-5&oh=00_AYCcfvMrrZ1B55Z7cQ2hCFZbtiTCP7ZDJ3Zu5ObiiztmrA&oe=6686151C&_nc_sid=2011ad',\n",
       " 'https://instagram.famd5-1.fna.fbcdn.net/v/t51.29350-15/449326921_1503337813940101_964915221412730517_n.jpg?stp=dst-jpg_e15&efg=eyJ2ZW5jb2RlX3RhZyI6ImltYWdlX3VybGdlbi4zMjB4NTY4LnNkci5mMjkzNTAifQ&_nc_ht=instagram.famd5-1.fna.fbcdn.net&_nc_cat=101&_nc_ohc=5RxU82-zmoIQ7kNvgHeJuC7&edm=AGyKU4gBAAAA&ccb=7-5&ig_cache_key=MzQwMDk4MDkwOTEyNTE1NTc2MQ%3D%3D.2-ccb7-5&oh=00_AYCg9U2XVmRWUFtAmetlJdoobOlOWZ3ixjeI_8XtPis_yw&oe=66860D11&_nc_sid=2011ad',\n",
       " 'https://instagram.famd5-3.fna.fbcdn.net/v/t51.29350-15/449197064_327702570279326_1737637007604774659_n.jpg?stp=dst-jpg_e15&efg=eyJ2ZW5jb2RlX3RhZyI6ImltYWdlX3VybGdlbi40MTZ4NzQwLnNkci5mMjkzNTAifQ&_nc_ht=instagram.famd5-3.fna.fbcdn.net&_nc_cat=102&_nc_ohc=H_jy3Gk9-ksQ7kNvgFkMXy7&edm=AGyKU4gBAAAA&ccb=7-5&ig_cache_key=MzQwMTAyMDczNzE4NjY4NjU3OQ%3D%3D.2-ccb7-5&oh=00_AYANQuWHQDaAiE9XodPc1btNOnXLjU2VsOfsOD7DNBLvjw&oe=6686231F&_nc_sid=2011ad',\n",
       " 'https://instagram.famd5-2.fna.fbcdn.net/v/t51.29350-15/447915493_480875544467688_4362636649211122330_n.jpg?stp=dst-jpg_e15&efg=eyJ2ZW5jb2RlX3RhZyI6ImltYWdlX3VybGdlbi43MjB4MTI4MC5zZHIuZjI5MzUwIn0&_nc_ht=instagram.famd5-2.fna.fbcdn.net&_nc_cat=100&_nc_ohc=Wvmpy6jnjNcQ7kNvgEvWBx4&edm=AGyKU4gBAAAA&ccb=7-5&ig_cache_key=MzM4MzcxODQ2ODU1NjQ0NjgwOQ%3D%3D.2-ccb7-5&oh=00_AYApY7c_GIZWosN6X7ZTaDwait65n3E6tcyxfPHb7nVZYg&oe=668625E1&_nc_sid=2011ad',\n",
       " 'https://instagram.famd5-3.fna.fbcdn.net/v/t51.29350-15/449398452_1657614861681727_3393723311148519195_n.jpg?stp=dst-jpg_e15&efg=eyJ2ZW5jb2RlX3RhZyI6ImltYWdlX3VybGdlbi40NDR4Nzg5LnNkci5mMjkzNTAifQ&_nc_ht=instagram.famd5-3.fna.fbcdn.net&_nc_cat=107&_nc_ohc=51nGxFq6XPcQ7kNvgEizeOq&edm=AGyKU4gBAAAA&ccb=7-5&ig_cache_key=MzQwMTE5MTQwMDQ5MzMyOTI2Mg%3D%3D.2-ccb7-5&oh=00_AYAt2SRAf-Cn07dPawrx485nFbUbcDMckZPX2GoGsEhRhA&oe=66861A16&_nc_sid=2011ad',\n",
       " 'https://instagram.famd5-4.fna.fbcdn.net/v/t51.29350-15/449461998_2206827469674010_1399582263868702548_n.jpg?stp=dst-jpg_e15&efg=eyJ2ZW5jb2RlX3RhZyI6ImltYWdlX3VybGdlbi4xMDgweDE5MjAuc2RyLmYyOTM1MCJ9&_nc_ht=instagram.famd5-4.fna.fbcdn.net&_nc_cat=110&_nc_ohc=ghNj5Q2czhoQ7kNvgHZWT2L&edm=AGyKU4gBAAAA&ccb=7-5&ig_cache_key=MzQwMTAyMjg0MjQ1OTQwNDc0Ng%3D%3D.2-ccb7-5&oh=00_AYDjTm3_PQuvt1CrZF_9cQQDCF9FFuxMBIFxuUDpOtGQ9Q&oe=668603DF&_nc_sid=2011ad',\n",
       " 'https://instagram.famd5-4.fna.fbcdn.net/v/t51.29350-15/449290220_1778424632687855_44376031361790855_n.jpg?stp=dst-jpg_e15&efg=eyJ2ZW5jb2RlX3RhZyI6ImltYWdlX3VybGdlbi40MTZ4NzQwLnNkci5mMjkzNTAifQ&_nc_ht=instagram.famd5-4.fna.fbcdn.net&_nc_cat=111&_nc_ohc=7HtNzSPQc94Q7kNvgGnL601&edm=AGyKU4gBAAAA&ccb=7-5&ig_cache_key=MzQwMTE1MDg1MDQ4NDMwMjY3Nw%3D%3D.2-ccb7-5&oh=00_AYBhI2AjJLtjK-sg5Qb9vpGPpnm0BmVe7yDdy8uk4oAaUQ&oe=66862814&_nc_sid=2011ad',\n",
       " 'https://instagram.famd5-4.fna.fbcdn.net/v/t51.29350-15/449371323_3285013695126611_7211121870643083259_n.jpg?stp=dst-jpg_e15&efg=eyJ2ZW5jb2RlX3RhZyI6ImltYWdlX3VybGdlbi43MjB4MTI4MC5zZHIuZjI5MzUwIn0&_nc_ht=instagram.famd5-4.fna.fbcdn.net&_nc_cat=111&_nc_ohc=Lz8ZqdLDLLEQ7kNvgFd1J5M&edm=AGyKU4gBAAAA&ccb=7-5&ig_cache_key=MzQwMTE1OTM3OTQyNzkyMjA5NQ%3D%3D.2-ccb7-5&oh=00_AYCpQ_pJNZtfLn5QEC7vWFz5mtcXYcPNLOlud80f23iePQ&oe=6685FA6E&_nc_sid=2011ad',\n",
       " 'https://instagram.famd5-2.fna.fbcdn.net/v/t51.29350-15/448236102_3774996022777848_1505490223701730392_n.jpg?stp=dst-jpg_e15&efg=eyJ2ZW5jb2RlX3RhZyI6ImltYWdlX3VybGdlbi43MjB4MTI4MC5zZHIuZjI5MzUwIn0&_nc_ht=instagram.famd5-2.fna.fbcdn.net&_nc_cat=100&_nc_ohc=2-3Jggcv3zgQ7kNvgHaihLN&edm=AGyKU4gBAAAA&ccb=7-5&ig_cache_key=MzM4OTMxMzA0NTM0MzA2NjEwOQ%3D%3D.2-ccb7-5&oh=00_AYAH3gm5FZTf6cR7FKiz4Ni57izjbEQTbgXqG9aRF5Dpkw&oe=668600FC&_nc_sid=2011ad',\n",
       " 'https://instagram.famd5-3.fna.fbcdn.net/v/t51.29350-15/447522786_369356645691930_2828475966223055543_n.jpg?stp=dst-jpg_e15&efg=eyJ2ZW5jb2RlX3RhZyI6ImltYWdlX3VybGdlbi4xMDgweDE5MjAuc2RyLmYyOTM1MCJ9&_nc_ht=instagram.famd5-3.fna.fbcdn.net&_nc_cat=106&_nc_ohc=C3DCNNd7IpgQ7kNvgHSgOp2&edm=AGyKU4gBAAAA&ccb=7-5&ig_cache_key=MzM4MzQ4Njk3MTEwMjg0Njk2NQ%3D%3D.2-ccb7-5&oh=00_AYBemyGQ1G4WtKOj7Lf7qOFxzLYc6Qpar_1oKOiQVdK2lA&oe=66862805&_nc_sid=2011ad',\n",
       " 'https://instagram.famd5-2.fna.fbcdn.net/v/t51.29350-15/444992578_1249824073069488_7807443309987241460_n.jpg?stp=dst-jpg_e15&efg=eyJ2ZW5jb2RlX3RhZyI6ImltYWdlX3VybGdlbi43MjB4MTI4MC5zZHIuZjI5MzUwIn0&_nc_ht=instagram.famd5-2.fna.fbcdn.net&_nc_cat=100&_nc_ohc=F9appvfHc6YQ7kNvgEFqz8c&edm=AGyKU4gBAAAA&ccb=7-5&ig_cache_key=MzM3MTM5NjQxNTAxMDc4MTU1Mg%3D%3D.2-ccb7-5&oh=00_AYCijVUEN7jKYDQp96-_U6RqjlW38cCfA36SOp3PqCufbw&oe=66861C9F&_nc_sid=2011ad',\n",
       " 'https://instagram.famd5-4.fna.fbcdn.net/v/t51.29350-15/448609088_507852518574371_7953990684239417738_n.jpg?stp=dst-jpg_e15&efg=eyJ2ZW5jb2RlX3RhZyI6ImltYWdlX3VybGdlbi41NDB4OTYwLnNkci5mMjkzNTAifQ&_nc_ht=instagram.famd5-4.fna.fbcdn.net&_nc_cat=111&_nc_ohc=qSAbVSg8V3IQ7kNvgGBj4r3&edm=AGyKU4gBAAAA&ccb=7-5&ig_cache_key=MzM5MzE1MTk5ODcwNTQ3MjI4OQ%3D%3D.2-ccb7-5&oh=00_AYAL5H-aC1eZ800GSqlsBrddI32teRV44UNkWlOY9CY8fg&oe=668622E5&_nc_sid=2011ad',\n",
       " 'https://instagram.famd5-1.fna.fbcdn.net/v/t51.29350-15/449213907_810897961067733_1892458270490991330_n.jpg?stp=dst-jpg_e15&efg=eyJ2ZW5jb2RlX3RhZyI6ImltYWdlX3VybGdlbi4zMjB4NTY4LnNkci5mMjkzNTAifQ&_nc_ht=instagram.famd5-1.fna.fbcdn.net&_nc_cat=109&_nc_ohc=vKyavj7uT9wQ7kNvgGDNxgf&edm=AGyKU4gBAAAA&ccb=7-5&ig_cache_key=MzQwMDM0MjM4MjA1Mzc4MDQ3Ng%3D%3D.2-ccb7-5&oh=00_AYBL1TekDAlF8GFRAXmjIYnnJ-mWyAUu2B_aypHM4w0BwQ&oe=66862695&_nc_sid=2011ad',\n",
       " 'https://instagram.famd5-4.fna.fbcdn.net/v/t51.29350-15/449437740_832997784998027_6115484507499438819_n.jpg?stp=dst-jpg_e15&efg=eyJ2ZW5jb2RlX3RhZyI6ImltYWdlX3VybGdlbi4zMjB4NTY4LnNkci5mMjkzNTAifQ&_nc_ht=instagram.famd5-4.fna.fbcdn.net&_nc_cat=111&_nc_ohc=Fppi1sUfy9MQ7kNvgHdjyU8&edm=AGyKU4gBAAAA&ccb=7-5&ig_cache_key=MzQwMDIwMDEzMjMwNDI0MzY4NQ%3D%3D.2-ccb7-5&oh=00_AYC6P9g7BfT8FE9srwrnY1w9AQoDME5R2t4-Wm56aomrHQ&oe=6686072D&_nc_sid=2011ad',\n",
       " 'https://instagram.famd5-1.fna.fbcdn.net/v/t51.29350-15/449045436_1498134827765468_1794486097639508703_n.jpg?stp=dst-jpg_e15&efg=eyJ2ZW5jb2RlX3RhZyI6ImltYWdlX3VybGdlbi40MDd4NzI0LnNkci5mMjkzNTAifQ&_nc_ht=instagram.famd5-1.fna.fbcdn.net&_nc_cat=108&_nc_ohc=65KL1hdb3C8Q7kNvgFvYcfb&edm=AGyKU4gBAAAA&ccb=7-5&ig_cache_key=MzM5NzQ5NDMwNzA0ODE1MzQ1MA%3D%3D.2-ccb7-5&oh=00_AYBNriuwEetWWKys_qYBUSnr00AoD5BZzJbHZSxbaRkS-g&oe=668607F5&_nc_sid=2011ad',\n",
       " 'https://instagram.famd5-3.fna.fbcdn.net/v/t51.29350-15/449433723_1545005483085822_1198337124663953607_n.jpg?stp=dst-jpg_e15&efg=eyJ2ZW5jb2RlX3RhZyI6ImltYWdlX3VybGdlbi4xMDgweDE5MjAuc2RyLmYyOTM1MCJ9&_nc_ht=instagram.famd5-3.fna.fbcdn.net&_nc_cat=106&_nc_ohc=2rhFQ3sB898Q7kNvgGmp2t7&edm=AGyKU4gBAAAA&ccb=7-5&ig_cache_key=MzQwMTIwODcxMzgxODk2MTgxNw%3D%3D.2-ccb7-5&oh=00_AYCBhz--xR0MJN3r-O_HAD2NXEX-Nwdxvd3KiOCm0JjRDA&oe=6685F8FA&_nc_sid=2011ad',\n",
       " 'https://instagram.famd5-3.fna.fbcdn.net/v/t51.29350-15/448315476_1003123031302950_6798717377565628528_n.jpg?stp=dst-jpg_e15&efg=eyJ2ZW5jb2RlX3RhZyI6ImltYWdlX3VybGdlbi41NDB4OTYwLnNkci5mMjkzNTAifQ&_nc_ht=instagram.famd5-3.fna.fbcdn.net&_nc_cat=106&_nc_ohc=l1YjX4Bai1QQ7kNvgGnXZnW&edm=AGyKU4gBAAAA&ccb=7-5&ig_cache_key=MzM4OTk1MDA2NzUzOTc2NTM0Nw%3D%3D.2-ccb7-5&oh=00_AYCC5tMnD8QzJpLodo1RGqiuNmb6v5GEfHSxIc7m9mMBMg&oe=668610CE&_nc_sid=2011ad',\n",
       " 'https://instagram.famd5-3.fna.fbcdn.net/v/t51.29350-15/449367285_314667541612298_4206481380352415603_n.jpg?stp=dst-jpg_e15&efg=eyJ2ZW5jb2RlX3RhZyI6ImltYWdlX3VybGdlbi4zMjB4NTY4LnNkci5mMjkzNTAifQ&_nc_ht=instagram.famd5-3.fna.fbcdn.net&_nc_cat=102&_nc_ohc=-4z_nllvTEIQ7kNvgGoF45o&edm=AGyKU4gBAAAA&ccb=7-5&ig_cache_key=MzQwMDgwODA0OTI3NDQ2MTMyMg%3D%3D.2-ccb7-5&oh=00_AYCes1lCJqgrfZq2y0O01hNPRheXy027t8bsQq8YCeEunw&oe=66861BF4&_nc_sid=2011ad',\n",
       " 'https://instagram.famd5-3.fna.fbcdn.net/v/t39.30808-6/449120949_17969916440738475_802800339417859917_n.jpg?stp=dst-jpegr_e15&efg=eyJ2ZW5jb2RlX3RhZyI6ImltYWdlX3VybGdlbi4xNDQweDE4MDAuaGRyLmYzMDgwOCJ9&_nc_ht=instagram.famd5-3.fna.fbcdn.net&_nc_cat=103&_nc_ohc=Ykqu3NEsG4YQ7kNvgGUhQQ8&edm=AGyKU4gAAAAA&ccb=7-5&ig_cache_key=MzM5Nzk1NjI2NzIzMjY5NjQzOA%3D%3D.2-ccb7-5&oh=00_AYDTPOTmartVgJNFE7Jf8M79Z4XsZtWDZAMWiz5X7It_sQ&oe=66862DE3&_nc_sid=2011ad',\n",
       " 'https://instagram.famd5-1.fna.fbcdn.net/v/t51.29350-15/449319352_1122822975475689_1903159832120150943_n.jpg?stp=dst-jpg_e15&efg=eyJ2ZW5jb2RlX3RhZyI6ImltYWdlX3VybGdlbi4zMjB4NTY4LnNkci5mMjkzNTAifQ&_nc_ht=instagram.famd5-1.fna.fbcdn.net&_nc_cat=109&_nc_ohc=SDAklqGqgyEQ7kNvgFzdJjf&edm=AGyKU4gBAAAA&ccb=7-5&ig_cache_key=MzQwMTIwOTIxMDE5ODI4NTkyMA%3D%3D.2-ccb7-5&oh=00_AYCrly5mQ25r7_QoewCobw2Fav1ola-HatDD0xglhZSQsQ&oe=66862DEB&_nc_sid=2011ad']"
      ]
     },
     "execution_count": 13,
     "metadata": {},
     "output_type": "execute_result"
    }
   ],
   "source": [
    "images = [image.get_attribute('src') for image in images]\n",
    "images"
   ]
  },
  {
   "cell_type": "markdown",
   "id": "3247ad31-ebb3-4a35-a083-d61861728baa",
   "metadata": {},
   "source": [
    "# Save images to computer "
   ]
  },
  {
   "cell_type": "code",
   "execution_count": 14,
   "id": "c7b8c796-1e7e-47c5-bb35-9cb6b7dbb51c",
   "metadata": {},
   "outputs": [
    {
     "data": {
      "text/plain": [
       "'C:\\\\Users\\\\HP\\\\New Assignment\\\\A_Case Study_1\\\\Case Study 2 (Sentimental Analysis)\\\\trendnows'"
      ]
     },
     "execution_count": 14,
     "metadata": {},
     "output_type": "execute_result"
    }
   ],
   "source": [
    "# Save images to computer \n",
    "path = os.getcwd()\n",
    "path = os.path.join(path, keyword[1:] + \"s\")\n",
    "\n",
    "os.mkdir(path)\n",
    "path"
   ]
  },
  {
   "cell_type": "code",
   "execution_count": 15,
   "id": "48f68d2a-ada6-4545-b6ef-334adabd937f",
   "metadata": {},
   "outputs": [
    {
     "name": "stdout",
     "output_type": "stream",
     "text": [
      "100% [..............................................................................] 59246 / 59246"
     ]
    }
   ],
   "source": [
    "#download images\n",
    "counter = 0\n",
    "for image in images[3:]:\n",
    "    save_as = os.path.join(path, keyword + str(counter) + '.jpg')\n",
    "    wget.download(image, save_as)\n",
    "    counter += 1"
   ]
  },
  {
   "cell_type": "code",
   "execution_count": null,
   "id": "a67e79d3-9ca1-47a9-89c0-765baaa488c5",
   "metadata": {},
   "outputs": [],
   "source": []
  }
 ],
 "metadata": {
  "kernelspec": {
   "display_name": "Python 3 (ipykernel)",
   "language": "python",
   "name": "python3"
  },
  "language_info": {
   "codemirror_mode": {
    "name": "ipython",
    "version": 3
   },
   "file_extension": ".py",
   "mimetype": "text/x-python",
   "name": "python",
   "nbconvert_exporter": "python",
   "pygments_lexer": "ipython3",
   "version": "3.11.7"
  }
 },
 "nbformat": 4,
 "nbformat_minor": 5
}
