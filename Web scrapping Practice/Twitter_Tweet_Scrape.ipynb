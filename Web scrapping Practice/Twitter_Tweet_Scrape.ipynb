{
 "cells": [
  {
   "cell_type": "code",
   "execution_count": 1,
   "id": "0ee51d21-d2a9-4e5b-aedd-5eff777cfe36",
   "metadata": {},
   "outputs": [],
   "source": [
    "import selenium\n",
    "from selenium import webdriver\n",
    "from selenium.webdriver.common.keys import Keys\n",
    "from selenium.webdriver.common.by import By\n",
    "from time import sleep\n",
    "\n",
    "\n"
   ]
  },
  {
   "cell_type": "code",
   "execution_count": 2,
   "id": "5c6a1637-1944-4d1f-8f95-b4fc4e6b9937",
   "metadata": {},
   "outputs": [],
   "source": [
    "driver = webdriver.Chrome()\n",
    "driver.get(\"https://twitter.com/Login\")"
   ]
  },
  {
   "cell_type": "code",
   "execution_count": 1,
   "id": "5183c8a9-05aa-46dd-a6f6-5e337d3ccbe2",
   "metadata": {},
   "outputs": [
    {
     "ename": "NameError",
     "evalue": "name 'sleep' is not defined",
     "output_type": "error",
     "traceback": [
      "\u001b[1;31m---------------------------------------------------------------------------\u001b[0m",
      "\u001b[1;31mNameError\u001b[0m                                 Traceback (most recent call last)",
      "Cell \u001b[1;32mIn[1], line 1\u001b[0m\n\u001b[1;32m----> 1\u001b[0m sleep(\u001b[38;5;241m5\u001b[39m)\n\u001b[0;32m      3\u001b[0m \u001b[38;5;66;03m# setup login\u001b[39;00m\n\u001b[0;32m      4\u001b[0m username \u001b[38;5;241m=\u001b[39m driver\u001b[38;5;241m.\u001b[39mfind_element(By\u001b[38;5;241m.\u001b[39mXPATH,\u001b[38;5;124m\"\u001b[39m\u001b[38;5;124m//input[@name=\u001b[39m\u001b[38;5;124m'\u001b[39m\u001b[38;5;124mtext\u001b[39m\u001b[38;5;124m'\u001b[39m\u001b[38;5;124m]\u001b[39m\u001b[38;5;124m\"\u001b[39m)\n",
      "\u001b[1;31mNameError\u001b[0m: name 'sleep' is not defined"
     ]
    }
   ],
   "source": [
    "sleep(5)\n",
    "\n",
    "# setup login\n",
    "username = driver.find_element(By.XPATH,\"//input[@name='text']\")\n",
    "username.send_keys(\"-----\")"
   ]
  },
  {
   "cell_type": "code",
   "execution_count": 4,
   "id": "3f17340b-ba65-4a4a-9628-7fc071a78644",
   "metadata": {},
   "outputs": [],
   "source": [
    "# Click next button\n",
    "sleep(2)\n",
    "next_button = driver.find_element(By.XPATH,\"//span[contains(text(),'Next')]\")\n",
    "next_button.click()"
   ]
  },
  {
   "cell_type": "code",
   "execution_count": 2,
   "id": "36c0fce3-cabd-42c6-96a4-52aaff143a37",
   "metadata": {},
   "outputs": [
    {
     "ename": "NameError",
     "evalue": "name 'sleep' is not defined",
     "output_type": "error",
     "traceback": [
      "\u001b[1;31m---------------------------------------------------------------------------\u001b[0m",
      "\u001b[1;31mNameError\u001b[0m                                 Traceback (most recent call last)",
      "Cell \u001b[1;32mIn[2], line 2\u001b[0m\n\u001b[0;32m      1\u001b[0m \u001b[38;5;66;03m# password\u001b[39;00m\n\u001b[1;32m----> 2\u001b[0m sleep(\u001b[38;5;241m2\u001b[39m)\n\u001b[0;32m      3\u001b[0m password \u001b[38;5;241m=\u001b[39m driver\u001b[38;5;241m.\u001b[39mfind_element(By\u001b[38;5;241m.\u001b[39mXPATH,\u001b[38;5;124m\"\u001b[39m\u001b[38;5;124m//input[@name=\u001b[39m\u001b[38;5;124m'\u001b[39m\u001b[38;5;124mpassword\u001b[39m\u001b[38;5;124m'\u001b[39m\u001b[38;5;124m]\u001b[39m\u001b[38;5;124m\"\u001b[39m)\n\u001b[0;32m      4\u001b[0m password\u001b[38;5;241m.\u001b[39msend_keys(\u001b[38;5;124m\"\u001b[39m\u001b[38;5;124m------\u001b[39m\u001b[38;5;124m\"\u001b[39m)\n",
      "\u001b[1;31mNameError\u001b[0m: name 'sleep' is not defined"
     ]
    }
   ],
   "source": [
    "# password\n",
    "sleep(2)\n",
    "password = driver.find_element(By.XPATH,\"//input[@name='password']\")\n",
    "password.send_keys(\"------\")"
   ]
  },
  {
   "cell_type": "code",
   "execution_count": 6,
   "id": "04c63844-3176-4561-abab-d601deabdc56",
   "metadata": {},
   "outputs": [],
   "source": [
    "# log in \n",
    "sleep(2)\n",
    "login_button = driver.find_element(By.XPATH,\"//span[contains(text(),'Log in')]\")\n",
    "login_button.click()"
   ]
  },
  {
   "cell_type": "markdown",
   "id": "742aaa5e-b05d-4e5c-98ab-48cd1756b21a",
   "metadata": {},
   "source": [
    "##### click search button manually "
   ]
  },
  {
   "cell_type": "code",
   "execution_count": 8,
   "id": "67c91617-6459-4aed-a2ae-9fbead03b464",
   "metadata": {},
   "outputs": [],
   "source": [
    "# search\n",
    "subject = \"ElonMusk\"\n",
    "sleep = 5\n",
    "search_box = driver.find_element(By.XPATH,\"//input[@data-testid='SearchBox_Search_Input']\")\n",
    "search_box.send_keys(subject)\n",
    "search_box.send_keys(Keys.ENTER)"
   ]
  },
  {
   "cell_type": "code",
   "execution_count": 9,
   "id": "9a7a4a7f-db07-42f1-8564-603c1cd128cb",
   "metadata": {},
   "outputs": [],
   "source": [
    "sleep = 5\n",
    "people = driver.find_element(By.XPATH,\"//span[contains(text(),'People')]\")\n",
    "people.click()"
   ]
  },
  {
   "cell_type": "code",
   "execution_count": 11,
   "id": "39a9a47d-097a-4a06-985a-fe32912a74ba",
   "metadata": {},
   "outputs": [],
   "source": [
    "# profile click   # Copy XPATH\n",
    "sleep = 3\n",
    "profile = driver.find_element(By.XPATH,\"//*[@id='react-root']/div/div/div[2]/main/div/div/div/div/div/div[3]/section/div/div/div[1]/div/div/button/div/div[2]/div/div[1]/div/div[1]/a/div/div[1]/span/span\")\n",
    "profile.click()"
   ]
  },
  {
   "cell_type": "code",
   "execution_count": 12,
   "id": "7d191ecc-9fbd-42ad-aa76-ad7690c9f9cf",
   "metadata": {},
   "outputs": [
    {
     "name": "stdout",
     "output_type": "stream",
     "text": [
      "Elon Musk\n",
      "@elonmusk\n",
      "·\n",
      "Jun 29\n"
     ]
    }
   ],
   "source": [
    "# Tag of User \n",
    "\n",
    "UserTag = driver.find_element(By.XPATH,\"//div[@data-testid='User-Name']\").text\n",
    "print(UserTag)"
   ]
  },
  {
   "cell_type": "code",
   "execution_count": 13,
   "id": "aa313693-d6bd-435e-848f-e0b2ba078c92",
   "metadata": {},
   "outputs": [
    {
     "name": "stdout",
     "output_type": "stream",
     "text": [
      "2024-06-29T06:46:44.000Z\n"
     ]
    }
   ],
   "source": [
    "# Time Stamp\n",
    "TimeStamp = driver.find_element(By.XPATH,\"//time\").get_attribute('datetime')\n",
    "print(TimeStamp)"
   ]
  },
  {
   "cell_type": "code",
   "execution_count": 14,
   "id": "7809fda8-9048-448e-a53f-9f0a552a2bc6",
   "metadata": {},
   "outputs": [
    {
     "name": "stdout",
     "output_type": "stream",
     "text": [
      "𝕏 US usage reaches all-time high! \n",
      "\n",
      "76B total user-seconds in the US, beating the previous record by 5%.\n"
     ]
    }
   ],
   "source": [
    "Tweet = driver.find_element(By.XPATH,\"//div[@data-testid='tweetText']\").text\n",
    "print(Tweet)"
   ]
  },
  {
   "cell_type": "code",
   "execution_count": 15,
   "id": "d95dbf52-fe57-4a66-9919-03025463c603",
   "metadata": {},
   "outputs": [
    {
     "data": {
      "text/plain": [
       "'7.5K'"
      ]
     },
     "execution_count": 15,
     "metadata": {},
     "output_type": "execute_result"
    }
   ],
   "source": [
    "Reply = driver.find_element(By.XPATH,\"//*[@data-testid='reply']\").text\n",
    "#//*[@id=\"id__fsjiu7a1kac\"]/div[1]/button\n",
    "Reply"
   ]
  },
  {
   "cell_type": "code",
   "execution_count": 16,
   "id": "69be532b-65db-4603-90c2-9daf0d0ab7fb",
   "metadata": {},
   "outputs": [
    {
     "data": {
      "text/plain": [
       "'9.6K'"
      ]
     },
     "execution_count": 16,
     "metadata": {},
     "output_type": "execute_result"
    }
   ],
   "source": [
    "ReTweet = driver.find_element(By.XPATH,\"//*[@data-testid='retweet']\").text\n",
    "#//*[@id=\"id__fsjiu7a1kac\"]/div[2]/button\n",
    "ReTweet"
   ]
  },
  {
   "cell_type": "code",
   "execution_count": 17,
   "id": "fb7cec51-fcb4-4a53-a6e3-b3b6099dea10",
   "metadata": {},
   "outputs": [
    {
     "data": {
      "text/plain": [
       "'99K'"
      ]
     },
     "execution_count": 17,
     "metadata": {},
     "output_type": "execute_result"
    }
   ],
   "source": [
    "Like = driver.find_element(By.XPATH,\"//*[@data-testid='like']\").text\n",
    "Like"
   ]
  },
  {
   "cell_type": "code",
   "execution_count": 18,
   "id": "650e02ca-b6ae-490d-bc92-152bbd65814f",
   "metadata": {},
   "outputs": [
    {
     "name": "stdout",
     "output_type": "stream",
     "text": [
      "Elon Musk\n",
      "@elonmusk\n",
      "·\n",
      "Jun 29 2024-06-29T06:46:44.000Z 𝕏 US usage reaches all-time high! \n",
      "\n",
      "76B total user-seconds in the US, beating the previous record by 5%. 7.5K 9.6K 99K\n"
     ]
    }
   ],
   "source": [
    "print(UserTag,TimeStamp,Tweet,Reply,ReTweet,Like)"
   ]
  },
  {
   "cell_type": "markdown",
   "id": "8a38e84b-de62-4608-8f39-81ffea3364ae",
   "metadata": {},
   "source": [
    "# Find Complets Tweets available on page "
   ]
  },
  {
   "cell_type": "code",
   "execution_count": 19,
   "id": "4c5bd982-e99e-46b0-a6c0-271802ad99be",
   "metadata": {},
   "outputs": [
    {
     "data": {
      "text/plain": [
       "[<selenium.webdriver.remote.webelement.WebElement (session=\"3e73a4802c68831f6d7cd3edd6e76112\", element=\"f.BE42E4F18E32CCEE8DC1E392D9931432.d.8ABED9A68C35004E15C4CD015BA2B413.e.239\")>,\n",
       " <selenium.webdriver.remote.webelement.WebElement (session=\"3e73a4802c68831f6d7cd3edd6e76112\", element=\"f.BE42E4F18E32CCEE8DC1E392D9931432.d.8ABED9A68C35004E15C4CD015BA2B413.e.240\")>,\n",
       " <selenium.webdriver.remote.webelement.WebElement (session=\"3e73a4802c68831f6d7cd3edd6e76112\", element=\"f.BE42E4F18E32CCEE8DC1E392D9931432.d.8ABED9A68C35004E15C4CD015BA2B413.e.241\")>,\n",
       " <selenium.webdriver.remote.webelement.WebElement (session=\"3e73a4802c68831f6d7cd3edd6e76112\", element=\"f.BE42E4F18E32CCEE8DC1E392D9931432.d.8ABED9A68C35004E15C4CD015BA2B413.e.242\")>]"
      ]
     },
     "execution_count": 19,
     "metadata": {},
     "output_type": "execute_result"
    }
   ],
   "source": [
    "articles = driver.find_elements(By.XPATH,\"//article[@data-testid='tweet']\")\n",
    "articles"
   ]
  },
  {
   "cell_type": "code",
   "execution_count": 20,
   "id": "d6eea46c-f4d5-45d1-870e-fdbaaf6e2bbc",
   "metadata": {},
   "outputs": [
    {
     "data": {
      "text/plain": [
       "4"
      ]
     },
     "execution_count": 20,
     "metadata": {},
     "output_type": "execute_result"
    }
   ],
   "source": [
    "len(articles)"
   ]
  },
  {
   "cell_type": "code",
   "execution_count": 21,
   "id": "cb4fb6be-11bb-4b00-8b05-aff3531ba423",
   "metadata": {},
   "outputs": [],
   "source": [
    "UserTags=[]\n",
    "TimeStamps=[]\n",
    "Tweets=[]\n",
    "Replys=[]\n",
    "ReTweets=[]\n",
    "Likes=[]\n"
   ]
  },
  {
   "cell_type": "code",
   "execution_count": 32,
   "id": "7514960e-1cbb-48ec-878c-bab8a92ba69b",
   "metadata": {},
   "outputs": [],
   "source": [
    "while True:\n",
    "    for article in articles:\n",
    "        UserTag = driver.find_element(By.XPATH,\".//div[@data-testid='User-Name']\").text\n",
    "        UserTags.append(UserTag)\n",
    "        \n",
    "        TimeStamp = driver.find_element(By.XPATH,\".//time\").get_attribute('datetime')\n",
    "        TimeStamps.append(TimeStamp)\n",
    "        \n",
    "        Tweet = driver.find_element(By.XPATH,\".//div[@data-testid='tweetText']\").text\n",
    "        Tweets.append(Tweet)\n",
    "        \n",
    "        Reply = driver.find_element(By.XPATH,\".//*[@data-testid='reply']\").text\n",
    "        Replys.append(Reply)\n",
    "        \n",
    "        ReTweet = driver.find_element(By.XPATH,\".//*[@data-testid='retweet']\").text\n",
    "        ReTweets.append(ReTweet)\n",
    "        \n",
    "        Like = driver.find_element(By.XPATH,\".//*[@data-testid='like']\").text\n",
    "        Likes.append(Like)\n",
    "        #print(UserTags,TimeStamps,Tweets,Replys,ReTweets)\n",
    "\n",
    "    \n",
    "    driver.execute_script('window.scrollTo(0,document.body.scrollHeight);')\n",
    "    sleep=3\n",
    "    articles = driver.find_elements(By.XPATH,\"//article[@data-testid='tweet']\")\n",
    "    Tweets2 = list(set(Tweets))\n",
    "    if len(Tweets2) > 5:\n",
    "        break"
   ]
  },
  {
   "cell_type": "code",
   "execution_count": null,
   "id": "b2243731-e93c-4c9e-a2fb-840f5e0579c2",
   "metadata": {},
   "outputs": [],
   "source": []
  },
  {
   "cell_type": "code",
   "execution_count": 33,
   "id": "f2964f32-55a7-41e8-a647-72a77f512592",
   "metadata": {},
   "outputs": [
    {
     "name": "stdout",
     "output_type": "stream",
     "text": [
      "94 94 94 94 94 94\n"
     ]
    }
   ],
   "source": [
    "print(len(UserTags),\n",
    "len(TimeStamps),\n",
    "len(Tweets),\n",
    "len(Replys),\n",
    "len(ReTweets),\n",
    "len(Likes))"
   ]
  },
  {
   "cell_type": "code",
   "execution_count": 35,
   "id": "423825fb-c3a2-4de3-8fc6-45319b2c63c1",
   "metadata": {},
   "outputs": [
    {
     "data": {
      "text/plain": [
       "0"
      ]
     },
     "execution_count": 35,
     "metadata": {},
     "output_type": "execute_result"
    }
   ],
   "source": [
    "import pandas as pd\n",
    "\n",
    "df = pd.DataFrame(zip(UserTags,TimeStamps,Tweets,Replys,ReTweets,Likes)\n",
    "                  ,columns=['UserTags','TimeStamps','Tweets','Replys','ReTweets','Likes'])\n",
    "\n",
    "df.head()\n",
    "#'C:\\\\Users\\\\HP\\\\New Assignment\\\\A_Case Study_1\\\\Case Study 2 (Sentimental Analysis)\\\\trendnows'\n",
    "df.to_excel(r\"C:\\\\Users\\\\HP\\\\New Assignment\\\\A_Case Study_1\\\\Case Study 2 (Sentimental Analysis)\\\\tweets_live.xlsx\",index=False)\n",
    "\n",
    "import os\n",
    "os.system('start \"excel\" \"C:\\\\Users\\\\HP\\\\New Assignment\\\\A_Case Study_1\\\\Case Study 2 (Sentimental Analysis)\\\\tweets_live.xlsx\"')"
   ]
  },
  {
   "cell_type": "markdown",
   "id": "b693cbf5-e564-4f2e-acd5-78a72794887b",
   "metadata": {},
   "source": [
    "### Last Steps Remove Duplicates in usertaggs in generated excel"
   ]
  },
  {
   "cell_type": "code",
   "execution_count": null,
   "id": "0d2146a4-35fa-45bb-8b13-e3ef427662be",
   "metadata": {},
   "outputs": [],
   "source": []
  }
 ],
 "metadata": {
  "kernelspec": {
   "display_name": "Python 3 (ipykernel)",
   "language": "python",
   "name": "python3"
  },
  "language_info": {
   "codemirror_mode": {
    "name": "ipython",
    "version": 3
   },
   "file_extension": ".py",
   "mimetype": "text/x-python",
   "name": "python",
   "nbconvert_exporter": "python",
   "pygments_lexer": "ipython3",
   "version": "3.11.7"
  }
 },
 "nbformat": 4,
 "nbformat_minor": 5
}
